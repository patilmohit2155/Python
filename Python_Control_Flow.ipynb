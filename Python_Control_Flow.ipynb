{
  "nbformat": 4,
  "nbformat_minor": 0,
  "metadata": {
    "colab": {
      "provenance": []
    },
    "kernelspec": {
      "name": "python3",
      "display_name": "Python 3"
    },
    "language_info": {
      "name": "python"
    }
  },
  "cells": [
    {
      "cell_type": "markdown",
      "source": [
        "# Basic If-Else Statements:"
      ],
      "metadata": {
        "id": "BJa-HAMlVvxN"
      }
    },
    {
      "cell_type": "code",
      "execution_count": 1,
      "metadata": {
        "colab": {
          "base_uri": "https://localhost:8080/"
        },
        "id": "0OPV3P_CTdZe",
        "outputId": "f1dbafba-fc13-4ff0-d2f0-05fc9e3b08d2"
      },
      "outputs": [
        {
          "output_type": "stream",
          "name": "stdout",
          "text": [
            "Enter a number: 34\n",
            "The number is positive.\n"
          ]
        }
      ],
      "source": [
        "# 1. Write a Python program to check if a given number is positive or negative.\n",
        "\n",
        "# Define a number\n",
        "number = int(input(\"Enter a number: \"))\n",
        "\n",
        "# Check if the number is positive or negative\n",
        "if number > 0:\n",
        "    print(\"The number is positive.\")\n",
        "elif number < 0:\n",
        "    print(\"The number is negative.\")\n",
        "else:\n",
        "    print(\"The number is zero.\")\n"
      ]
    },
    {
      "cell_type": "code",
      "source": [
        "# 2. Create a program that determines if a person is eligible to vote based on their age.\n",
        "\n",
        "# Define the age\n",
        "age = int(input(\"Enter your age: \"))\n",
        "\n",
        "# Check if the person is eligible to vote\n",
        "if age >= 18:\n",
        "    print(\"You are eligible to vote.\")\n",
        "else:\n",
        "    print(\"You are not eligible to vote.\")\n"
      ],
      "metadata": {
        "colab": {
          "base_uri": "https://localhost:8080/"
        },
        "id": "hF6wiVd5TeGx",
        "outputId": "2a00e850-8cd6-48a6-c59d-7e8ce45ba445"
      },
      "execution_count": 2,
      "outputs": [
        {
          "output_type": "stream",
          "name": "stdout",
          "text": [
            "Enter your age: 24\n",
            "You are eligible to vote.\n"
          ]
        }
      ]
    },
    {
      "cell_type": "code",
      "source": [
        "# 3. Develop a program to find the maximum of two numbers using if-else statements.\n",
        "\n",
        "# Define two numbers\n",
        "num1 = float(input(\"Enter the first number: \"))\n",
        "num2 = float(input(\"Enter the second number: \"))\n",
        "\n",
        "# Find the maximum of the two numbers\n",
        "if num1 > num2:\n",
        "    print(f\"The maximum number is {num1}.\")\n",
        "else:\n",
        "    print(f\"The maximum number is {num2}.\")\n"
      ],
      "metadata": {
        "colab": {
          "base_uri": "https://localhost:8080/"
        },
        "id": "udoNr0u1ThkD",
        "outputId": "322074cd-d74e-4271-f5c4-d5ae9129aec0"
      },
      "execution_count": 3,
      "outputs": [
        {
          "output_type": "stream",
          "name": "stdout",
          "text": [
            "Enter the first number: 23\n",
            "Enter the second number: 44\n",
            "The maximum number is 44.0.\n"
          ]
        }
      ]
    },
    {
      "cell_type": "code",
      "source": [
        "# 4. Write a Python script to classify a given year as a leap year or not.\n",
        "\n",
        "# Define the year\n",
        "year = int(input(\"Enter a year: \"))\n",
        "\n",
        "# Check if the year is a leap year\n",
        "if (year % 4 == 0 and year % 100 != 0) or (year % 400 == 0):\n",
        "    print(f\"{year} is a leap year.\")\n",
        "else:\n",
        "    print(f\"{year} is not a leap year.\")\n"
      ],
      "metadata": {
        "colab": {
          "base_uri": "https://localhost:8080/"
        },
        "id": "YG-KBE3QTpKq",
        "outputId": "b6dd55aa-8a88-4aa2-88be-c10d5524c134"
      },
      "execution_count": 4,
      "outputs": [
        {
          "output_type": "stream",
          "name": "stdout",
          "text": [
            "Enter a year: 2027\n",
            "2027 is not a leap year.\n"
          ]
        }
      ]
    },
    {
      "cell_type": "code",
      "source": [
        "# 5. Create a program that checks whether a character is a vowel or a consonant.\n",
        "\n",
        "# Define a character\n",
        "char = input(\"Enter a character: \").lower()\n",
        "\n",
        "# Check if the character is a vowel or consonant\n",
        "if char in 'aeiou':\n",
        "    print(f\"{char} is a vowel.\")\n",
        "else:\n",
        "    print(f\"{char} is a consonant.\")\n"
      ],
      "metadata": {
        "colab": {
          "base_uri": "https://localhost:8080/"
        },
        "id": "N99XvQL-TuIz",
        "outputId": "5e2d1fd3-1ea5-4808-f0ff-74d4ef304c2d"
      },
      "execution_count": 5,
      "outputs": [
        {
          "output_type": "stream",
          "name": "stdout",
          "text": [
            "Enter a character: i\n",
            "i is a vowel.\n"
          ]
        }
      ]
    },
    {
      "cell_type": "code",
      "source": [
        "# 6. Implement a program to determine whether a given number is even or odd.\n",
        "\n",
        "# Define a number\n",
        "number = int(input(\"Enter a number: \"))\n",
        "\n",
        "# Check if the number is even or odd\n",
        "if number % 2 == 0:\n",
        "    print(f\"{number} is even.\")\n",
        "else:\n",
        "    print(f\"{number} is odd.\")\n"
      ],
      "metadata": {
        "colab": {
          "base_uri": "https://localhost:8080/"
        },
        "id": "f1nXgngCTxvt",
        "outputId": "2e0db0cf-7f7c-41df-835b-c981e78e0e5d"
      },
      "execution_count": 6,
      "outputs": [
        {
          "output_type": "stream",
          "name": "stdout",
          "text": [
            "Enter a number: 31\n",
            "31 is odd.\n"
          ]
        }
      ]
    },
    {
      "cell_type": "code",
      "source": [
        "# 7. Write a Python function to calculate the absolute value of a number without using the `abs()` function.\n",
        "\n",
        "def absolute_value(number):\n",
        "    return number if number >= 0 else -number\n",
        "\n",
        "# Test the function\n",
        "num = float(input(\"Enter a number: \"))\n",
        "print(f\"The absolute value is {absolute_value(num)}.\")\n"
      ],
      "metadata": {
        "colab": {
          "base_uri": "https://localhost:8080/"
        },
        "id": "pMWochuZT2NB",
        "outputId": "154d6c25-11b2-4cc0-9476-78df44ee5868"
      },
      "execution_count": 7,
      "outputs": [
        {
          "output_type": "stream",
          "name": "stdout",
          "text": [
            "Enter a number: 11\n",
            "The absolute value is 11.0.\n"
          ]
        }
      ]
    },
    {
      "cell_type": "code",
      "source": [
        "# 8. Develop a program that determines the largest of three given numbers using if-else statements.\n",
        "\n",
        "# Define three numbers\n",
        "num1 = float(input(\"Enter the first number: \"))\n",
        "num2 = float(input(\"Enter the second number: \"))\n",
        "num3 = float(input(\"Enter the third number: \"))\n",
        "\n",
        "# Determine the largest number\n",
        "if num1 >= num2 and num1 >= num3:\n",
        "    print(f\"The largest number is {num1}.\")\n",
        "elif num2 >= num1 and num2 >= num3:\n",
        "    print(f\"The largest number is {num2}.\")\n",
        "else:\n",
        "    print(f\"The largest number is {num3}.\")\n"
      ],
      "metadata": {
        "colab": {
          "base_uri": "https://localhost:8080/"
        },
        "id": "FBO1AStVT6Ma",
        "outputId": "dc59be46-2446-4a27-d15f-131d1c6d8efe"
      },
      "execution_count": 8,
      "outputs": [
        {
          "output_type": "stream",
          "name": "stdout",
          "text": [
            "Enter the first number: 21\n",
            "Enter the second number: 32\n",
            "Enter the third number: 1\n",
            "The largest number is 32.0.\n"
          ]
        }
      ]
    },
    {
      "cell_type": "code",
      "source": [
        "# 9. Create a program that checks if a given string is a palindrome.\n",
        "\n",
        "# Define a string\n",
        "string = input(\"Enter a string: \").lower()\n",
        "\n",
        "# Check if the string is a palindrome\n",
        "if string == string[::-1]:\n",
        "    print(f\"'{string}' is a palindrome.\")\n",
        "else:\n",
        "    print(f\"'{string}' is not a palindrome.\")\n"
      ],
      "metadata": {
        "colab": {
          "base_uri": "https://localhost:8080/"
        },
        "id": "SOpqXKOWUBbi",
        "outputId": "82a34810-d968-45b0-b94f-a1df12f1bf0b"
      },
      "execution_count": 9,
      "outputs": [
        {
          "output_type": "stream",
          "name": "stdout",
          "text": [
            "Enter a string: naan\n",
            "'naan' is a palindrome.\n"
          ]
        }
      ]
    },
    {
      "cell_type": "code",
      "source": [
        "# 10. Write a Python program to calculate the grade based on a student's score.\n",
        "\n",
        "# Define the score\n",
        "score = float(input(\"Enter the score: \"))\n",
        "\n",
        "# Determine the grade based on the score\n",
        "if score >= 90:\n",
        "    grade = 'A'\n",
        "elif score >= 80:\n",
        "    grade = 'B'\n",
        "elif score >= 70:\n",
        "    grade = 'C'\n",
        "elif score >= 60:\n",
        "    grade = 'D'\n",
        "else:\n",
        "    grade = 'F'\n",
        "\n",
        "print(f\"The grade is {grade}.\")\n"
      ],
      "metadata": {
        "colab": {
          "base_uri": "https://localhost:8080/"
        },
        "id": "9qKc14iYUFyq",
        "outputId": "498f8f43-7ff5-410e-c009-fb0e4f94e467"
      },
      "execution_count": 10,
      "outputs": [
        {
          "output_type": "stream",
          "name": "stdout",
          "text": [
            "Enter the score: 83\n",
            "The grade is B.\n"
          ]
        }
      ]
    },
    {
      "cell_type": "code",
      "source": [
        "# 11. Write a program to find the largest among three numbers using nested if-else statements.\n",
        "\n",
        "# Define three numbers\n",
        "num1 = 10\n",
        "num2 = 20\n",
        "num3 = 30\n",
        "\n",
        "# Find the largest number using nested if-else statements\n",
        "if num1 >= num2:\n",
        "    if num1 >= num3:\n",
        "        largest = num1\n",
        "    else:\n",
        "        largest = num3\n",
        "else:\n",
        "    if num2 >= num3:\n",
        "        largest = num2\n",
        "    else:\n",
        "        largest = num3\n",
        "\n",
        "print(f\"The largest number is {largest}.\")\n"
      ],
      "metadata": {
        "colab": {
          "base_uri": "https://localhost:8080/"
        },
        "id": "ctcAUvOyUN3Z",
        "outputId": "c58c2d97-720b-4713-ba9b-cd980b56829d"
      },
      "execution_count": 11,
      "outputs": [
        {
          "output_type": "stream",
          "name": "stdout",
          "text": [
            "The largest number is 30.\n"
          ]
        }
      ]
    },
    {
      "cell_type": "code",
      "source": [
        "# 12. Implement a program to determine if a triangle is equilateral, isosceles, or scalene.\n",
        "\n",
        "# Define the lengths of the sides of the triangle\n",
        "a = 5\n",
        "b = 5\n",
        "c = 8\n",
        "\n",
        "# Determine the type of triangle\n",
        "if a == b == c:\n",
        "    triangle_type = \"Equilateral\"\n",
        "elif a == b or b == c or a == c:\n",
        "    triangle_type = \"Isosceles\"\n",
        "else:\n",
        "    triangle_type = \"Scalene\"\n",
        "\n",
        "print(f\"The triangle is {triangle_type}.\")\n"
      ],
      "metadata": {
        "colab": {
          "base_uri": "https://localhost:8080/"
        },
        "id": "9nZb3-35Uihx",
        "outputId": "62f26a25-ac5b-4659-8eb2-c52abb61cc0a"
      },
      "execution_count": 12,
      "outputs": [
        {
          "output_type": "stream",
          "name": "stdout",
          "text": [
            "The triangle is Isosceles.\n"
          ]
        }
      ]
    },
    {
      "cell_type": "code",
      "source": [
        "# 13. Develop a program that checks if a year is a leap year and also if it is a century year.\n",
        "\n",
        "# Define the year\n",
        "year = 2000\n",
        "\n",
        "# Check if the year is a leap year\n",
        "is_leap = (year % 4 == 0 and year % 100 != 0) or (year % 400 == 0)\n",
        "# Check if the year is a century year\n",
        "is_century = year % 100 == 0\n",
        "\n",
        "print(f\"Year {year} is a leap year: {is_leap}\")\n",
        "print(f\"Year {year} is a century year: {is_century}\")\n"
      ],
      "metadata": {
        "colab": {
          "base_uri": "https://localhost:8080/"
        },
        "id": "4ODGWVQDUkmh",
        "outputId": "53212e6b-acef-44f2-fd75-b6946eb47ed5"
      },
      "execution_count": 13,
      "outputs": [
        {
          "output_type": "stream",
          "name": "stdout",
          "text": [
            "Year 2000 is a leap year: True\n",
            "Year 2000 is a century year: True\n"
          ]
        }
      ]
    },
    {
      "cell_type": "code",
      "source": [
        "# 14. Write a Python script to determine if a number is positive, negative, or zero.\n",
        "\n",
        "# Define a number\n",
        "number = -5\n",
        "\n",
        "# Determine if the number is positive, negative, or zero\n",
        "if number > 0:\n",
        "    result = \"positive\"\n",
        "elif number < 0:\n",
        "    result = \"negative\"\n",
        "else:\n",
        "    result = \"zero\"\n",
        "\n",
        "print(f\"The number is {result}.\")\n"
      ],
      "metadata": {
        "colab": {
          "base_uri": "https://localhost:8080/"
        },
        "id": "N18E8zpWUn4M",
        "outputId": "72f76f31-19c6-4259-ee40-0d2c3c9f2434"
      },
      "execution_count": 14,
      "outputs": [
        {
          "output_type": "stream",
          "name": "stdout",
          "text": [
            "The number is negative.\n"
          ]
        }
      ]
    },
    {
      "cell_type": "code",
      "source": [
        "# 15. Create a program to check if a person is a teenager (between 13 and 19 years old).\n",
        "\n",
        "# Define the age\n",
        "age = 16\n",
        "\n",
        "# Check if the person is a teenager\n",
        "if 13 <= age <= 19:\n",
        "    result = \"a teenager\"\n",
        "else:\n",
        "    result = \"not a teenager\"\n",
        "\n",
        "print(f\"The person is {result}.\")\n"
      ],
      "metadata": {
        "colab": {
          "base_uri": "https://localhost:8080/"
        },
        "id": "i_3y8vpaUp13",
        "outputId": "cec1796a-62c4-4caf-e748-fdca4d487df3"
      },
      "execution_count": 15,
      "outputs": [
        {
          "output_type": "stream",
          "name": "stdout",
          "text": [
            "The person is a teenager.\n"
          ]
        }
      ]
    },
    {
      "cell_type": "code",
      "source": [
        "# 16. Develop a program that determines the type of angle based on its measure (acute, obtuse, or right).\n",
        "\n",
        "# Define the angle\n",
        "angle = 90\n",
        "\n",
        "# Determine the type of angle\n",
        "if angle < 90:\n",
        "    angle_type = \"acute\"\n",
        "elif angle == 90:\n",
        "    angle_type = \"right\"\n",
        "else:\n",
        "    angle_type = \"obtuse\"\n",
        "\n",
        "print(f\"The angle is {angle_type}.\")\n"
      ],
      "metadata": {
        "colab": {
          "base_uri": "https://localhost:8080/"
        },
        "id": "JHw2Z-HTUrbq",
        "outputId": "8e299c19-c333-40c3-dd91-f06c7c41a70b"
      },
      "execution_count": 16,
      "outputs": [
        {
          "output_type": "stream",
          "name": "stdout",
          "text": [
            "The angle is right.\n"
          ]
        }
      ]
    },
    {
      "cell_type": "code",
      "source": [
        "# 17. Write a Python program to calculate the roots of a quadratic equation.\n",
        "\n",
        "import cmath\n",
        "\n",
        "# Define the coefficients of the quadratic equation\n",
        "a = 1\n",
        "b = -3\n",
        "c = 2\n",
        "\n",
        "# Calculate the discriminant\n",
        "d = b**2 - 4*a*c\n",
        "\n",
        "# Calculate the roots using the quadratic formula\n",
        "root1 = (-b + cmath.sqrt(d)) / (2 * a)\n",
        "root2 = (-b - cmath.sqrt(d)) / (2 * a)\n",
        "\n",
        "print(f\"The roots of the quadratic equation are {root1} and {root2}.\")\n"
      ],
      "metadata": {
        "colab": {
          "base_uri": "https://localhost:8080/"
        },
        "id": "qkpKF5F_Uu0Q",
        "outputId": "45c2104e-4f6e-49f7-c9bb-51b5923f8b14"
      },
      "execution_count": 17,
      "outputs": [
        {
          "output_type": "stream",
          "name": "stdout",
          "text": [
            "The roots of the quadratic equation are (2+0j) and (1+0j).\n"
          ]
        }
      ]
    },
    {
      "cell_type": "code",
      "source": [
        "# 18. Implement a program to determine the day of the week based on a number (1 for Monday, 2 for Tuesday, etc.).\n",
        "\n",
        "# Define the number corresponding to the day of the week\n",
        "day_number = 4\n",
        "\n",
        "# Determine the day of the week\n",
        "days_of_week = {\n",
        "    1: \"Monday\",\n",
        "    2: \"Tuesday\",\n",
        "    3: \"Wednesday\",\n",
        "    4: \"Thursday\",\n",
        "    5: \"Friday\",\n",
        "    6: \"Saturday\",\n",
        "    7: \"Sunday\"\n",
        "}\n",
        "\n",
        "day = days_of_week.get(day_number, \"Invalid day number\")\n",
        "\n",
        "print(f\"The day of the week is {day}.\")\n"
      ],
      "metadata": {
        "colab": {
          "base_uri": "https://localhost:8080/"
        },
        "id": "uNOMTyOrUyj-",
        "outputId": "e9ecfbb3-03cc-409a-ea4e-6a167f7fdd71"
      },
      "execution_count": 18,
      "outputs": [
        {
          "output_type": "stream",
          "name": "stdout",
          "text": [
            "The day of the week is Thursday.\n"
          ]
        }
      ]
    },
    {
      "cell_type": "code",
      "source": [
        "# 19. Create a program that determines if a year is a leap year and also if it is evenly divisible by 400.\n",
        "\n",
        "# Define the year\n",
        "year = 2400\n",
        "\n",
        "# Check if the year is a leap year\n",
        "is_leap = (year % 4 == 0 and year % 100 != 0) or (year % 400 == 0)\n",
        "# Check if the year is evenly divisible by 400\n",
        "divisible_by_400 = year % 400 == 0\n",
        "\n",
        "print(f\"Year {year} is a leap year: {is_leap}\")\n",
        "print(f\"Year {year} is divisible by 400: {divisible_by_400}\")\n"
      ],
      "metadata": {
        "colab": {
          "base_uri": "https://localhost:8080/"
        },
        "id": "jQhWqCahU1cI",
        "outputId": "80e70db5-6580-42c9-da7d-22d271f773c7"
      },
      "execution_count": 19,
      "outputs": [
        {
          "output_type": "stream",
          "name": "stdout",
          "text": [
            "Year 2400 is a leap year: True\n",
            "Year 2400 is divisible by 400: True\n"
          ]
        }
      ]
    },
    {
      "cell_type": "code",
      "source": [
        "# 20. Develop a program that checks if a given number is prime or not using nested if-else statements.\n",
        "\n",
        "# Define the number\n",
        "number = 29\n",
        "\n",
        "# Check if the number is prime\n",
        "if number > 1:\n",
        "    is_prime = True\n",
        "    for i in range(2, int(number ** 0.5) + 1):\n",
        "        if number % i == 0:\n",
        "            is_prime = False\n",
        "            break\n",
        "else:\n",
        "    is_prime = False\n",
        "\n",
        "print(f\"The number {number} is prime: {is_prime}.\")\n"
      ],
      "metadata": {
        "colab": {
          "base_uri": "https://localhost:8080/"
        },
        "id": "NgloRRb4U3mo",
        "outputId": "24cf266e-9136-4856-a78e-f4fd3bda99b0"
      },
      "execution_count": 20,
      "outputs": [
        {
          "output_type": "stream",
          "name": "stdout",
          "text": [
            "The number 29 is prime: True.\n"
          ]
        }
      ]
    },
    {
      "cell_type": "code",
      "source": [
        "# 21. Write a Python program to assign grades based on different ranges of scores using elif statements.\n",
        "\n",
        "# Define the score\n",
        "score = 85\n",
        "\n",
        "# Assign grades based on the score using elif statements\n",
        "if score >= 90:\n",
        "    grade = 'A'\n",
        "elif score >= 80:\n",
        "    grade = 'B'\n",
        "elif score >= 70:\n",
        "    grade = 'C'\n",
        "elif score >= 60:\n",
        "    grade = 'D'\n",
        "else:\n",
        "    grade = 'F'\n",
        "\n",
        "print(f\"The grade for a score of {score} is {grade}.\")\n"
      ],
      "metadata": {
        "colab": {
          "base_uri": "https://localhost:8080/"
        },
        "id": "7cHK4D7rU50C",
        "outputId": "55e0b708-46f6-41e5-f573-9c746046d125"
      },
      "execution_count": 21,
      "outputs": [
        {
          "output_type": "stream",
          "name": "stdout",
          "text": [
            "The grade for a score of 85 is B.\n"
          ]
        }
      ]
    },
    {
      "cell_type": "code",
      "source": [
        "# 22. Implement a program to determine the type of a triangle based on its angles.\n",
        "\n",
        "# Define the angles of the triangle\n",
        "angle1 = 60\n",
        "angle2 = 60\n",
        "angle3 = 60\n",
        "\n",
        "# Determine the type of triangle based on its angles\n",
        "if angle1 == 90 or angle2 == 90 or angle3 == 90:\n",
        "    triangle_type = \"Right-angled\"\n",
        "elif angle1 > 90 or angle2 > 90 or angle3 > 90:\n",
        "    triangle_type = \"Obtuse-angled\"\n",
        "else:\n",
        "    triangle_type = \"Acute-angled\"\n",
        "\n",
        "print(f\"The triangle is {triangle_type}.\")\n"
      ],
      "metadata": {
        "colab": {
          "base_uri": "https://localhost:8080/"
        },
        "id": "ZxoGKGmWVPD9",
        "outputId": "362e4d50-577d-4ce3-faa6-60af39940b26"
      },
      "execution_count": 22,
      "outputs": [
        {
          "output_type": "stream",
          "name": "stdout",
          "text": [
            "The triangle is Acute-angled.\n"
          ]
        }
      ]
    },
    {
      "cell_type": "code",
      "source": [
        "# 23. Develop a program to categorize a given person's BMI into underweight, normal, overweight, or obese using elif statements.\n",
        "\n",
        "# Define the BMI\n",
        "bmi = 22.5\n",
        "\n",
        "# Categorize the BMI using elif statements\n",
        "if bmi < 18.5:\n",
        "    category = \"Underweight\"\n",
        "elif bmi < 24.9:\n",
        "    category = \"Normal weight\"\n",
        "elif bmi < 29.9:\n",
        "    category = \"Overweight\"\n",
        "else:\n",
        "    category = \"Obese\"\n",
        "\n",
        "print(f\"A BMI of {bmi} is categorized as {category}.\")\n"
      ],
      "metadata": {
        "colab": {
          "base_uri": "https://localhost:8080/"
        },
        "id": "z_4sqlqDVQxb",
        "outputId": "fb31473e-4266-449a-9eb3-d15bb2b1ef14"
      },
      "execution_count": 23,
      "outputs": [
        {
          "output_type": "stream",
          "name": "stdout",
          "text": [
            "A BMI of 22.5 is categorized as Normal weight.\n"
          ]
        }
      ]
    },
    {
      "cell_type": "code",
      "source": [
        "# 24. Create a program that determines whether a given number is positive, negative, or zero using elif statements.\n",
        "\n",
        "# Define the number\n",
        "number = -10\n",
        "\n",
        "# Determine if the number is positive, negative, or zero using elif statements\n",
        "if number > 0:\n",
        "    result = \"positive\"\n",
        "elif number < 0:\n",
        "    result = \"negative\"\n",
        "else:\n",
        "    result = \"zero\"\n",
        "\n",
        "print(f\"The number {number} is {result}.\")\n"
      ],
      "metadata": {
        "colab": {
          "base_uri": "https://localhost:8080/"
        },
        "id": "51xiqB_UVS4V",
        "outputId": "3c7e9e1e-b1fb-41e7-b0a9-c3e8991aae1a"
      },
      "execution_count": 24,
      "outputs": [
        {
          "output_type": "stream",
          "name": "stdout",
          "text": [
            "The number -10 is negative.\n"
          ]
        }
      ]
    },
    {
      "cell_type": "code",
      "source": [
        "# 25. Write a Python script to determine the type of a character (uppercase, lowercase, or special) using elif statements.\n",
        "\n",
        "# Define the character\n",
        "char = '@'\n",
        "\n",
        "# Determine the type of character using elif statements\n",
        "if char.isupper():\n",
        "    char_type = \"uppercase\"\n",
        "elif char.islower():\n",
        "    char_type = \"lowercase\"\n",
        "else:\n",
        "    char_type = \"special\"\n",
        "\n",
        "print(f\"The character '{char}' is {char_type}.\")\n"
      ],
      "metadata": {
        "colab": {
          "base_uri": "https://localhost:8080/"
        },
        "id": "y7A8Y5BkVVBr",
        "outputId": "5dbffd33-8449-4d12-f048-773cba5ae736"
      },
      "execution_count": 25,
      "outputs": [
        {
          "output_type": "stream",
          "name": "stdout",
          "text": [
            "The character '@' is special.\n"
          ]
        }
      ]
    },
    {
      "cell_type": "code",
      "source": [
        "# 26. Implement a program to calculate the discounted price based on different purchase amounts using elif statements.\n",
        "\n",
        "# Define the purchase amount\n",
        "purchase_amount = 120\n",
        "\n",
        "# Calculate the discounted price based on purchase amount using elif statements\n",
        "if purchase_amount >= 100:\n",
        "    discount = 0.20  # 20% discount\n",
        "elif purchase_amount >= 50:\n",
        "    discount = 0.10  # 10% discount\n",
        "else:\n",
        "    discount = 0.05  # 5% discount\n",
        "\n",
        "discounted_price = purchase_amount * (1 - discount)\n",
        "print(f\"The discounted price for a purchase amount of ${purchase_amount} is ${discounted_price:.2f}.\")\n"
      ],
      "metadata": {
        "colab": {
          "base_uri": "https://localhost:8080/"
        },
        "id": "z6isIxORVXDR",
        "outputId": "ba64a6cf-0a20-410e-8b23-8cd5f5e6bbc4"
      },
      "execution_count": 26,
      "outputs": [
        {
          "output_type": "stream",
          "name": "stdout",
          "text": [
            "The discounted price for a purchase amount of $120 is $96.00.\n"
          ]
        }
      ]
    },
    {
      "cell_type": "code",
      "source": [
        "# 27. Develop a program to calculate the electricity bill based on different consumption slabs using elif statements.\n",
        "\n",
        "# Define the electricity consumption in kWh\n",
        "consumption = 350\n",
        "\n",
        "# Calculate the bill based on consumption slabs using elif statements\n",
        "if consumption <= 100:\n",
        "    bill = consumption * 0.50  # $0.50 per kWh\n",
        "elif consumption <= 300:\n",
        "    bill = (100 * 0.50) + ((consumption - 100) * 0.75)  # $0.75 per kWh for 101-300 kWh\n",
        "else:\n",
        "    bill = (100 * 0.50) + (200 * 0.75) + ((consumption - 300) * 1.00)  # $1.00 per kWh for above 300 kWh\n",
        "\n",
        "print(f\"The electricity bill for {consumption} kWh is ${bill:.2f}.\")\n"
      ],
      "metadata": {
        "colab": {
          "base_uri": "https://localhost:8080/"
        },
        "id": "Sv8tZHjMVY3j",
        "outputId": "e87442ca-602d-445b-ca8b-292e3faf7081"
      },
      "execution_count": 27,
      "outputs": [
        {
          "output_type": "stream",
          "name": "stdout",
          "text": [
            "The electricity bill for 350 kWh is $250.00.\n"
          ]
        }
      ]
    },
    {
      "cell_type": "code",
      "source": [
        "# 28. Create a program to determine the type of quadrilateral based on its angles and sides using elif statements.\n",
        "\n",
        "# Define the angles and sides of the quadrilateral\n",
        "angle1 = 90\n",
        "angle2 = 90\n",
        "angle3 = 90\n",
        "angle4 = 90\n",
        "side1 = 4\n",
        "side2 = 4\n",
        "side3 = 4\n",
        "side4 = 4\n",
        "\n",
        "# Determine the type of quadrilateral\n",
        "if angle1 == angle2 == angle3 == angle4 == 90:\n",
        "    if side1 == side2 == side3 == side4:\n",
        "        quadrilateral_type = \"Square\"\n",
        "    else:\n",
        "        quadrilateral_type = \"Rectangle\"\n",
        "elif side1 == side2 == side3 == side4:\n",
        "    quadrilateral_type = \"Rhombus\"\n",
        "else:\n",
        "    quadrilateral_type = \"Other\"\n",
        "\n",
        "print(f\"The quadrilateral is a {quadrilateral_type}.\")\n"
      ],
      "metadata": {
        "colab": {
          "base_uri": "https://localhost:8080/"
        },
        "id": "6XCXkXhLVa8m",
        "outputId": "4ac2eae4-e640-47c6-97fa-5298d0c2e6e0"
      },
      "execution_count": 28,
      "outputs": [
        {
          "output_type": "stream",
          "name": "stdout",
          "text": [
            "The quadrilateral is a Square.\n"
          ]
        }
      ]
    },
    {
      "cell_type": "code",
      "source": [
        "# 29. Write a Python script to determine the season based on a user-provided month using elif statements.\n",
        "\n",
        "# Define the month\n",
        "month = \"April\"\n",
        "\n",
        "# Determine the season based on the month using elif statements\n",
        "if month in [\"December\", \"January\", \"February\"]:\n",
        "    season = \"Winter\"\n",
        "elif month in [\"March\", \"April\", \"May\"]:\n",
        "    season = \"Spring\"\n",
        "elif month in [\"June\", \"July\", \"August\"]:\n",
        "    season = \"Summer\"\n",
        "elif month in [\"September\", \"October\", \"November\"]:\n",
        "    season = \"Fall\"\n",
        "else:\n",
        "    season = \"Invalid month\"\n",
        "\n",
        "print(f\"The season for {month} is {season}.\")\n"
      ],
      "metadata": {
        "colab": {
          "base_uri": "https://localhost:8080/"
        },
        "id": "AYQV9uvHVdPM",
        "outputId": "62784d8f-cbdd-4000-ea8c-c175b91494f4"
      },
      "execution_count": 29,
      "outputs": [
        {
          "output_type": "stream",
          "name": "stdout",
          "text": [
            "The season for April is Spring.\n"
          ]
        }
      ]
    },
    {
      "cell_type": "code",
      "source": [
        "# 30. Implement a program to determine the type of a year (leap or common) and month (30 or 31 days) using elif statements.\n",
        "\n",
        "# Define the year and month\n",
        "year = 2024\n",
        "month = \"February\"\n",
        "\n",
        "# Determine if the year is leap or common\n",
        "if (year % 4 == 0 and year % 100 != 0) or (year % 400 == 0):\n",
        "    year_type = \"leap\"\n",
        "else:\n",
        "    year_type = \"common\"\n",
        "\n",
        "# Determine the number of days in the month\n",
        "if month in [\"April\", \"June\", \"September\", \"November\"]:\n",
        "    days = 30\n",
        "elif month == \"February\":\n",
        "    days = 29 if year_type == \"leap\" else 28\n",
        "else:\n",
        "    days = 31\n",
        "\n",
        "print(f\"The year {year} is {year_type} and the month of {month} has {days} days.\")\n"
      ],
      "metadata": {
        "colab": {
          "base_uri": "https://localhost:8080/"
        },
        "id": "EwGEmFsxVfgK",
        "outputId": "7695e1e0-5793-4472-8883-46c6b73ca5b2"
      },
      "execution_count": 30,
      "outputs": [
        {
          "output_type": "stream",
          "name": "stdout",
          "text": [
            "The year 2024 is leap and the month of February has 29 days.\n"
          ]
        }
      ]
    },
    {
      "cell_type": "markdown",
      "source": [
        "# Basic Level:"
      ],
      "metadata": {
        "id": "wH_M8Wi6V7Ix"
      }
    },
    {
      "cell_type": "code",
      "source": [
        "# 1. Write a Python program that checks if a given number is positive, negative, or zero.\n",
        "\n",
        "# Define the number\n",
        "number = 7\n",
        "\n",
        "# Determine if the number is positive, negative, or zero\n",
        "if number > 0:\n",
        "    result = \"positive\"\n",
        "elif number < 0:\n",
        "    result = \"negative\"\n",
        "else:\n",
        "    result = \"zero\"\n",
        "\n",
        "print(f\"The number {number} is {result}.\")\n"
      ],
      "metadata": {
        "colab": {
          "base_uri": "https://localhost:8080/"
        },
        "id": "N9jlH-1tVhKY",
        "outputId": "fe73f5b7-abb6-44c5-fcef-11c8e2a991ab"
      },
      "execution_count": 31,
      "outputs": [
        {
          "output_type": "stream",
          "name": "stdout",
          "text": [
            "The number 7 is positive.\n"
          ]
        }
      ]
    },
    {
      "cell_type": "code",
      "source": [
        "# 2. Create a program to determine if a person is eligible to vote based on their age.\n",
        "\n",
        "# Define the age\n",
        "age = 20\n",
        "\n",
        "# Determine if the person is eligible to vote\n",
        "if age >= 18:\n",
        "    eligibility = \"eligible to vote\"\n",
        "else:\n",
        "    eligibility = \"not eligible to vote\"\n",
        "\n",
        "print(f\"A person who is {age} years old is {eligibility}.\")\n"
      ],
      "metadata": {
        "colab": {
          "base_uri": "https://localhost:8080/"
        },
        "id": "76YExjUQWB3Q",
        "outputId": "c86de4b0-8cc4-4dc3-a3f0-70e4a49b7abc"
      },
      "execution_count": 32,
      "outputs": [
        {
          "output_type": "stream",
          "name": "stdout",
          "text": [
            "A person who is 20 years old is eligible to vote.\n"
          ]
        }
      ]
    },
    {
      "cell_type": "code",
      "source": [
        "# 3. Write a program to find the maximum of two given numbers using conditional statements.\n",
        "\n",
        "# Define the two numbers\n",
        "num1 = 10\n",
        "num2 = 15\n",
        "\n",
        "# Find the maximum of the two numbers\n",
        "if num1 > num2:\n",
        "    maximum = num1\n",
        "else:\n",
        "    maximum = num2\n",
        "\n",
        "print(f\"The maximum of {num1} and {num2} is {maximum}.\")\n"
      ],
      "metadata": {
        "colab": {
          "base_uri": "https://localhost:8080/"
        },
        "id": "si4k73WcWDze",
        "outputId": "fdcd392e-d2ff-4c93-b0ca-0805f3021da0"
      },
      "execution_count": 33,
      "outputs": [
        {
          "output_type": "stream",
          "name": "stdout",
          "text": [
            "The maximum of 10 and 15 is 15.\n"
          ]
        }
      ]
    },
    {
      "cell_type": "code",
      "source": [
        "# 4. Develop a program that calculates the grade of a student based on their exam score.\n",
        "\n",
        "# Define the exam score\n",
        "score = 87\n",
        "\n",
        "# Calculate the grade based on the exam score\n",
        "if score >= 90:\n",
        "    grade = 'A'\n",
        "elif score >= 80:\n",
        "    grade = 'B'\n",
        "elif score >= 70:\n",
        "    grade = 'C'\n",
        "elif score >= 60:\n",
        "    grade = 'D'\n",
        "else:\n",
        "    grade = 'F'\n",
        "\n",
        "print(f\"A score of {score} results in a grade of {grade}.\")\n"
      ],
      "metadata": {
        "colab": {
          "base_uri": "https://localhost:8080/"
        },
        "id": "beBvJ1sgWF5c",
        "outputId": "85eb5a5c-e7d6-4326-f194-18100dadcae2"
      },
      "execution_count": 34,
      "outputs": [
        {
          "output_type": "stream",
          "name": "stdout",
          "text": [
            "A score of 87 results in a grade of B.\n"
          ]
        }
      ]
    },
    {
      "cell_type": "code",
      "source": [
        "# 5. Create a program that checks if a year is a leap year or not.\n",
        "\n",
        "# Define the year\n",
        "year = 2024\n",
        "\n",
        "# Check if the year is a leap year\n",
        "if (year % 4 == 0 and year % 100 != 0) or (year % 400 == 0):\n",
        "    leap_year_status = \"leap year\"\n",
        "else:\n",
        "    leap_year_status = \"not a leap year\"\n",
        "\n",
        "print(f\"The year {year} is a {leap_year_status}.\")\n"
      ],
      "metadata": {
        "colab": {
          "base_uri": "https://localhost:8080/"
        },
        "id": "EV8P5TKTWHrP",
        "outputId": "edf219be-d9de-436d-a520-3d74f94e6c0e"
      },
      "execution_count": 35,
      "outputs": [
        {
          "output_type": "stream",
          "name": "stdout",
          "text": [
            "The year 2024 is a leap year.\n"
          ]
        }
      ]
    },
    {
      "cell_type": "code",
      "source": [
        "# 6. Write a program to classify a triangle based on its sides' lengths.\n",
        "\n",
        "# Define the sides of the triangle\n",
        "side1 = 5\n",
        "side2 = 5\n",
        "side3 = 8\n",
        "\n",
        "# Classify the triangle\n",
        "if side1 == side2 == side3:\n",
        "    triangle_type = \"Equilateral\"\n",
        "elif side1 == side2 or side2 == side3 or side1 == side3:\n",
        "    triangle_type = \"Isosceles\"\n",
        "else:\n",
        "    triangle_type = \"Scalene\"\n",
        "\n",
        "print(f\"The triangle with sides {side1}, {side2}, and {side3} is {triangle_type}.\")\n"
      ],
      "metadata": {
        "colab": {
          "base_uri": "https://localhost:8080/"
        },
        "id": "Cv0EsD_CWJub",
        "outputId": "bbb66e01-aa6b-4267-ae73-6bd87e29c4e3"
      },
      "execution_count": 36,
      "outputs": [
        {
          "output_type": "stream",
          "name": "stdout",
          "text": [
            "The triangle with sides 5, 5, and 8 is Isosceles.\n"
          ]
        }
      ]
    },
    {
      "cell_type": "code",
      "source": [
        "# 7. Build a program that determines the largest of three given numbers.\n",
        "\n",
        "# Define the three numbers\n",
        "num1 = 10\n",
        "num2 = 20\n",
        "num3 = 15\n",
        "\n",
        "# Determine the largest of the three numbers\n",
        "if num1 >= num2 and num1 >= num3:\n",
        "    largest = num1\n",
        "elif num2 >= num1 and num2 >= num3:\n",
        "    largest = num2\n",
        "else:\n",
        "    largest = num3\n",
        "\n",
        "print(f\"The largest of {num1}, {num2}, and {num3} is {largest}.\")\n"
      ],
      "metadata": {
        "colab": {
          "base_uri": "https://localhost:8080/"
        },
        "id": "EcujSwEPWLwD",
        "outputId": "866ad95a-aaa5-4443-e3b8-0e8c2b4e6276"
      },
      "execution_count": 37,
      "outputs": [
        {
          "output_type": "stream",
          "name": "stdout",
          "text": [
            "The largest of 10, 20, and 15 is 20.\n"
          ]
        }
      ]
    },
    {
      "cell_type": "code",
      "source": [
        "# 8. Develop a program that checks whether a character is a vowel or a consonant.\n",
        "\n",
        "# Define the character\n",
        "char = 'e'\n",
        "\n",
        "# Check if the character is a vowel or consonant\n",
        "if char in 'aeiou':\n",
        "    char_type = \"vowel\"\n",
        "else:\n",
        "    char_type = \"consonant\"\n",
        "\n",
        "print(f\"The character '{char}' is a {char_type}.\")\n"
      ],
      "metadata": {
        "colab": {
          "base_uri": "https://localhost:8080/"
        },
        "id": "T93wiCObWNl4",
        "outputId": "16a454ba-79c7-4e5d-d807-0bda591f39b1"
      },
      "execution_count": 38,
      "outputs": [
        {
          "output_type": "stream",
          "name": "stdout",
          "text": [
            "The character 'e' is a vowel.\n"
          ]
        }
      ]
    },
    {
      "cell_type": "code",
      "source": [
        "# 9. Create a program to calculate the total cost of a shopping cart based on discounts.\n",
        "\n",
        "# Define the total cost before discount\n",
        "total_cost = 150\n",
        "\n",
        "# Calculate the discount and the final price\n",
        "if total_cost >= 100:\n",
        "    discount = 0.20  # 20% discount\n",
        "elif total_cost >= 50:\n",
        "    discount = 0.10  # 10% discount\n",
        "else:\n",
        "    discount = 0.05  # 5% discount\n",
        "\n",
        "discounted_price = total_cost * (1 - discount)\n",
        "print(f\"The total cost after applying the discount is ${discounted_price:.2f}.\")\n"
      ],
      "metadata": {
        "colab": {
          "base_uri": "https://localhost:8080/"
        },
        "id": "RJKKgbGBWRLJ",
        "outputId": "ac9a2801-898a-44c5-a838-ca5623f52a8d"
      },
      "execution_count": 39,
      "outputs": [
        {
          "output_type": "stream",
          "name": "stdout",
          "text": [
            "The total cost after applying the discount is $120.00.\n"
          ]
        }
      ]
    },
    {
      "cell_type": "code",
      "source": [
        "# 10. Write a program that checks if a given number is even or odd.\n",
        "\n",
        "# Define the number\n",
        "number = 8\n",
        "\n",
        "# Check if the number is even or odd\n",
        "if number % 2 == 0:\n",
        "    result = \"even\"\n",
        "else:\n",
        "    result = \"odd\"\n",
        "\n",
        "print(f\"The number {number} is {result}.\")\n"
      ],
      "metadata": {
        "colab": {
          "base_uri": "https://localhost:8080/"
        },
        "id": "iPH7rsluWWWI",
        "outputId": "52f031cb-856f-4377-b752-41aa4f82dea5"
      },
      "execution_count": 40,
      "outputs": [
        {
          "output_type": "stream",
          "name": "stdout",
          "text": [
            "The number 8 is even.\n"
          ]
        }
      ]
    },
    {
      "cell_type": "markdown",
      "source": [
        "\n",
        "\n",
        "# Intermediate Level:"
      ],
      "metadata": {
        "id": "nIaW-ao_X6b0"
      }
    },
    {
      "cell_type": "code",
      "source": [
        "# 11. Write a program that calculates the roots of a quadratic equation.\n",
        "\n",
        "import cmath\n",
        "\n",
        "# Define the coefficients\n",
        "a = 1\n",
        "b = -3\n",
        "c = 2\n",
        "\n",
        "# Calculate the discriminant\n",
        "d = b**2 - 4*a*c\n",
        "\n",
        "# Calculate the two roots using the quadratic formula\n",
        "root1 = (-b + cmath.sqrt(d)) / (2*a)\n",
        "root2 = (-b - cmath.sqrt(d)) / (2*a)\n",
        "\n",
        "print(f\"The roots of the quadratic equation are {root1} and {root2}.\")\n"
      ],
      "metadata": {
        "colab": {
          "base_uri": "https://localhost:8080/"
        },
        "id": "DSh_MTmRWYCE",
        "outputId": "8f35029d-86ca-4227-d2bd-ccfc5c7cba37"
      },
      "execution_count": 41,
      "outputs": [
        {
          "output_type": "stream",
          "name": "stdout",
          "text": [
            "The roots of the quadratic equation are (2+0j) and (1+0j).\n"
          ]
        }
      ]
    },
    {
      "cell_type": "code",
      "source": [
        "# 12. Create a program that determines the day of the week based on the day number (1-7).\n",
        "\n",
        "# Define the day number\n",
        "day_number = 4\n",
        "\n",
        "# Determine the day of the week based on the day number\n",
        "if day_number == 1:\n",
        "    day = \"Monday\"\n",
        "elif day_number == 2:\n",
        "    day = \"Tuesday\"\n",
        "elif day_number == 3:\n",
        "    day = \"Wednesday\"\n",
        "elif day_number == 4:\n",
        "    day = \"Thursday\"\n",
        "elif day_number == 5:\n",
        "    day = \"Friday\"\n",
        "elif day_number == 6:\n",
        "    day = \"Saturday\"\n",
        "elif day_number == 7:\n",
        "    day = \"Sunday\"\n",
        "else:\n",
        "    day = \"Invalid day number\"\n",
        "\n",
        "print(f\"The day number {day_number} corresponds to {day}.\")\n"
      ],
      "metadata": {
        "colab": {
          "base_uri": "https://localhost:8080/"
        },
        "id": "7LGnEWooXOZN",
        "outputId": "5eaa367d-b8d8-4d92-883d-f857d071297c"
      },
      "execution_count": 42,
      "outputs": [
        {
          "output_type": "stream",
          "name": "stdout",
          "text": [
            "The day number 4 corresponds to Thursday.\n"
          ]
        }
      ]
    },
    {
      "cell_type": "code",
      "source": [
        "# 13. Develop a program that calculates the factorial of a given number using recursion.\n",
        "\n",
        "def factorial(n):\n",
        "    if n == 0:\n",
        "        return 1\n",
        "    else:\n",
        "        return n * factorial(n - 1)\n",
        "\n",
        "# Define the number\n",
        "number = 5\n",
        "\n",
        "# Calculate the factorial of the number\n",
        "result = factorial(number)\n",
        "\n",
        "print(f\"The factorial of {number} is {result}.\")\n"
      ],
      "metadata": {
        "colab": {
          "base_uri": "https://localhost:8080/"
        },
        "id": "ZgoGwNnqXQJB",
        "outputId": "a356ee66-90da-408a-dbf3-60dd41f767e0"
      },
      "execution_count": 43,
      "outputs": [
        {
          "output_type": "stream",
          "name": "stdout",
          "text": [
            "The factorial of 5 is 120.\n"
          ]
        }
      ]
    },
    {
      "cell_type": "code",
      "source": [
        "# 14. Write a program to find the largest among three numbers without using the max() function.\n",
        "\n",
        "# Define the three numbers\n",
        "num1 = 10\n",
        "num2 = 20\n",
        "num3 = 15\n",
        "\n",
        "# Find the largest number\n",
        "if num1 >= num2 and num1 >= num3:\n",
        "    largest = num1\n",
        "elif num2 >= num1 and num2 >= num3:\n",
        "    largest = num2\n",
        "else:\n",
        "    largest = num3\n",
        "\n",
        "print(f\"The largest of {num1}, {num2}, and {num3} is {largest}.\")\n"
      ],
      "metadata": {
        "colab": {
          "base_uri": "https://localhost:8080/"
        },
        "id": "B6d7IPaYXR-L",
        "outputId": "aa9911eb-f71f-4414-d315-348afee3497c"
      },
      "execution_count": 44,
      "outputs": [
        {
          "output_type": "stream",
          "name": "stdout",
          "text": [
            "The largest of 10, 20, and 15 is 20.\n"
          ]
        }
      ]
    },
    {
      "cell_type": "code",
      "source": [
        "# 15. Create a program that simulates a basic ATM transaction menu.\n",
        "\n",
        "def atm_menu():\n",
        "    balance = 1000  # Starting balance\n",
        "\n",
        "    while True:\n",
        "        print(\"\\nATM Menu:\")\n",
        "        print(\"1. Check Balance\")\n",
        "        print(\"2. Deposit\")\n",
        "        print(\"3. Withdraw\")\n",
        "        print(\"4. Exit\")\n",
        "\n",
        "        choice = input(\"Enter your choice (1-4): \")\n",
        "\n",
        "        if choice == '1':\n",
        "            print(f\"Your balance is ${balance}.\")\n",
        "        elif choice == '2':\n",
        "            amount = float(input(\"Enter the amount to deposit: \"))\n",
        "            balance += amount\n",
        "            print(f\"${amount} deposited. New balance is ${balance}.\")\n",
        "        elif choice == '3':\n",
        "            amount = float(input(\"Enter the amount to withdraw: \"))\n",
        "            if amount <= balance:\n",
        "                balance -= amount\n",
        "                print(f\"${amount} withdrawn. New balance is ${balance}.\")\n",
        "            else:\n",
        "                print(\"Insufficient funds.\")\n",
        "        elif choice == '4':\n",
        "            print(\"Exiting. Have a nice day!\")\n",
        "            break\n",
        "        else:\n",
        "            print(\"Invalid choice. Please enter a number between 1 and 4.\")\n",
        "\n",
        "atm_menu()\n"
      ],
      "metadata": {
        "colab": {
          "base_uri": "https://localhost:8080/"
        },
        "id": "Jv1fmx9VXTvp",
        "outputId": "38e7e2bc-2f5d-4849-c1a1-bb9e62571f4a"
      },
      "execution_count": 45,
      "outputs": [
        {
          "output_type": "stream",
          "name": "stdout",
          "text": [
            "\n",
            "ATM Menu:\n",
            "1. Check Balance\n",
            "2. Deposit\n",
            "3. Withdraw\n",
            "4. Exit\n",
            "Enter your choice (1-4): 4\n",
            "Exiting. Have a nice day!\n"
          ]
        }
      ]
    },
    {
      "cell_type": "code",
      "source": [
        "# 16. Build a program that checks if a given string is a palindrome or not.\n",
        "\n",
        "# Define the string\n",
        "string = \"radar\"\n",
        "\n",
        "# Check if the string is a palindrome\n",
        "if string == string[::-1]:\n",
        "    result = \"a palindrome\"\n",
        "else:\n",
        "    result = \"not a palindrome\"\n",
        "\n",
        "print(f\"The string '{string}' is {result}.\")\n"
      ],
      "metadata": {
        "colab": {
          "base_uri": "https://localhost:8080/"
        },
        "id": "OFAs66QOXWkQ",
        "outputId": "233e6686-cb2d-41dd-e808-7789eb96c839"
      },
      "execution_count": 46,
      "outputs": [
        {
          "output_type": "stream",
          "name": "stdout",
          "text": [
            "The string 'radar' is a palindrome.\n"
          ]
        }
      ]
    },
    {
      "cell_type": "code",
      "source": [
        "# 17. Write a program that calculates the average of a list of numbers, excluding the smallest and largest values.\n",
        "\n",
        "# Define the list of numbers\n",
        "numbers = [3, 5, 7, 9, 11, 13]\n",
        "\n",
        "# Exclude the smallest and largest values\n",
        "sorted_numbers = sorted(numbers)\n",
        "filtered_numbers = sorted_numbers[1:-1]\n",
        "\n",
        "# Calculate the average\n",
        "average = sum(filtered_numbers) / len(filtered_numbers)\n",
        "\n",
        "print(f\"The average of the numbers excluding the smallest and largest is {average}.\")\n"
      ],
      "metadata": {
        "colab": {
          "base_uri": "https://localhost:8080/"
        },
        "id": "3clos9pkXgZ3",
        "outputId": "33f11e3f-c378-435d-8f8b-fd11d6b2a454"
      },
      "execution_count": 47,
      "outputs": [
        {
          "output_type": "stream",
          "name": "stdout",
          "text": [
            "The average of the numbers excluding the smallest and largest is 8.0.\n"
          ]
        }
      ]
    },
    {
      "cell_type": "code",
      "source": [
        "# 18. Develop a program that converts a given temperature from Celsius to Fahrenheit.\n",
        "\n",
        "# Define the temperature in Celsius\n",
        "celsius = 25\n",
        "\n",
        "# Convert Celsius to Fahrenheit\n",
        "fahrenheit = (celsius * 9/5) + 32\n",
        "\n",
        "print(f\"{celsius} degrees Celsius is equal to {fahrenheit} degrees Fahrenheit.\")\n"
      ],
      "metadata": {
        "colab": {
          "base_uri": "https://localhost:8080/"
        },
        "id": "wnORtTKDXi7W",
        "outputId": "645c4182-d9e3-4e54-d592-01b754007d77"
      },
      "execution_count": 48,
      "outputs": [
        {
          "output_type": "stream",
          "name": "stdout",
          "text": [
            "25 degrees Celsius is equal to 77.0 degrees Fahrenheit.\n"
          ]
        }
      ]
    },
    {
      "cell_type": "code",
      "source": [
        "# 19. Create a program that simulates a basic calculator for addition, subtraction, multiplication, and division.\n",
        "\n",
        "def calculator():\n",
        "    print(\"Basic Calculator\")\n",
        "    print(\"1. Addition\")\n",
        "    print(\"2. Subtraction\")\n",
        "    print(\"3. Multiplication\")\n",
        "    print(\"4. Division\")\n",
        "\n",
        "    choice = input(\"Enter your choice (1-4): \")\n",
        "\n",
        "    num1 = float(input(\"Enter the first number: \"))\n",
        "    num2 = float(input(\"Enter the second number: \"))\n",
        "\n",
        "    if choice == '1':\n",
        "        result = num1 + num2\n",
        "        print(f\"The result of addition is {result}.\")\n",
        "    elif choice == '2':\n",
        "        result = num1 - num2\n",
        "        print(f\"The result of subtraction is {result}.\")\n",
        "    elif choice == '3':\n",
        "        result = num1 * num2\n",
        "        print(f\"The result of multiplication is {result}.\")\n",
        "    elif choice == '4':\n",
        "        if num2 != 0:\n",
        "            result = num1 / num2\n",
        "            print(f\"The result of division is {result}.\")\n",
        "        else:\n",
        "            print(\"Error: Division by zero is not allowed.\")\n",
        "    else:\n",
        "        print(\"Invalid choice. Please enter a number between 1 and 4.\")\n",
        "\n",
        "calculator()\n"
      ],
      "metadata": {
        "colab": {
          "base_uri": "https://localhost:8080/"
        },
        "id": "dyPtM43rXlfA",
        "outputId": "00e53215-de1f-4dcb-8c9d-f86c2efe42dc"
      },
      "execution_count": 49,
      "outputs": [
        {
          "output_type": "stream",
          "name": "stdout",
          "text": [
            "Basic Calculator\n",
            "1. Addition\n",
            "2. Subtraction\n",
            "3. Multiplication\n",
            "4. Division\n",
            "Enter your choice (1-4): 3\n",
            "Enter the first number: 2\n",
            "Enter the second number: 2\n",
            "The result of multiplication is 4.0.\n"
          ]
        }
      ]
    },
    {
      "cell_type": "code",
      "source": [
        "# 20. Write a program that determines the roots of a cubic equation using the Cardano formula.\n",
        "\n",
        "import cmath\n",
        "\n",
        "# Define the coefficients of the cubic equation ax^3 + bx^2 + cx + d = 0\n",
        "a = 1\n",
        "b = -6\n",
        "c = 11\n",
        "d = -6\n",
        "\n",
        "# Calculate the discriminants\n",
        "delta_0 = b**2 - 3*a*c\n",
        "delta_1 = 2*b**3 - 9*a*b*c + 27*a**2*d\n",
        "\n",
        "# Calculate the discriminant of the cubic equation\n",
        "C = cmath.sqrt(((delta_1 + cmath.sqrt(delta_1**2 - 4*delta_0**3)) / 2))\n",
        "u = [1, (-1 + cmath.sqrt(-3)) / 2, (-1 - cmath.sqrt(-3)) / 2]\n",
        "\n",
        "# Calculate the roots\n",
        "roots = []\n",
        "for i in range(3):\n",
        "    root = -1 / (3*a) * (b + u[i] * C)\n",
        "    roots.append(root)\n",
        "\n",
        "print(f\"The roots of the cubic equation are {roots[0]}, {roots[1]}, and {roots[2]}.\")\n"
      ],
      "metadata": {
        "colab": {
          "base_uri": "https://localhost:8080/"
        },
        "id": "QxyBjvS2XnSj",
        "outputId": "40881abe-e173-4737-f536-4d23f03482fc"
      },
      "execution_count": 50,
      "outputs": [
        {
          "output_type": "stream",
          "name": "stdout",
          "text": [
            "The roots of the cubic equation are (1.462715034088229-0.5372849659117709j), (2.733944912506935-0.1966599465951643j), and (1.8033400534048356+0.7339449125069353j).\n"
          ]
        }
      ]
    },
    {
      "cell_type": "markdown",
      "source": [
        "# Advanced Level:"
      ],
      "metadata": {
        "id": "cbxibuvTYCNY"
      }
    },
    {
      "cell_type": "code",
      "source": [
        "# 21. Create a program that calculates the income tax based on the user's income and tax brackets.\n",
        "\n",
        "# Define the income\n",
        "income = 55000\n",
        "\n",
        "# Define tax brackets and rates\n",
        "if income <= 10000:\n",
        "    tax = 0\n",
        "elif income <= 40000:\n",
        "    tax = (income - 10000) * 0.10\n",
        "elif income <= 80000:\n",
        "    tax = (30000 * 0.10) + (income - 40000) * 0.20\n",
        "else:\n",
        "    tax = (30000 * 0.10) + (40000 * 0.20) + (income - 80000) * 0.30\n",
        "\n",
        "print(f\"The income tax for an income of ${income} is ${tax:.2f}.\")\n"
      ],
      "metadata": {
        "colab": {
          "base_uri": "https://localhost:8080/"
        },
        "id": "AOhz-r4-Xsuw",
        "outputId": "964c5b28-7d5d-464f-84ca-f6f27b4365cb"
      },
      "execution_count": 51,
      "outputs": [
        {
          "output_type": "stream",
          "name": "stdout",
          "text": [
            "The income tax for an income of $55000 is $6000.00.\n"
          ]
        }
      ]
    },
    {
      "cell_type": "code",
      "source": [
        "# 22. Write a program that simulates a rock-paper-scissors game against the computer.\n",
        "\n",
        "import random\n",
        "\n",
        "# Define choices\n",
        "choices = ['rock', 'paper', 'scissors']\n",
        "\n",
        "# User's choice\n",
        "user_choice = 'rock'\n",
        "\n",
        "# Computer's choice\n",
        "computer_choice = random.choice(choices)\n",
        "\n",
        "# Determine the winner\n",
        "if user_choice == computer_choice:\n",
        "    result = \"It's a tie!\"\n",
        "elif (user_choice == 'rock' and computer_choice == 'scissors') or \\\n",
        "     (user_choice == 'paper' and computer_choice == 'rock') or \\\n",
        "     (user_choice == 'scissors' and computer_choice == 'paper'):\n",
        "    result = \"You win!\"\n",
        "else:\n",
        "    result = \"You lose!\"\n",
        "\n",
        "print(f\"Computer chose: {computer_choice}\")\n",
        "print(result)\n"
      ],
      "metadata": {
        "colab": {
          "base_uri": "https://localhost:8080/"
        },
        "id": "lBZPf6ioYHL8",
        "outputId": "9735d171-e9c6-4850-de89-9231b8edc980"
      },
      "execution_count": 52,
      "outputs": [
        {
          "output_type": "stream",
          "name": "stdout",
          "text": [
            "Computer chose: scissors\n",
            "You win!\n"
          ]
        }
      ]
    },
    {
      "cell_type": "code",
      "source": [
        "# 23. Develop a program that generates a random password based on user preferences (length, complexity).\n",
        "\n",
        "import random\n",
        "import string\n",
        "\n",
        "# Define user preferences\n",
        "length = 12\n",
        "complexity = 3  # 1: letters, 2: letters + digits, 3: letters + digits + special characters\n",
        "\n",
        "# Define character sets\n",
        "letters = string.ascii_letters\n",
        "digits = string.digits\n",
        "special_characters = string.punctuation\n",
        "\n",
        "# Create character pool based on complexity\n",
        "if complexity == 1:\n",
        "    characters = letters\n",
        "elif complexity == 2:\n",
        "    characters = letters + digits\n",
        "else:\n",
        "    characters = letters + digits + special_characters\n",
        "\n",
        "# Generate random password\n",
        "password = ''.join(random.choice(characters) for _ in range(length))\n",
        "\n",
        "print(f\"Generated password: {password}\")\n"
      ],
      "metadata": {
        "colab": {
          "base_uri": "https://localhost:8080/"
        },
        "id": "pUor5ZmsYJV6",
        "outputId": "29b0cdee-8e0b-46b8-d6fa-8e679b2e332a"
      },
      "execution_count": 53,
      "outputs": [
        {
          "output_type": "stream",
          "name": "stdout",
          "text": [
            "Generated password: {zmN8*RR-dg.\n"
          ]
        }
      ]
    },
    {
      "cell_type": "code",
      "source": [
        "# 24. Create a program that implements a simple text-based adventure game with branching scenarios.\n",
        "\n",
        "def adventure_game():\n",
        "    print(\"You find yourself in a dark forest. You can go 'left' or 'right'.\")\n",
        "    choice1 = input(\"Which way do you go? (left/right) \").strip().lower()\n",
        "\n",
        "    if choice1 == 'left':\n",
        "        print(\"You encounter a friendly elf who offers you a magical sword.\")\n",
        "        choice2 = input(\"Do you accept the sword? (yes/no) \").strip().lower()\n",
        "        if choice2 == 'yes':\n",
        "            print(\"You accept the sword and become a hero!\")\n",
        "        else:\n",
        "            print(\"You decline the sword and continue your journey.\")\n",
        "    elif choice1 == 'right':\n",
        "        print(\"You fall into a trap and are captured by bandits.\")\n",
        "        choice2 = input(\"Do you try to escape? (yes/no) \").strip().lower()\n",
        "        if choice2 == 'yes':\n",
        "            print(\"You manage to escape and find your way out of the forest.\")\n",
        "        else:\n",
        "            print(\"You remain captive but eventually are rescued.\")\n",
        "    else:\n",
        "        print(\"Invalid choice. You wander aimlessly and find nothing.\")\n",
        "\n",
        "adventure_game()\n"
      ],
      "metadata": {
        "colab": {
          "base_uri": "https://localhost:8080/"
        },
        "id": "8KJWGTolYLYW",
        "outputId": "6fb00a5b-aca7-4a8a-a315-1efcd2e06843"
      },
      "execution_count": 55,
      "outputs": [
        {
          "output_type": "stream",
          "name": "stdout",
          "text": [
            "You find yourself in a dark forest. You can go 'left' or 'right'.\n",
            "Which way do you go? (left/right) right\n",
            "You fall into a trap and are captured by bandits.\n",
            "Do you try to escape? (yes/no) yes\n",
            "You manage to escape and find your way out of the forest.\n"
          ]
        }
      ]
    },
    {
      "cell_type": "code",
      "source": [
        "# 25. Build a program that solves a linear equation for x, considering different cases.\n",
        "\n",
        "# Define coefficients\n",
        "a = 2\n",
        "b = 5\n",
        "\n",
        "# Solve the equation ax + b = 0\n",
        "if a == 0:\n",
        "    if b == 0:\n",
        "        solution = \"Infinitely many solutions.\"\n",
        "    else:\n",
        "        solution = \"No solution.\"\n",
        "else:\n",
        "    x = -b / a\n",
        "    solution = f\"x = {x}\"\n",
        "\n",
        "print(f\"The solution of the equation is: {solution}\")\n"
      ],
      "metadata": {
        "colab": {
          "base_uri": "https://localhost:8080/"
        },
        "id": "V-3nypWqYOeR",
        "outputId": "74b87c57-3641-4212-b8dd-7be130f64a63"
      },
      "execution_count": 56,
      "outputs": [
        {
          "output_type": "stream",
          "name": "stdout",
          "text": [
            "The solution of the equation is: x = -2.5\n"
          ]
        }
      ]
    },
    {
      "cell_type": "code",
      "source": [
        "# 26. Write a program that simulates a basic quiz game with multiple-choice questions and scoring.\n",
        "\n",
        "def quiz_game():\n",
        "    questions = {\n",
        "        \"What is the capital of France?\": [\"a) Paris\", \"b) London\", \"c) Rome\"],\n",
        "        \"What is 2 + 2?\": [\"a) 3\", \"b) 4\", \"c) 5\"]\n",
        "    }\n",
        "    answers = {\n",
        "        \"What is the capital of France?\": \"a\",\n",
        "        \"What is 2 + 2?\": \"b\"\n",
        "    }\n",
        "\n",
        "    score = 0\n",
        "\n",
        "    for question, options in questions.items():\n",
        "        print(question)\n",
        "        for option in options:\n",
        "            print(option)\n",
        "        user_answer = input(\"Choose the correct option (a/b/c): \").strip().lower()\n",
        "        if user_answer == answers[question]:\n",
        "            print(\"Correct!\")\n",
        "            score += 1\n",
        "        else:\n",
        "            print(\"Wrong!\")\n",
        "\n",
        "    print(f\"Your score is {score}/{len(questions)}.\")\n",
        "\n",
        "quiz_game()\n"
      ],
      "metadata": {
        "colab": {
          "base_uri": "https://localhost:8080/"
        },
        "id": "vx6u62cqYWkU",
        "outputId": "e141f69b-2451-4b32-9f34-b6b30e1698b8"
      },
      "execution_count": 57,
      "outputs": [
        {
          "output_type": "stream",
          "name": "stdout",
          "text": [
            "What is the capital of France?\n",
            "a) Paris\n",
            "b) London\n",
            "c) Rome\n",
            "Choose the correct option (a/b/c): b\n",
            "Wrong!\n",
            "What is 2 + 2?\n",
            "a) 3\n",
            "b) 4\n",
            "c) 5\n",
            "Choose the correct option (a/b/c): a\n",
            "Wrong!\n",
            "Your score is 0/2.\n"
          ]
        }
      ]
    },
    {
      "cell_type": "code",
      "source": [
        "# 27. Develop a program that determines whether a given year is a prime number or not.\n",
        "\n",
        "def is_prime(year):\n",
        "    if year <= 1:\n",
        "        return False\n",
        "    if year <= 3:\n",
        "        return True\n",
        "    if year % 2 == 0 or year % 3 == 0:\n",
        "        return False\n",
        "    i = 5\n",
        "    while i * i <= year:\n",
        "        if year % i == 0 or year % (i + 2) == 0:\n",
        "            return False\n",
        "        i += 6\n",
        "    return True\n",
        "\n",
        "# Define the year\n",
        "year = 2027\n",
        "\n",
        "# Check if the year is a prime number\n",
        "prime_status = \"a prime number\" if is_prime(year) else \"not a prime number\"\n",
        "\n",
        "print(f\"The year {year} is {prime_status}.\")\n"
      ],
      "metadata": {
        "colab": {
          "base_uri": "https://localhost:8080/"
        },
        "id": "Jj9dhvrjYZRN",
        "outputId": "20fdad9a-b303-42d9-f277-cb6c0532dcb7"
      },
      "execution_count": 58,
      "outputs": [
        {
          "output_type": "stream",
          "name": "stdout",
          "text": [
            "The year 2027 is a prime number.\n"
          ]
        }
      ]
    },
    {
      "cell_type": "code",
      "source": [
        "# 28. Create a program that sorts three numbers in ascending order using conditional statements.\n",
        "\n",
        "# Define the three numbers\n",
        "num1 = 5\n",
        "num2 = 2\n",
        "num3 = 8\n",
        "\n",
        "# Sort the numbers\n",
        "if num1 > num2:\n",
        "    num1, num2 = num2, num1\n",
        "if num2 > num3:\n",
        "    num2, num3 = num3, num2\n",
        "if num1 > num2:\n",
        "    num1, num2 = num2, num1\n",
        "\n",
        "print(f\"The numbers in ascending order are: {num1}, {num2}, {num3}.\")\n"
      ],
      "metadata": {
        "colab": {
          "base_uri": "https://localhost:8080/"
        },
        "id": "7oweiCJZYhtD",
        "outputId": "7e2592fa-3cbc-4dbf-8c95-a868eb4e5ea6"
      },
      "execution_count": 59,
      "outputs": [
        {
          "output_type": "stream",
          "name": "stdout",
          "text": [
            "The numbers in ascending order are: 2, 5, 8.\n"
          ]
        }
      ]
    },
    {
      "cell_type": "code",
      "source": [
        "# 29. Build a program that determines the roots of a quartic equation using numerical methods.\n",
        "\n",
        "from scipy.optimize import fsolve\n",
        "import numpy as np\n",
        "\n",
        "# Define the coefficients of the quartic equation ax^4 + bx^3 + cx^2 + dx + e = 0\n",
        "coefficients = [1, -10, 35, -50, 24]\n",
        "\n",
        "# Define the polynomial function\n",
        "def quartic_function(x):\n",
        "    return np.polyval(coefficients, x)\n",
        "\n",
        "# Find the roots using fsolve\n",
        "initial_guesses = [-3, -1, 1, 3]\n",
        "roots = fsolve(quartic_function, initial_guesses)\n",
        "\n",
        "print(f\"The roots of the quartic equation are: {roots}.\")\n"
      ],
      "metadata": {
        "colab": {
          "base_uri": "https://localhost:8080/"
        },
        "id": "9JVnvOzjYkNS",
        "outputId": "a17c63ff-4126-43fa-a28e-738a10d1c28e"
      },
      "execution_count": 60,
      "outputs": [
        {
          "output_type": "stream",
          "name": "stdout",
          "text": [
            "The roots of the quartic equation are: [1. 1. 1. 3.].\n"
          ]
        }
      ]
    },
    {
      "cell_type": "code",
      "source": [
        "# 30. Write a program that calculates the BMI (Body Mass Index) and provides health recommendations based on the user's input.\n",
        "\n",
        "# Define the weight (in kg) and height (in meters)\n",
        "weight = 70\n",
        "height = 1.75\n",
        "\n",
        "# Calculate the BMI\n",
        "bmi = weight / (height ** 2)\n",
        "\n",
        "# Provide health recommendations based on BMI\n",
        "if bmi < 18.5:\n",
        "    recommendation = \"Underweight. You may need to gain weight.\"\n",
        "elif 18.5 <= bmi < 24.9:\n",
        "    recommendation = \"Normal weight. Keep up the good work!\"\n",
        "elif 25 <= bmi < 29.9:\n",
        "    recommendation = \"Overweight. Consider a balanced diet and exercise.\"\n",
        "else:\n",
        "    recommendation = \"Obese. Consult a healthcare provider for guidance.\"\n",
        "\n",
        "print(f\"Your BMI is {bmi:.2f}. {recommendation}\")\n"
      ],
      "metadata": {
        "colab": {
          "base_uri": "https://localhost:8080/"
        },
        "id": "-G7A7g-WYmcU",
        "outputId": "80a92069-52d1-4118-f848-b9d8390d85ce"
      },
      "execution_count": 61,
      "outputs": [
        {
          "output_type": "stream",
          "name": "stdout",
          "text": [
            "Your BMI is 22.86. Normal weight. Keep up the good work!\n"
          ]
        }
      ]
    },
    {
      "cell_type": "markdown",
      "source": [
        "# Challenge Level:"
      ],
      "metadata": {
        "id": "K8XBY6wKYtTo"
      }
    },
    {
      "cell_type": "code",
      "source": [
        "# 31. Create a program that validates a password based on complexity rules (length, characters, etc.).\n",
        "\n",
        "import string\n",
        "\n",
        "def validate_password(password):\n",
        "    length_valid = len(password) >= 8\n",
        "    has_upper = any(char.isupper() for char in password)\n",
        "    has_lower = any(char.islower() for char in password)\n",
        "    has_digit = any(char.isdigit() for char in password)\n",
        "    has_special = any(char in string.punctuation for char in password)\n",
        "\n",
        "    if all([length_valid, has_upper, has_lower, has_digit, has_special]):\n",
        "        return \"Password is valid.\"\n",
        "    else:\n",
        "        return \"Password is invalid.\"\n",
        "\n",
        "# Define the password\n",
        "password = \"P@ssw0rd123\"\n",
        "\n",
        "print(validate_password(password))\n"
      ],
      "metadata": {
        "colab": {
          "base_uri": "https://localhost:8080/"
        },
        "id": "wB0ks34oYorM",
        "outputId": "a8c42140-b092-43de-c854-357dc7434b92"
      },
      "execution_count": 63,
      "outputs": [
        {
          "output_type": "stream",
          "name": "stdout",
          "text": [
            "Password is valid.\n"
          ]
        }
      ]
    },
    {
      "cell_type": "code",
      "source": [
        "# 32. Develop a program that performs matrix addition and subtraction based on user input.\n",
        "\n",
        "import numpy as np\n",
        "\n",
        "# Define matrices\n",
        "matrix1 = np.array([[1, 2], [3, 4]])\n",
        "matrix2 = np.array([[5, 6], [7, 8]])\n",
        "\n",
        "# Matrix addition\n",
        "matrix_addition = matrix1 + matrix2\n",
        "\n",
        "# Matrix subtraction\n",
        "matrix_subtraction = matrix1 - matrix2\n",
        "\n",
        "print(\"Matrix 1:\")\n",
        "print(matrix1)\n",
        "print(\"Matrix 2:\")\n",
        "print(matrix2)\n",
        "print(\"Matrix Addition:\")\n",
        "print(matrix_addition)\n",
        "print(\"Matrix Subtraction:\")\n",
        "print(matrix_subtraction)\n"
      ],
      "metadata": {
        "colab": {
          "base_uri": "https://localhost:8080/"
        },
        "id": "gqUgtHE8c2za",
        "outputId": "d8333d4b-8658-4009-f1c2-b6a2da905de3"
      },
      "execution_count": 64,
      "outputs": [
        {
          "output_type": "stream",
          "name": "stdout",
          "text": [
            "Matrix 1:\n",
            "[[1 2]\n",
            " [3 4]]\n",
            "Matrix 2:\n",
            "[[5 6]\n",
            " [7 8]]\n",
            "Matrix Addition:\n",
            "[[ 6  8]\n",
            " [10 12]]\n",
            "Matrix Subtraction:\n",
            "[[-4 -4]\n",
            " [-4 -4]]\n"
          ]
        }
      ]
    },
    {
      "cell_type": "code",
      "source": [
        "# 33. Write a program that calculates the greatest common divisor (GCD) of two numbers using the Euclidean algorithm.\n",
        "\n",
        "def gcd(a, b):\n",
        "    while b:\n",
        "        a, b = b, a % b\n",
        "    return a\n",
        "\n",
        "# Define the numbers\n",
        "num1 = 48\n",
        "num2 = 18\n",
        "\n",
        "print(f\"The GCD of {num1} and {num2} is {gcd(num1, num2)}.\")\n"
      ],
      "metadata": {
        "colab": {
          "base_uri": "https://localhost:8080/"
        },
        "id": "ICnaSJLKdC8A",
        "outputId": "883c3de6-67f4-430e-8f3b-c1bcdfee599f"
      },
      "execution_count": 65,
      "outputs": [
        {
          "output_type": "stream",
          "name": "stdout",
          "text": [
            "The GCD of 48 and 18 is 6.\n"
          ]
        }
      ]
    },
    {
      "cell_type": "code",
      "source": [
        "# 34. Build a program that performs matrix multiplication using nested loops and conditional statements.\n",
        "\n",
        "def matrix_multiply(A, B):\n",
        "    # Dimensions\n",
        "    rows_A, cols_A = len(A), len(A[0])\n",
        "    rows_B, cols_B = len(B), len(B[0])\n",
        "\n",
        "    # Initialize result matrix\n",
        "    result = [[0] * cols_B for _ in range(rows_A)]\n",
        "\n",
        "    # Perform multiplication\n",
        "    for i in range(rows_A):\n",
        "        for j in range(cols_B):\n",
        "            for k in range(cols_A):\n",
        "                result[i][j] += A[i][k] * B[k][j]\n",
        "\n",
        "    return result\n",
        "\n",
        "# Define matrices\n",
        "matrix1 = [[1, 2], [3, 4]]\n",
        "matrix2 = [[5, 6], [7, 8]]\n",
        "\n",
        "# Perform matrix multiplication\n",
        "result = matrix_multiply(matrix1, matrix2)\n",
        "\n",
        "print(\"Matrix 1:\")\n",
        "for row in matrix1:\n",
        "    print(row)\n",
        "print(\"Matrix 2:\")\n",
        "for row in matrix2:\n",
        "    print(row)\n",
        "print(\"Matrix Multiplication Result:\")\n",
        "for row in result:\n",
        "    print(row)\n"
      ],
      "metadata": {
        "colab": {
          "base_uri": "https://localhost:8080/"
        },
        "id": "HCSF6C5FdFaJ",
        "outputId": "da422f42-9881-4500-dd51-bbd48427f2e3"
      },
      "execution_count": 66,
      "outputs": [
        {
          "output_type": "stream",
          "name": "stdout",
          "text": [
            "Matrix 1:\n",
            "[1, 2]\n",
            "[3, 4]\n",
            "Matrix 2:\n",
            "[5, 6]\n",
            "[7, 8]\n",
            "Matrix Multiplication Result:\n",
            "[19, 22]\n",
            "[43, 50]\n"
          ]
        }
      ]
    },
    {
      "cell_type": "code",
      "source": [
        "# 35. Create a program that simulates a basic text-based tic-tac-toe game against the computer.\n",
        "\n",
        "import random\n",
        "\n",
        "def print_board(board):\n",
        "    for row in board:\n",
        "        print(\" | \".join(row))\n",
        "        print(\"-\" * 5)\n",
        "\n",
        "def check_winner(board, player):\n",
        "    # Check rows, columns, and diagonals\n",
        "    win_conditions = [\n",
        "        [board[0][0], board[0][1], board[0][2]],\n",
        "        [board[1][0], board[1][1], board[1][2]],\n",
        "        [board[2][0], board[2][1], board[2][2]],\n",
        "        [board[0][0], board[1][0], board[2][0]],\n",
        "        [board[0][1], board[1][1], board[2][1]],\n",
        "        [board[0][2], board[1][2], board[2][2]],\n",
        "        [board[0][0], board[1][1], board[2][2]],\n",
        "        [board[2][0], board[1][1], board[0][2]]\n",
        "    ]\n",
        "    return [player, player, player] in win_conditions\n",
        "\n",
        "def tic_tac_toe():\n",
        "    board = [[\" \" for _ in range(3)] for _ in range(3)]\n",
        "    print_board(board)\n",
        "\n",
        "    for turn in range(9):\n",
        "        if turn % 2 == 0:\n",
        "            # Player's turn\n",
        "            row = int(input(\"Enter row (0-2): \"))\n",
        "            col = int(input(\"Enter column (0-2): \"))\n",
        "            if board[row][col] == \" \":\n",
        "                board[row][col] = \"X\"\n",
        "            else:\n",
        "                print(\"Cell already occupied!\")\n",
        "                continue\n",
        "        else:\n",
        "            # Computer's turn\n",
        "            empty_cells = [(r, c) for r in range(3) for c in range(3) if board[r][c] == \" \"]\n",
        "            row, col = random.choice(empty_cells)\n",
        "            board[row][col] = \"O\"\n",
        "\n",
        "        print_board(board)\n",
        "\n",
        "        if check_winner(board, \"X\"):\n",
        "            print(\"Player wins!\")\n",
        "            return\n",
        "        elif check_winner(board, \"O\"):\n",
        "            print(\"Computer wins!\")\n",
        "            return\n",
        "\n",
        "    print(\"It's a tie!\")\n",
        "\n",
        "tic_tac_toe()\n"
      ],
      "metadata": {
        "colab": {
          "base_uri": "https://localhost:8080/"
        },
        "id": "TJe0uxq5dIBZ",
        "outputId": "ae38212f-dab5-4aa1-8a01-1cc463bd91da"
      },
      "execution_count": 67,
      "outputs": [
        {
          "output_type": "stream",
          "name": "stdout",
          "text": [
            "  |   |  \n",
            "-----\n",
            "  |   |  \n",
            "-----\n",
            "  |   |  \n",
            "-----\n",
            "Enter row (0-2): 2\n",
            "Enter column (0-2): 1\n",
            "  |   |  \n",
            "-----\n",
            "  |   |  \n",
            "-----\n",
            "  | X |  \n",
            "-----\n",
            "  |   |  \n",
            "-----\n",
            "  |   |  \n",
            "-----\n",
            "O | X |  \n",
            "-----\n",
            "Enter row (0-2): 2\n",
            "Enter column (0-2): 2\n",
            "  |   |  \n",
            "-----\n",
            "  |   |  \n",
            "-----\n",
            "O | X | X\n",
            "-----\n",
            "  | O |  \n",
            "-----\n",
            "  |   |  \n",
            "-----\n",
            "O | X | X\n",
            "-----\n",
            "Enter row (0-2): 0\n",
            "Enter column (0-2): 1\n",
            "Cell already occupied!\n",
            "  | O |  \n",
            "-----\n",
            "  |   | O\n",
            "-----\n",
            "O | X | X\n",
            "-----\n",
            "Enter row (0-2): 0\n",
            "Enter column (0-2): 0\n",
            "X | O |  \n",
            "-----\n",
            "  |   | O\n",
            "-----\n",
            "O | X | X\n",
            "-----\n",
            "X | O |  \n",
            "-----\n",
            "  | O | O\n",
            "-----\n",
            "O | X | X\n",
            "-----\n",
            "Enter row (0-2): 0\n",
            "Enter column (0-2): 0\n",
            "Cell already occupied!\n",
            "It's a tie!\n"
          ]
        }
      ]
    },
    {
      "cell_type": "code",
      "source": [
        "# 36. Write a program that generates Fibonacci numbers up to a specified term using iterative methods.\n",
        "\n",
        "def fibonacci(n):\n",
        "    fib_series = [0, 1]\n",
        "    while len(fib_series) < n:\n",
        "        fib_series.append(fib_series[-1] + fib_series[-2])\n",
        "    return fib_series\n",
        "\n",
        "# Define the number of terms\n",
        "terms = 10\n",
        "\n",
        "print(f\"First {terms} Fibonacci numbers:\")\n",
        "print(fibonacci(terms))\n"
      ],
      "metadata": {
        "colab": {
          "base_uri": "https://localhost:8080/"
        },
        "id": "yRJNI3gIdK0v",
        "outputId": "e2b789b2-de62-4e3c-dfa6-065283a2892e"
      },
      "execution_count": 68,
      "outputs": [
        {
          "output_type": "stream",
          "name": "stdout",
          "text": [
            "First 10 Fibonacci numbers:\n",
            "[0, 1, 1, 2, 3, 5, 8, 13, 21, 34]\n"
          ]
        }
      ]
    },
    {
      "cell_type": "code",
      "source": [
        "# 37. Develop a program that calculates the nth term of the Fibonacci sequence using memoization.\n",
        "\n",
        "def fibonacci(n, memo={}):\n",
        "    if n in memo:\n",
        "        return memo[n]\n",
        "    if n <= 1:\n",
        "        return n\n",
        "    memo[n] = fibonacci(n - 1, memo) + fibonacci(n - 2, memo)\n",
        "    return memo[n]\n",
        "\n",
        "# Define the term to calculate\n",
        "n = 10\n",
        "\n",
        "print(f\"The {n}th Fibonacci number is {fibonacci(n)}.\")\n"
      ],
      "metadata": {
        "colab": {
          "base_uri": "https://localhost:8080/"
        },
        "id": "jUCEkuA7dn2t",
        "outputId": "14685a33-7aaa-45af-ada3-1a311d8a9e17"
      },
      "execution_count": 69,
      "outputs": [
        {
          "output_type": "stream",
          "name": "stdout",
          "text": [
            "The 10th Fibonacci number is 55.\n"
          ]
        }
      ]
    },
    {
      "cell_type": "code",
      "source": [
        "# 38. Create a program that generates a calendar for a given month and year using conditional statements.\n",
        "\n",
        "import calendar\n",
        "\n",
        "def print_calendar(year, month):\n",
        "    print(calendar.month(year, month))\n",
        "\n",
        "# Define the year and month\n",
        "year = 2024\n",
        "month = 8\n",
        "\n",
        "print_calendar(year, month)\n"
      ],
      "metadata": {
        "colab": {
          "base_uri": "https://localhost:8080/"
        },
        "id": "qVjLLaLldpzE",
        "outputId": "23607eb9-09ff-4b33-dc7c-f9726c617dc5"
      },
      "execution_count": 70,
      "outputs": [
        {
          "output_type": "stream",
          "name": "stdout",
          "text": [
            "    August 2024\n",
            "Mo Tu We Th Fr Sa Su\n",
            "          1  2  3  4\n",
            " 5  6  7  8  9 10 11\n",
            "12 13 14 15 16 17 18\n",
            "19 20 21 22 23 24 25\n",
            "26 27 28 29 30 31\n",
            "\n"
          ]
        }
      ]
    },
    {
      "cell_type": "code",
      "source": [
        "# 39. Build a program that simulates a basic text-based blackjack game against the computer.\n",
        "\n",
        "import random\n",
        "\n",
        "def deal_card():\n",
        "    return random.choice([2, 3, 4, 5, 6, 7, 8, 9, 10, 10, 10, 10, 11])\n",
        "\n",
        "def calculate_score(cards):\n",
        "    if sum(cards) == 21 and len(cards) == 2:\n",
        "        return 0  # Blackjack\n",
        "    if 11 in cards and sum(cards) > 21:\n",
        "        cards.remove(11)\n",
        "        cards.append(1)\n",
        "    return sum(cards)\n",
        "\n",
        "def blackjack():\n",
        "    player_cards = [deal_card(), deal_card()]\n",
        "    computer_cards = [deal_card(), deal_card()]\n",
        "\n",
        "    game_over = False\n",
        "\n",
        "    while not game_over:\n",
        "        player_score = calculate_score(player_cards)\n",
        "        computer_score = calculate_score(computer_cards)\n",
        "\n",
        "        print(f\"Your cards: {player_cards}, current score: {player_score}\")\n",
        "        print(f\"Computer's first card: {computer_cards[0]}\")\n",
        "\n",
        "        if player_score == 0 or computer_score == 0 or player_score > 21:\n",
        "            game_over = True\n",
        "        else:\n",
        "            should_continue = input(\"Type 'y' to get another card, type 'n' to pass: \").lower()\n",
        "            if should_continue == 'y':\n",
        "                player_cards.append(deal_card())\n",
        "            else:\n",
        "                game_over = True\n",
        "\n",
        "    while computer_score != 0 and computer_score < 17:\n",
        "        computer_cards.append(deal_card())\n",
        "        computer_score = calculate_score(computer_cards)\n",
        "\n",
        "    print(f\"Your final hand: {player_cards}, final score: {player_score}\")\n",
        "    print(f\"Computer's final hand: {computer_cards}, final score: {computer_score}\")\n",
        "\n",
        "    if player_score > 21:\n",
        "        print(\"You went over. You lose.\")\n",
        "    elif computer_score > 21 or player_score > computer_score:\n",
        "        print(\"You win!\")\n",
        "    elif player_score < computer_score:\n",
        "        print(\"You lose.\")\n",
        "    else:\n",
        "        print(\"It's a draw.\")\n",
        "\n",
        "blackjack()\n"
      ],
      "metadata": {
        "colab": {
          "base_uri": "https://localhost:8080/"
        },
        "id": "03STAPLAdsLM",
        "outputId": "f1aeef9a-6c6f-4d56-aeda-2a1cd2273b15"
      },
      "execution_count": 71,
      "outputs": [
        {
          "output_type": "stream",
          "name": "stdout",
          "text": [
            "Your cards: [5, 4], current score: 9\n",
            "Computer's first card: 10\n",
            "Type 'y' to get another card, type 'n' to pass: 4\n",
            "Your final hand: [5, 4], final score: 9\n",
            "Computer's final hand: [10, 7], final score: 17\n",
            "You lose.\n"
          ]
        }
      ]
    },
    {
      "cell_type": "code",
      "source": [
        "# 40. Write a program that generates the prime factors of a given number using trial division.\n",
        "\n",
        "def prime_factors(n):\n",
        "    factors = []\n",
        "    # Check for number of 2s that divide n\n",
        "    while n % 2 == 0:\n",
        "        factors.append(2)\n",
        "        n //= 2\n",
        "    # n must be odd at this point, so we can skip even numbers\n",
        "    for i in range(3, int(n**0.5) + 1, 2):\n",
        "        # While i divides n, append i and divide n\n",
        "        while n % i == 0:\n",
        "            factors.append(i)\n",
        "            n //= i\n",
        "    # This condition is to check if n is a prime number greater than 2\n",
        "    if n > 2:\n",
        "        factors.append(n)\n",
        "    return factors\n",
        "\n",
        "# Define the number\n",
        "number = 315\n",
        "\n",
        "print(f\"Prime factors of {number}: {prime_factors(number)}\")\n"
      ],
      "metadata": {
        "colab": {
          "base_uri": "https://localhost:8080/"
        },
        "id": "A3GdxvR3dxti",
        "outputId": "4d90f7ee-c5a3-498e-ffb3-abaa83f74752"
      },
      "execution_count": 72,
      "outputs": [
        {
          "output_type": "stream",
          "name": "stdout",
          "text": [
            "Prime factors of 315: [3, 3, 5, 7]\n"
          ]
        }
      ]
    },
    {
      "cell_type": "code",
      "source": [],
      "metadata": {
        "id": "HnIp0XrmeD3R"
      },
      "execution_count": null,
      "outputs": []
    }
  ]
}