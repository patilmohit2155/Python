{
  "nbformat": 4,
  "nbformat_minor": 0,
  "metadata": {
    "colab": {
      "provenance": []
    },
    "kernelspec": {
      "name": "python3",
      "display_name": "Python 3"
    },
    "language_info": {
      "name": "python"
    }
  },
  "cells": [
    {
      "cell_type": "markdown",
      "source": [
        "# For Loop"
      ],
      "metadata": {
        "id": "yUCjWAlUiX4r"
      }
    },
    {
      "cell_type": "code",
      "execution_count": 1,
      "metadata": {
        "colab": {
          "base_uri": "https://localhost:8080/"
        },
        "id": "NrH-WRmugyAe",
        "outputId": "421a0529-8988-4226-dd1f-c66e9a18fe55"
      },
      "outputs": [
        {
          "output_type": "stream",
          "name": "stdout",
          "text": [
            "1\n",
            "2\n",
            "3\n",
            "4\n",
            "5\n",
            "6\n",
            "7\n",
            "8\n",
            "9\n",
            "10\n"
          ]
        }
      ],
      "source": [
        "# 1. Write a Python program to print numbers from 1 to 10 using a for loop.\n",
        "\n",
        "# Loop through a range of numbers from 1 to 10\n",
        "for i in range(1, 11):  # range(1, 11) generates numbers from 1 to 10 (11 is excluded)\n",
        "    print(i)  # Print the current number\n"
      ]
    },
    {
      "cell_type": "code",
      "source": [
        "# 2. Explain the difference between a for loop and a while loop in Python.\n",
        "\n",
        "# A for loop is used when the number of iterations is known beforehand. It iterates over a sequence\n",
        "# (like a list, tuple, or range) and stops when it reaches the end of the sequence.\n",
        "# Example:\n",
        "for i in range(5):  # Iterates exactly 5 times\n",
        "    print(i)\n",
        "\n",
        "# A while loop is used when the number of iterations is not known and depends on a condition.\n",
        "# It continues to loop as long as the condition is True.\n",
        "# Example:\n",
        "i = 0\n",
        "while i < 5:  # Continues to loop until i is no longer less than 5\n",
        "    print(i)\n",
        "    i += 1\n"
      ],
      "metadata": {
        "colab": {
          "base_uri": "https://localhost:8080/"
        },
        "id": "_REHYTLug6JR",
        "outputId": "5259b08d-32ea-495c-b194-0b8ac8335b8b"
      },
      "execution_count": 2,
      "outputs": [
        {
          "output_type": "stream",
          "name": "stdout",
          "text": [
            "0\n",
            "1\n",
            "2\n",
            "3\n",
            "4\n",
            "0\n",
            "1\n",
            "2\n",
            "3\n",
            "4\n"
          ]
        }
      ]
    },
    {
      "cell_type": "code",
      "source": [
        "# 3. Write a Python program to calculate the sum of all numbers from 1 to 100 using a for loop.\n",
        "\n",
        "total = 0  # Initialize the sum\n",
        "for i in range(1, 101):  # Loop through numbers from 1 to 100\n",
        "    total += i  # Add each number to the total sum\n",
        "print(total)  # Print the total sum\n"
      ],
      "metadata": {
        "colab": {
          "base_uri": "https://localhost:8080/"
        },
        "id": "dNRSvlUQg8LA",
        "outputId": "75c60f46-806f-4d40-8919-a8060ef082e7"
      },
      "execution_count": 3,
      "outputs": [
        {
          "output_type": "stream",
          "name": "stdout",
          "text": [
            "5050\n"
          ]
        }
      ]
    },
    {
      "cell_type": "code",
      "source": [
        "# 4. How do you iterate through a list using a for loop in Python?\n",
        "\n",
        "# Example of iterating through a list\n",
        "my_list = [1, 2, 3, 4, 5]\n",
        "for item in my_list:  # Loop through each element in the list\n",
        "    print(item)  # Print each element\n"
      ],
      "metadata": {
        "colab": {
          "base_uri": "https://localhost:8080/"
        },
        "id": "NqczVIPwg90s",
        "outputId": "b279e94c-6a91-4b7d-ce15-032c16ca47c7"
      },
      "execution_count": 4,
      "outputs": [
        {
          "output_type": "stream",
          "name": "stdout",
          "text": [
            "1\n",
            "2\n",
            "3\n",
            "4\n",
            "5\n"
          ]
        }
      ]
    },
    {
      "cell_type": "code",
      "source": [
        "# 5. Write a Python program to find the product of all elements in a list using a for loop.\n",
        "\n",
        "numbers = [1, 2, 3, 4, 5]\n",
        "product = 1  # Initialize the product to 1\n",
        "for num in numbers:  # Loop through each element in the list\n",
        "    product *= num  # Multiply each element to the product\n",
        "print(product)  # Print the final product\n"
      ],
      "metadata": {
        "colab": {
          "base_uri": "https://localhost:8080/"
        },
        "id": "CyS21z0Fg_0N",
        "outputId": "885d3e53-b940-4d23-96d8-60a3502c8e7b"
      },
      "execution_count": 5,
      "outputs": [
        {
          "output_type": "stream",
          "name": "stdout",
          "text": [
            "120\n"
          ]
        }
      ]
    },
    {
      "cell_type": "code",
      "source": [
        "# 6. Create a Python program that prints all even numbers from 1 to 20 using a for loop.\n",
        "\n",
        "for i in range(1, 21):  # Loop through numbers from 1 to 20\n",
        "    if i % 2 == 0:  # Check if the number is even\n",
        "        print(i)  # Print the even number\n"
      ],
      "metadata": {
        "colab": {
          "base_uri": "https://localhost:8080/"
        },
        "id": "7hY9bLikhByh",
        "outputId": "cd483ecc-c6ae-45f9-c1a9-66c8418f9719"
      },
      "execution_count": 6,
      "outputs": [
        {
          "output_type": "stream",
          "name": "stdout",
          "text": [
            "2\n",
            "4\n",
            "6\n",
            "8\n",
            "10\n",
            "12\n",
            "14\n",
            "16\n",
            "18\n",
            "20\n"
          ]
        }
      ]
    },
    {
      "cell_type": "code",
      "source": [
        "# 7. Write a Python program that calculates the factorial of a number using a for loop.\n",
        "\n",
        "n = 5  # Example number\n",
        "factorial = 1  # Initialize the factorial to 1\n",
        "for i in range(1, n + 1):  # Loop through numbers from 1 to n\n",
        "    factorial *= i  # Multiply each number to the factorial\n",
        "print(factorial)  # Print the factorial\n"
      ],
      "metadata": {
        "colab": {
          "base_uri": "https://localhost:8080/"
        },
        "id": "yFykJGK_hDop",
        "outputId": "b9516d0a-bc03-40f3-bc08-f240f520ebf7"
      },
      "execution_count": 7,
      "outputs": [
        {
          "output_type": "stream",
          "name": "stdout",
          "text": [
            "120\n"
          ]
        }
      ]
    },
    {
      "cell_type": "code",
      "source": [
        "# 8. How can you iterate through the characters of a string using a for loop in Python?\n",
        "\n",
        "# Example string\n",
        "my_string = \"Hello, World!\"\n",
        "for char in my_string:  # Loop through each character in the string\n",
        "    print(char)  # Print each character\n"
      ],
      "metadata": {
        "colab": {
          "base_uri": "https://localhost:8080/"
        },
        "id": "iUUB3bW_hFeb",
        "outputId": "dfe3a072-7552-49bd-e9b7-eeecc7a1fdb1"
      },
      "execution_count": 8,
      "outputs": [
        {
          "output_type": "stream",
          "name": "stdout",
          "text": [
            "H\n",
            "e\n",
            "l\n",
            "l\n",
            "o\n",
            ",\n",
            " \n",
            "W\n",
            "o\n",
            "r\n",
            "l\n",
            "d\n",
            "!\n"
          ]
        }
      ]
    },
    {
      "cell_type": "code",
      "source": [
        "# 9. Write a Python program to find the largest number in a list using a for loop.\n",
        "\n",
        "numbers = [10, 20, 4, 45, 99]\n",
        "largest = numbers[0]  # Initialize the largest number with the first element\n",
        "for num in numbers:  # Loop through each element in the list\n",
        "    if num > largest:  # Check if the current number is larger than the current largest\n",
        "        largest = num  # Update the largest number\n",
        "print(largest)  # Print the largest number\n"
      ],
      "metadata": {
        "colab": {
          "base_uri": "https://localhost:8080/"
        },
        "id": "3MuVJzFzhHiB",
        "outputId": "7d2d5abd-a618-41db-a679-574e32786694"
      },
      "execution_count": 9,
      "outputs": [
        {
          "output_type": "stream",
          "name": "stdout",
          "text": [
            "99\n"
          ]
        }
      ]
    },
    {
      "cell_type": "code",
      "source": [
        "# 10. Create a Python program that prints the Fibonacci sequence up to a specified limit using a for loop.\n",
        "\n",
        "limit = 50  # Example limit\n",
        "a, b = 0, 1  # Initialize the first two numbers of the Fibonacci sequence\n",
        "while a <= limit:  # Loop until the current number exceeds the limit\n",
        "    print(a)  # Print the current number\n",
        "    a, b = b, a + b  # Update the values of a and b\n"
      ],
      "metadata": {
        "colab": {
          "base_uri": "https://localhost:8080/"
        },
        "id": "Jt_RhabPhJ6o",
        "outputId": "faf13b62-7f36-43eb-df38-bcf27ae7e909"
      },
      "execution_count": 10,
      "outputs": [
        {
          "output_type": "stream",
          "name": "stdout",
          "text": [
            "0\n",
            "1\n",
            "1\n",
            "2\n",
            "3\n",
            "5\n",
            "8\n",
            "13\n",
            "21\n",
            "34\n"
          ]
        }
      ]
    },
    {
      "cell_type": "code",
      "source": [
        "# 11. Write a Python program to count the number of vowels in a given string using a for loop.\n",
        "\n",
        "string = \"Hello, World!\"\n",
        "vowels = \"aeiouAEIOU\"  # Define the vowels\n",
        "count = 0  # Initialize the vowel count\n",
        "for char in string:  # Loop through each character in the string\n",
        "    if char in vowels:  # Check if the character is a vowel\n",
        "        count += 1  # Increment the count\n",
        "print(count)  # Print the total number of vowels\n"
      ],
      "metadata": {
        "colab": {
          "base_uri": "https://localhost:8080/"
        },
        "id": "nTP0GnU7hMFe",
        "outputId": "0a137664-9f8d-45b1-a5ea-db17de2904b9"
      },
      "execution_count": 11,
      "outputs": [
        {
          "output_type": "stream",
          "name": "stdout",
          "text": [
            "3\n"
          ]
        }
      ]
    },
    {
      "cell_type": "code",
      "source": [
        "# 12. Create a Python program that generates a multiplication table for a given number using a for loop.\n",
        "\n",
        "num = 7  # Example number\n",
        "for i in range(1, 11):  # Loop through numbers from 1 to 10\n",
        "    print(f\"{num} x {i} = {num * i}\")  # Print the multiplication table\n"
      ],
      "metadata": {
        "colab": {
          "base_uri": "https://localhost:8080/"
        },
        "id": "Sd7ve37zhN1I",
        "outputId": "904a94bd-620e-4867-9441-a61401c667d6"
      },
      "execution_count": 12,
      "outputs": [
        {
          "output_type": "stream",
          "name": "stdout",
          "text": [
            "7 x 1 = 7\n",
            "7 x 2 = 14\n",
            "7 x 3 = 21\n",
            "7 x 4 = 28\n",
            "7 x 5 = 35\n",
            "7 x 6 = 42\n",
            "7 x 7 = 49\n",
            "7 x 8 = 56\n",
            "7 x 9 = 63\n",
            "7 x 10 = 70\n"
          ]
        }
      ]
    },
    {
      "cell_type": "code",
      "source": [
        "# 13. Write a Python program to reverse a list using a for loop.\n",
        "\n",
        "my_list = [1, 2, 3, 4, 5]\n",
        "reversed_list = []  # Initialize an empty list to store the reversed elements\n",
        "for i in range(len(my_list) - 1, -1, -1):  # Loop through the original list in reverse order\n",
        "    reversed_list.append(my_list[i])  # Append each element to the reversed list\n",
        "print(reversed_list)  # Print the reversed list\n"
      ],
      "metadata": {
        "colab": {
          "base_uri": "https://localhost:8080/"
        },
        "id": "0aBIZDVthPpq",
        "outputId": "22e5d2a3-570b-4e2f-d2c3-6dcd27bb0e8f"
      },
      "execution_count": 13,
      "outputs": [
        {
          "output_type": "stream",
          "name": "stdout",
          "text": [
            "[5, 4, 3, 2, 1]\n"
          ]
        }
      ]
    },
    {
      "cell_type": "code",
      "source": [
        "# 14. Write a Python program to find the common elements between two lists using a for loop.\n",
        "\n",
        "list1 = [1, 2, 3, 4, 5]\n",
        "list2 = [3, 4, 5, 6, 7]\n",
        "common_elements = []  # Initialize an empty list to store common elements\n",
        "for element in list1:  # Loop through each element in the first list\n",
        "    if element in list2:  # Check if the element is also in the second list\n",
        "        common_elements.append(element)  # Add it to the common elements list\n",
        "print(common_elements)  # Print the common elements\n"
      ],
      "metadata": {
        "colab": {
          "base_uri": "https://localhost:8080/"
        },
        "id": "X5e08zlLhvzS",
        "outputId": "b0d3dcc9-998c-4115-c52d-40cc69ad415f"
      },
      "execution_count": 14,
      "outputs": [
        {
          "output_type": "stream",
          "name": "stdout",
          "text": [
            "[3, 4, 5]\n"
          ]
        }
      ]
    },
    {
      "cell_type": "code",
      "source": [
        "# 15. Explain how to use a for loop to iterate through the keys and values of a dictionary in Python.\n",
        "\n",
        "# Example dictionary\n",
        "my_dict = {\"a\": 1, \"b\": 2, \"c\": 3}\n",
        "\n",
        "# Loop through the keys and values of the dictionary\n",
        "for key, value in my_dict.items():  # .items() returns key-value pairs\n",
        "    print(f\"Key: {key}, Value: {value}\")  # Print the key and its corresponding value\n"
      ],
      "metadata": {
        "colab": {
          "base_uri": "https://localhost:8080/"
        },
        "id": "1ckztzDjh7GH",
        "outputId": "1f277171-9b2a-4f5b-a1bc-d115c4027409"
      },
      "execution_count": 15,
      "outputs": [
        {
          "output_type": "stream",
          "name": "stdout",
          "text": [
            "Key: a, Value: 1\n",
            "Key: b, Value: 2\n",
            "Key: c, Value: 3\n"
          ]
        }
      ]
    },
    {
      "cell_type": "code",
      "source": [
        "# 16. Write a Python program to find the GCD (Greatest Common Divisor) of two numbers using a for loop.\n",
        "\n",
        "a = 60  # Example number 1\n",
        "b = 48  # Example number 2\n",
        "gcd = 1  # Initialize GCD\n",
        "for i in range(1, min(a, b) + 1):  # Loop through all numbers up to the minimum of a and b\n",
        "    if a % i == 0 and b % i == 0:  # Check if i divides both a and b without remainder\n",
        "        gcd = i  # Update GCD\n",
        "print(gcd)\n"
      ],
      "metadata": {
        "colab": {
          "base_uri": "https://localhost:8080/"
        },
        "id": "bN-0AYjuh8kW",
        "outputId": "bd8e8a9d-0495-4dbc-ccf0-b3b60012f6b5"
      },
      "execution_count": 17,
      "outputs": [
        {
          "output_type": "stream",
          "name": "stdout",
          "text": [
            "12\n"
          ]
        }
      ]
    },
    {
      "cell_type": "code",
      "source": [
        "# 17. Create a Python program that checks if a string is a palindrome using a for loop.\n",
        "\n",
        "string = \"madam\"  # Example string\n",
        "is_palindrome = True  # Initialize the palindrome status as True\n",
        "for i in range(len(string) // 2):  # Loop through the first half of the string\n",
        "    if string[i] != string[-(i + 1)]:  # Compare characters from start and end\n",
        "        is_palindrome = False  # Set to False if characters don't match\n",
        "        break  # Exit the loop\n",
        "print(is_palindrome)  # Print whether the string is a palindrome\n"
      ],
      "metadata": {
        "colab": {
          "base_uri": "https://localhost:8080/"
        },
        "id": "5KhZhmMNh-R1",
        "outputId": "9726d6ba-3581-4cc9-a0b1-b5877405efb6"
      },
      "execution_count": 18,
      "outputs": [
        {
          "output_type": "stream",
          "name": "stdout",
          "text": [
            "True\n"
          ]
        }
      ]
    },
    {
      "cell_type": "code",
      "source": [
        "# 18. Write a Python program to remove duplicates from a list using a for loop.\n",
        "\n",
        "my_list = [1, 2, 2, 3, 4, 4, 5]\n",
        "unique_list = []  # Initialize an empty list to store unique elements\n",
        "for item in my_list:  # Loop through each element in the original list\n",
        "    if item not in unique_list:  # Check if the element is not already in the unique list\n",
        "        unique_list.append(item)  # Add it to the unique list\n",
        "print(unique_list)  # Print the list with duplicates removed\n"
      ],
      "metadata": {
        "colab": {
          "base_uri": "https://localhost:8080/"
        },
        "id": "xqKjBqLHiGGm",
        "outputId": "89daba6a-fd96-4107-b8ce-abca78c7cb4e"
      },
      "execution_count": 19,
      "outputs": [
        {
          "output_type": "stream",
          "name": "stdout",
          "text": [
            "[1, 2, 3, 4, 5]\n"
          ]
        }
      ]
    },
    {
      "cell_type": "code",
      "source": [
        "# 19. Create a Python program that counts the number of words in a sentence using a for loop.\n",
        "\n",
        "sentence = \"This is an example sentence.\"\n",
        "words = sentence.split()  # Split the sentence into words\n",
        "word_count = 0  # Initialize the word count\n",
        "for word in words:  # Loop through each word\n",
        "    word_count += 1  # Increment the word count\n",
        "print(word_count)  # Print the total number of words\n"
      ],
      "metadata": {
        "colab": {
          "base_uri": "https://localhost:8080/"
        },
        "id": "vu6946uciH3r",
        "outputId": "920e0469-0486-48ee-cf70-337d7c2ab8d0"
      },
      "execution_count": 20,
      "outputs": [
        {
          "output_type": "stream",
          "name": "stdout",
          "text": [
            "5\n"
          ]
        }
      ]
    },
    {
      "cell_type": "code",
      "source": [
        "# 20. Write a Python program to find the sum of all odd numbers from 1 to 50 using a for loop.\n",
        "\n",
        "total_sum = 0  # Initialize the sum\n",
        "for i in range(1, 51):  # Loop through numbers from 1 to 50\n",
        "    if i % 2 != 0:  # Check if the number is odd\n",
        "        total_sum += i  # Add the odd number to the sum\n",
        "print(total_sum)  # Print the total sum\n"
      ],
      "metadata": {
        "colab": {
          "base_uri": "https://localhost:8080/"
        },
        "id": "rOIyDwLoiJvF",
        "outputId": "b8e67d1a-e6cd-46bd-92b9-978be876feff"
      },
      "execution_count": 21,
      "outputs": [
        {
          "output_type": "stream",
          "name": "stdout",
          "text": [
            "625\n"
          ]
        }
      ]
    },
    {
      "cell_type": "code",
      "source": [
        "# 21. Write a Python program that checks if a given year is a leap year using a for loop.\n",
        "\n",
        "year = 2024  # Example year\n",
        "is_leap = False  # Initialize the leap year status as False\n",
        "if (year % 4 == 0 and year % 100 != 0) or year % 400 == 0:  # Check leap year conditions\n",
        "    is_leap = True  # Set to True if it's a leap year\n",
        "print(is_leap)  # Print whether the year is a leap year\n"
      ],
      "metadata": {
        "colab": {
          "base_uri": "https://localhost:8080/"
        },
        "id": "PF2W1mB6iMQR",
        "outputId": "348cc6c9-5b2f-4b65-e7c5-dab44bb28082"
      },
      "execution_count": 22,
      "outputs": [
        {
          "output_type": "stream",
          "name": "stdout",
          "text": [
            "True\n"
          ]
        }
      ]
    },
    {
      "cell_type": "code",
      "source": [
        "# 22. Create a Python program that calculates the square root of a number using a for loop.\n",
        "\n",
        "number = 25  # Example number\n",
        "sqrt = 0  # Initialize the square root\n",
        "for i in range(1, number + 1):  # Loop through numbers from 1 to the number\n",
        "    if i * i == number:  # Check if i squared equals the number\n",
        "        sqrt = i  # Set sqrt to i if the condition is met\n",
        "        break  # Exit the loop\n",
        "print(sqrt)  # Print the square root\n"
      ],
      "metadata": {
        "colab": {
          "base_uri": "https://localhost:8080/"
        },
        "id": "cJpmcTwMiObT",
        "outputId": "5739ff49-7e99-4a29-f85d-1b5ded4c26e9"
      },
      "execution_count": 23,
      "outputs": [
        {
          "output_type": "stream",
          "name": "stdout",
          "text": [
            "5\n"
          ]
        }
      ]
    },
    {
      "cell_type": "code",
      "source": [
        "# 23. Write a Python program to find the LCM (Least Common Multiple) of two numbers using a for loop.\n",
        "\n",
        "a = 15  # Example number 1\n",
        "b = 20  # Example number 2\n",
        "lcm = max(a, b)  # Initialize LCM with the maximum of a and b\n",
        "while True:  # Loop indefinitely\n",
        "    if lcm % a == 0 and lcm % b == 0:  # Check if the current LCM is a multiple of both a and b\n",
        "        break  # Exit the loop if the condition is met\n",
        "    lcm += 1  # Increment LCM\n",
        "print(lcm)  # Print the LCM\n"
      ],
      "metadata": {
        "colab": {
          "base_uri": "https://localhost:8080/"
        },
        "id": "4p205-HHiQG_",
        "outputId": "a18ec777-b061-4a3a-b4f7-7b588145ec86"
      },
      "execution_count": 24,
      "outputs": [
        {
          "output_type": "stream",
          "name": "stdout",
          "text": [
            "60\n"
          ]
        }
      ]
    },
    {
      "cell_type": "markdown",
      "source": [
        "# If else"
      ],
      "metadata": {
        "id": "CDbnjTiViimC"
      }
    },
    {
      "cell_type": "code",
      "source": [
        "# 1. Write a Python program to check if a number is positive, negative, or zero using an if-else statement.\n",
        "\n",
        "number = 10  # Example number\n",
        "if number > 0:  # Check if the number is positive\n",
        "    print(\"Positive\")\n",
        "elif number < 0:  # Check if the number is negative\n",
        "    print(\"Negative\")\n",
        "else:  # If neither positive nor negative, it must be zero\n",
        "    print(\"Zero\")\n"
      ],
      "metadata": {
        "colab": {
          "base_uri": "https://localhost:8080/"
        },
        "id": "dOEMr8tbiSCA",
        "outputId": "3649449c-928b-4aae-bd07-b30c2a6aeed5"
      },
      "execution_count": 26,
      "outputs": [
        {
          "output_type": "stream",
          "name": "stdout",
          "text": [
            "Positive\n"
          ]
        }
      ]
    },
    {
      "cell_type": "code",
      "source": [
        "# 2. Create a Python program that checks if a given number is even or odd using an if-else statement.\n",
        "\n",
        "number = 7  # Example number\n",
        "if number % 2 == 0:  # Check if the number is even\n",
        "    print(\"Even\")\n",
        "else:  # If not even, it must be odd\n",
        "    print(\"Odd\")\n"
      ],
      "metadata": {
        "colab": {
          "base_uri": "https://localhost:8080/"
        },
        "id": "15YCXLYtiy9Y",
        "outputId": "820a94c5-0fcd-42e2-b942-4bd129697ff8"
      },
      "execution_count": 27,
      "outputs": [
        {
          "output_type": "stream",
          "name": "stdout",
          "text": [
            "Odd\n"
          ]
        }
      ]
    },
    {
      "cell_type": "code",
      "source": [
        "# 3. How can you use nested if-else statements in Python, and provide an example?\n",
        "\n",
        "number = -5  # Example number\n",
        "if number >= 0:  # First condition: Check if the number is non-negative\n",
        "    if number == 0:  # Nested condition: Check if the number is zero\n",
        "        print(\"Zero\")\n",
        "    else:  # If not zero, it must be positive\n",
        "        print(\"Positive\")\n",
        "else:  # If the first condition is not met, the number must be negative\n",
        "    print(\"Negative\")\n"
      ],
      "metadata": {
        "colab": {
          "base_uri": "https://localhost:8080/"
        },
        "id": "5uOOcSJLizuP",
        "outputId": "eb3d21c8-ca84-458c-8fe3-e02b8e53be0f"
      },
      "execution_count": 28,
      "outputs": [
        {
          "output_type": "stream",
          "name": "stdout",
          "text": [
            "Negative\n"
          ]
        }
      ]
    },
    {
      "cell_type": "code",
      "source": [
        "# 4. Write a Python program to determine the largest of three numbers using if-else.\n",
        "\n",
        "a = 10  # Example number 1\n",
        "b = 20  # Example number 2\n",
        "c = 15  # Example number 3\n",
        "\n",
        "if a >= b and a >= c:  # Check if a is the largest\n",
        "    print(\"a is the largest\")\n",
        "elif b >= a and b >= c:  # Check if b is the largest\n",
        "    print(\"b is the largest\")\n",
        "else:  # If neither a nor b is the largest, then c must be the largest\n",
        "    print(\"c is the largest\")\n"
      ],
      "metadata": {
        "colab": {
          "base_uri": "https://localhost:8080/"
        },
        "id": "ZBr6CK72i1YX",
        "outputId": "723cb16e-3073-4522-cac8-e83a84771297"
      },
      "execution_count": 29,
      "outputs": [
        {
          "output_type": "stream",
          "name": "stdout",
          "text": [
            "b is the largest\n"
          ]
        }
      ]
    },
    {
      "cell_type": "code",
      "source": [
        "# 5. Write a Python program that calculates the absolute value of a number using if-else.\n",
        "\n",
        "number = -10  # Example number\n",
        "if number < 0:  # Check if the number is negative\n",
        "    absolute_value = -number  # Convert to positive\n",
        "else:  # If not negative, the absolute value is the number itself\n",
        "    absolute_value = number\n",
        "print(absolute_value)\n"
      ],
      "metadata": {
        "colab": {
          "base_uri": "https://localhost:8080/"
        },
        "id": "wkMM917oi3Ke",
        "outputId": "63261e87-1b6a-48ee-eac4-d30d825ff4fd"
      },
      "execution_count": 30,
      "outputs": [
        {
          "output_type": "stream",
          "name": "stdout",
          "text": [
            "10\n"
          ]
        }
      ]
    },
    {
      "cell_type": "code",
      "source": [
        "# 6. Create a Python program that checks if a given character is a vowel or consonant using if-else.\n",
        "\n",
        "char = 'a'  # Example character\n",
        "if char.lower() in 'aeiou':  # Check if the character is a vowel\n",
        "    print(\"Vowel\")\n",
        "else:  # If not a vowel, it must be a consonant\n",
        "    print(\"Consonant\")\n"
      ],
      "metadata": {
        "colab": {
          "base_uri": "https://localhost:8080/"
        },
        "id": "ace0auhzi4yT",
        "outputId": "4527d956-59cb-44c3-8698-9c13a91a5aa6"
      },
      "execution_count": 31,
      "outputs": [
        {
          "output_type": "stream",
          "name": "stdout",
          "text": [
            "Vowel\n"
          ]
        }
      ]
    },
    {
      "cell_type": "code",
      "source": [
        "# 7. Write a Python program to determine if a user is eligible to vote based on their age using if-else.\n",
        "\n",
        "age = 18  # Example age\n",
        "if age >= 18:  # Check if the user is 18 or older\n",
        "    print(\"Eligible to vote\")\n",
        "else:  # If under 18, not eligible to vote\n",
        "    print(\"Not eligible to vote\")\n"
      ],
      "metadata": {
        "colab": {
          "base_uri": "https://localhost:8080/"
        },
        "id": "ABBky8Aoi6oB",
        "outputId": "cea9909a-6be0-486f-f853-4307735d4c37"
      },
      "execution_count": 32,
      "outputs": [
        {
          "output_type": "stream",
          "name": "stdout",
          "text": [
            "Eligible to vote\n"
          ]
        }
      ]
    },
    {
      "cell_type": "code",
      "source": [
        "# 8. Create a Python program that calculates the discount amount based on the purchase amount using if-else.\n",
        "\n",
        "purchase_amount = 150  # Example purchase amount\n",
        "\n",
        "if purchase_amount > 100:  # Check if the purchase amount is greater than 100\n",
        "    discount = purchase_amount * 0.1  # 10% discount\n",
        "else:  # No discount for purchases of 100 or less\n",
        "    discount = 0\n",
        "\n",
        "print(f\"Discount: {discount}\")\n"
      ],
      "metadata": {
        "colab": {
          "base_uri": "https://localhost:8080/"
        },
        "id": "CpAbfhb2i8pV",
        "outputId": "4af35e02-79d3-400d-f004-4f57683715e5"
      },
      "execution_count": 33,
      "outputs": [
        {
          "output_type": "stream",
          "name": "stdout",
          "text": [
            "Discount: 15.0\n"
          ]
        }
      ]
    },
    {
      "cell_type": "code",
      "source": [
        "# 9. Write a Python program to check if a number is within a specified range using if-else.\n",
        "\n",
        "number = 25  # Example number\n",
        "lower_bound = 10  # Lower bound of the range\n",
        "upper_bound = 30  # Upper bound of the range\n",
        "\n",
        "if lower_bound <= number <= upper_bound:  # Check if the number is within the range\n",
        "    print(\"Within range\")\n",
        "else:  # If not within the range\n",
        "    print(\"Out of range\")\n"
      ],
      "metadata": {
        "colab": {
          "base_uri": "https://localhost:8080/"
        },
        "id": "pHLfCGDzi-fK",
        "outputId": "107ddf76-6e0e-46d5-88c7-4629ff95e9eb"
      },
      "execution_count": 34,
      "outputs": [
        {
          "output_type": "stream",
          "name": "stdout",
          "text": [
            "Within range\n"
          ]
        }
      ]
    },
    {
      "cell_type": "code",
      "source": [
        "# 10. Create a Python program that determines the grade of a student based on their score using if-else.\n",
        "\n",
        "score = 85  # Example score\n",
        "\n",
        "if score >= 90:  # Check if the score is 90 or above\n",
        "    grade = 'A'\n",
        "elif score >= 80:  # Check if the score is 80 or above\n",
        "    grade = 'B'\n",
        "elif score >= 70:  # Check if the score is 70 or above\n",
        "    grade = 'C'\n",
        "elif score >= 60:  # Check if the score is 60 or above\n",
        "    grade = 'D'\n",
        "else:  # If the score is below 60\n",
        "    grade = 'F'\n",
        "\n",
        "print(f\"Grade: {grade}\")\n"
      ],
      "metadata": {
        "colab": {
          "base_uri": "https://localhost:8080/"
        },
        "id": "ZnSFBE4ZjBSh",
        "outputId": "f4ba9cd0-d794-4aaf-c950-cbce54655615"
      },
      "execution_count": 35,
      "outputs": [
        {
          "output_type": "stream",
          "name": "stdout",
          "text": [
            "Grade: B\n"
          ]
        }
      ]
    },
    {
      "cell_type": "code",
      "source": [
        "# 11. Write a Python program to check if a string is empty or not using if-else.\n",
        "\n",
        "string = \"\"  # Example string\n",
        "\n",
        "if string:  # Check if the string is not empty\n",
        "    print(\"String is not empty\")\n",
        "else:  # If the string is empty\n",
        "    print(\"String is empty\")\n"
      ],
      "metadata": {
        "colab": {
          "base_uri": "https://localhost:8080/"
        },
        "id": "eXFsaedZjDa2",
        "outputId": "e00ed25c-8ebe-45e8-cdda-0898bf05229b"
      },
      "execution_count": 36,
      "outputs": [
        {
          "output_type": "stream",
          "name": "stdout",
          "text": [
            "String is empty\n"
          ]
        }
      ]
    },
    {
      "cell_type": "code",
      "source": [
        "# 12. Create a Python program that identifies the type of a triangle (e.g., equilateral, isosceles, or scalene) based on input values using if-else.\n",
        "\n",
        "a = 5  # Side 1\n",
        "b = 5  # Side 2\n",
        "c = 5  # Side 3\n",
        "\n",
        "if a == b == c:  # All sides are equal\n",
        "    print(\"Equilateral Triangle\")\n",
        "elif a == b or b == c or c == a:  # Any two sides are equal\n",
        "    print(\"Isosceles Triangle\")\n",
        "else:  # No sides are equal\n",
        "    print(\"Scalene Triangle\")\n"
      ],
      "metadata": {
        "colab": {
          "base_uri": "https://localhost:8080/"
        },
        "id": "2FzoM7uqjFXg",
        "outputId": "e5254e0b-d86c-4ba0-a3dd-6e6f40dba220"
      },
      "execution_count": 37,
      "outputs": [
        {
          "output_type": "stream",
          "name": "stdout",
          "text": [
            "Equilateral Triangle\n"
          ]
        }
      ]
    },
    {
      "cell_type": "code",
      "source": [
        "# 13. Write a Python program to determine the day of the week based on a user-provided number using if-else.\n",
        "\n",
        "day_number = 3  # Example day number\n",
        "\n",
        "if day_number == 1:\n",
        "    print(\"Monday\")\n",
        "elif day_number == 2:\n",
        "    print(\"Tuesday\")\n",
        "elif day_number == 3:\n",
        "    print(\"Wednesday\")\n",
        "elif day_number == 4:\n",
        "    print(\"Thursday\")\n",
        "elif day_number == 5:\n",
        "    print(\"Friday\")\n",
        "elif day_number == 6:\n",
        "    print(\"Saturday\")\n",
        "elif day_number == 7:\n",
        "    print(\"Sunday\")\n",
        "else:  # If the number is not between 1 and 7\n",
        "    print(\"Invalid day number\")\n"
      ],
      "metadata": {
        "colab": {
          "base_uri": "https://localhost:8080/"
        },
        "id": "kweeWx8ujHP4",
        "outputId": "f2c09bca-f346-4e7e-b8c9-f233f7c7bce7"
      },
      "execution_count": 38,
      "outputs": [
        {
          "output_type": "stream",
          "name": "stdout",
          "text": [
            "Wednesday\n"
          ]
        }
      ]
    },
    {
      "cell_type": "code",
      "source": [
        "# 14. Create a Python program that checks if a given year is a leap year using both if-else and a function.\n",
        "\n",
        "def is_leap_year(year):\n",
        "    if (year % 4 == 0 and year % 100 != 0) or year % 400 == 0:  # Leap year conditions\n",
        "        return True\n",
        "    else:\n",
        "        return False\n",
        "\n",
        "year = 2024  # Example year\n",
        "if is_leap_year(year):  # Use the function to check if the year is a leap year\n",
        "    print(\"Leap Year\")\n",
        "else:\n",
        "    print(\"Not a Leap Year\")\n"
      ],
      "metadata": {
        "colab": {
          "base_uri": "https://localhost:8080/"
        },
        "id": "bWHASmjsjJYY",
        "outputId": "4bf0d0f6-91a3-45f8-b39f-f2d7ae945d63"
      },
      "execution_count": 39,
      "outputs": [
        {
          "output_type": "stream",
          "name": "stdout",
          "text": [
            "Leap Year\n"
          ]
        }
      ]
    },
    {
      "cell_type": "code",
      "source": [
        "# 15. How do you use the \"assert\" statement in Python to add debugging checks within if-else blocks?\n",
        "\n",
        "number = 10  # Example number\n",
        "\n",
        "# Use assert to check if a condition is true; if not, it raises an AssertionError\n",
        "assert number > 0, \"Number must be positive\"\n",
        "\n",
        "if number > 0:\n",
        "    print(\"Positive number\")\n",
        "else:\n",
        "    print(\"Non-positive number\")\n"
      ],
      "metadata": {
        "colab": {
          "base_uri": "https://localhost:8080/"
        },
        "id": "FeN5fi_PjLZ-",
        "outputId": "d6b9572a-2167-4221-f6da-c687980f4e4f"
      },
      "execution_count": 41,
      "outputs": [
        {
          "output_type": "stream",
          "name": "stdout",
          "text": [
            "Positive number\n"
          ]
        }
      ]
    },
    {
      "cell_type": "code",
      "source": [
        "# 16. Create a Python program that determines the eligibility of a person for a senior citizen discount based on age using if-else.\n",
        "\n",
        "age = 65  # Example age\n",
        "\n",
        "if age >= 60:  # Check if age is 60 or older\n",
        "    print(\"Eligible for senior citizen discount\")\n",
        "else:  # If under 60, not eligible\n",
        "    print(\"Not eligible for senior citizen discount\")\n"
      ],
      "metadata": {
        "colab": {
          "base_uri": "https://localhost:8080/"
        },
        "id": "Is0WSIcljNw1",
        "outputId": "0ab1d2f5-f3e4-4238-cbc5-c02ada2db189"
      },
      "execution_count": 42,
      "outputs": [
        {
          "output_type": "stream",
          "name": "stdout",
          "text": [
            "Eligible for senior citizen discount\n"
          ]
        }
      ]
    },
    {
      "cell_type": "code",
      "source": [
        "# 17. Write a Python program to categorize a given character as uppercase, lowercase, or neither using if-else.\n",
        "\n",
        "char = 'A'  # Example character\n",
        "\n",
        "if char.isupper():  # Check if the character is uppercase\n",
        "    print(\"Uppercase\")\n",
        "elif char.islower():  # Check if the character is lowercase\n",
        "    print(\"Lowercase\")\n",
        "else:  # If neither, it could be a digit, symbol, etc.\n",
        "    print(\"Neither uppercase nor lowercase\")\n"
      ],
      "metadata": {
        "colab": {
          "base_uri": "https://localhost:8080/"
        },
        "id": "EbYNJtaxjTqK",
        "outputId": "8ebd78e8-0a9b-40be-bafe-723e5bacc671"
      },
      "execution_count": 43,
      "outputs": [
        {
          "output_type": "stream",
          "name": "stdout",
          "text": [
            "Uppercase\n"
          ]
        }
      ]
    },
    {
      "cell_type": "code",
      "source": [
        "# 18. Write a Python program to determine the roots of a quadratic equation using if-else.\n",
        "\n",
        "import math\n",
        "\n",
        "a = 1  # Coefficient of x^2\n",
        "b = -3  # Coefficient of x\n",
        "c = 2  # Constant term\n",
        "\n",
        "discriminant = b**2 - 4*a*c  # Calculate the discriminant\n",
        "\n",
        "if discriminant > 0:  # Two distinct real roots\n",
        "    root1 = (-b + math.sqrt(discriminant)) / (2*a)\n",
        "    root2 = (-b - math.sqrt(discriminant)) / (2*a)\n",
        "    print(f\"Roots are {root1} and {root2}\")\n",
        "elif discriminant == 0:  # One real root\n",
        "    root = -b / (2*a)\n",
        "    print(f\"Root is {root}\")\n",
        "else:  # Complex roots\n",
        "    real_part = -b / (2*a)\n",
        "    imaginary_part = math.sqrt(-discriminant) / (2*a)\n",
        "    print(f\"Roots are {real_part} ± {imaginary_part}i\")\n"
      ],
      "metadata": {
        "colab": {
          "base_uri": "https://localhost:8080/"
        },
        "id": "zaTqJbLQjVK7",
        "outputId": "7e8a6275-2a99-4575-fedb-bf7ab22d2f4c"
      },
      "execution_count": 44,
      "outputs": [
        {
          "output_type": "stream",
          "name": "stdout",
          "text": [
            "Roots are 2.0 and 1.0\n"
          ]
        }
      ]
    },
    {
      "cell_type": "code",
      "source": [
        "# 19. Create a Python program that checks if a given year is a century year or not using if-else.\n",
        "\n",
        "year = 1900  # Example year\n",
        "\n",
        "if year % 100 == 0:  # Check if the year is divisible by 100\n",
        "    print(\"Century year\")\n",
        "else:  # If not divisible by 100\n",
        "    print(\"Not a century year\")\n"
      ],
      "metadata": {
        "colab": {
          "base_uri": "https://localhost:8080/"
        },
        "id": "0XLoHGaLjW29",
        "outputId": "b0c086be-eea5-4f98-ca38-ccee582d1451"
      },
      "execution_count": 45,
      "outputs": [
        {
          "output_type": "stream",
          "name": "stdout",
          "text": [
            "Century year\n"
          ]
        }
      ]
    },
    {
      "cell_type": "code",
      "source": [
        "# 20. Write a Python program to determine if a given number is a perfect square using if-else.\n",
        "\n",
        "import math\n",
        "\n",
        "number = 25  # Example number\n",
        "\n",
        "sqrt = math.sqrt(number)  # Calculate the square root\n",
        "\n",
        "if sqrt.is_integer():  # Check if the square root is an integer\n",
        "    print(\"Perfect square\")\n",
        "else:  # If not an integer\n",
        "    print(\"Not a perfect square\")\n"
      ],
      "metadata": {
        "colab": {
          "base_uri": "https://localhost:8080/"
        },
        "id": "ec-OzfZSjYfE",
        "outputId": "fc19894c-018a-490e-d166-3c9933dbd7dc"
      },
      "execution_count": 46,
      "outputs": [
        {
          "output_type": "stream",
          "name": "stdout",
          "text": [
            "Perfect square\n"
          ]
        }
      ]
    },
    {
      "cell_type": "code",
      "source": [
        "# 21. Explain the purpose of the \"continue\" and \"break\" statements within if-else loops.\n",
        "\n",
        "for i in range(10):\n",
        "    if i == 3:\n",
        "        continue  # Skip the rest of the code in the loop and move to the next iteration\n",
        "    if i == 7:\n",
        "        break  # Exit the loop immediately\n",
        "    print(i)\n"
      ],
      "metadata": {
        "colab": {
          "base_uri": "https://localhost:8080/"
        },
        "id": "akCr4Cofja_m",
        "outputId": "f0a5bb73-1807-4ee2-dd40-4e9c99a23bdb"
      },
      "execution_count": 47,
      "outputs": [
        {
          "output_type": "stream",
          "name": "stdout",
          "text": [
            "0\n",
            "1\n",
            "2\n",
            "4\n",
            "5\n",
            "6\n"
          ]
        }
      ]
    },
    {
      "cell_type": "code",
      "source": [
        "# 22. Create a Python program that calculates the BMI (Body Mass Index) of a person based on their weight and height using if-else.\n",
        "\n",
        "weight = 70  # Weight in kilograms\n",
        "height = 1.75  # Height in meters\n",
        "\n",
        "bmi = weight / (height ** 2)  # Calculate BMI\n",
        "\n",
        "if bmi < 18.5:  # Underweight\n",
        "    category = \"Underweight\"\n",
        "elif 18.5 <= bmi < 24.9:  # Normal weight\n",
        "    category = \"Normal weight\"\n",
        "elif 25 <= bmi < 29.9:  # Overweight\n",
        "    category = \"Overweight\"\n",
        "else:  # Obese\n",
        "    category = \"Obese\"\n",
        "\n",
        "print(f\"BMI: {bmi:.2f}, Category: {category}\")\n"
      ],
      "metadata": {
        "colab": {
          "base_uri": "https://localhost:8080/"
        },
        "id": "Torad_d_jdUf",
        "outputId": "1588e7f1-0b68-4041-8186-d97b27fb70dc"
      },
      "execution_count": 48,
      "outputs": [
        {
          "output_type": "stream",
          "name": "stdout",
          "text": [
            "BMI: 22.86, Category: Normal weight\n"
          ]
        }
      ]
    },
    {
      "cell_type": "code",
      "source": [
        "# 23. How can you use the \"filter()\" function with if-else statements to filter elements from a list?\n",
        "\n",
        "numbers = [1, 2, 3, 4, 5, 6, 7, 8, 9, 10]  # Example list\n",
        "\n",
        "# Filter out even numbers using the filter function\n",
        "even_numbers = list(filter(lambda x: x % 2 == 0, numbers))\n",
        "\n",
        "print(even_numbers)  # Output: [2, 4, 6, 8, 10]\n"
      ],
      "metadata": {
        "colab": {
          "base_uri": "https://localhost:8080/"
        },
        "id": "3BSlRuG9jfZf",
        "outputId": "46c76aa4-ba10-4754-c15f-08aaef0b83f9"
      },
      "execution_count": 49,
      "outputs": [
        {
          "output_type": "stream",
          "name": "stdout",
          "text": [
            "[2, 4, 6, 8, 10]\n"
          ]
        }
      ]
    },
    {
      "cell_type": "code",
      "source": [
        "# 24. Write a Python program to determine if a given number is prime or not using if-else.\n",
        "\n",
        "number = 29  # Example number\n",
        "is_prime = True  # Assume the number is prime\n",
        "\n",
        "if number <= 1:  # Check if the number is less than or equal to 1\n",
        "    is_prime = False\n",
        "else:\n",
        "    for i in range(2, int(number ** 0.5) + 1):  # Loop from 2 to the square root of the number\n",
        "        if number % i == 0:  # Check if the number is divisible by any i\n",
        "            is_prime = False  # If divisible, it's not prime\n",
        "            break\n",
        "\n",
        "if is_prime:\n",
        "    print(\"Prime number\")\n",
        "else:\n",
        "    print(\"Not a prime number\")\n"
      ],
      "metadata": {
        "colab": {
          "base_uri": "https://localhost:8080/"
        },
        "id": "fOVAeWYZjhOp",
        "outputId": "6e90e436-4a7b-4464-8337-6f4fd23581ce"
      },
      "execution_count": 50,
      "outputs": [
        {
          "output_type": "stream",
          "name": "stdout",
          "text": [
            "Prime number\n"
          ]
        }
      ]
    },
    {
      "cell_type": "markdown",
      "source": [
        "# Map"
      ],
      "metadata": {
        "id": "zQB9xYvdjtOX"
      }
    },
    {
      "cell_type": "code",
      "source": [
        "# 1. The `map()` function applies a given function to each item of an iterable (like a list) and returns a map object (an iterator) with the results.\n",
        "\n",
        "# Example: Converting a list of strings to their lengths\n",
        "\n",
        "words = [\"apple\", \"banana\", \"cherry\"]\n",
        "lengths = map(len, words)  # Apply the len() function to each element in the words list\n",
        "\n",
        "print(list(lengths))  # Output: [5, 6, 6]\n"
      ],
      "metadata": {
        "colab": {
          "base_uri": "https://localhost:8080/"
        },
        "id": "He2J5qJujjbW",
        "outputId": "bfbd87ee-3afd-4c53-fab5-b5b5c7d3ef53"
      },
      "execution_count": 51,
      "outputs": [
        {
          "output_type": "stream",
          "name": "stdout",
          "text": [
            "[5, 6, 6]\n"
          ]
        }
      ]
    },
    {
      "cell_type": "code",
      "source": [
        "# 2. Write a Python program that uses the `map()` function to square each element of a list of numbers.\n",
        "\n",
        "numbers = [1, 2, 3, 4, 5]\n",
        "squared_numbers = map(lambda x: x**2, numbers)  # Square each element using map()\n",
        "\n",
        "print(list(squared_numbers))  # Output: [1, 4, 9, 16, 25]\n"
      ],
      "metadata": {
        "colab": {
          "base_uri": "https://localhost:8080/"
        },
        "id": "rlOlXLfujyCC",
        "outputId": "6f41005d-fb1b-4189-de07-2113130663f3"
      },
      "execution_count": 52,
      "outputs": [
        {
          "output_type": "stream",
          "name": "stdout",
          "text": [
            "[1, 4, 9, 16, 25]\n"
          ]
        }
      ]
    },
    {
      "cell_type": "code",
      "source": [
        "# 3. The `map()` function is used to apply a function to each element in an iterable, whereas list comprehension is a more versatile and Pythonic way to generate lists.\n",
        "\n",
        "# Example using map()\n",
        "numbers = [1, 2, 3, 4, 5]\n",
        "squared_numbers_map = map(lambda x: x**2, numbers)\n",
        "\n",
        "# Example using list comprehension\n",
        "squared_numbers_comp = [x**2 for x in numbers]\n",
        "\n",
        "# Both will yield the same result: [1, 4, 9, 16, 25]\n",
        "\n",
        "# Choose map() for readability when applying an existing function; use list comprehension for more complex expressions.\n"
      ],
      "metadata": {
        "id": "oIdZ22v4jzxz"
      },
      "execution_count": 53,
      "outputs": []
    },
    {
      "cell_type": "code",
      "source": [
        "# 4. Create a Python program that uses the `map()` function to convert a list of names to uppercase.\n",
        "\n",
        "names = [\"alice\", \"bob\", \"charlie\"]\n",
        "uppercase_names = map(str.upper, names)  # Convert each name to uppercase using map()\n",
        "\n",
        "print(list(uppercase_names))  # Output: ['ALICE', 'BOB', 'CHARLIE']\n"
      ],
      "metadata": {
        "colab": {
          "base_uri": "https://localhost:8080/"
        },
        "id": "3s3KQgt7j1on",
        "outputId": "3347e949-78b4-4b82-f162-d6fc37c7341e"
      },
      "execution_count": 54,
      "outputs": [
        {
          "output_type": "stream",
          "name": "stdout",
          "text": [
            "['ALICE', 'BOB', 'CHARLIE']\n"
          ]
        }
      ]
    },
    {
      "cell_type": "code",
      "source": [
        "# 5. Write a Python program that uses the `map()` function to calculate the length of each word in a list of strings.\n",
        "\n",
        "words = [\"apple\", \"banana\", \"cherry\"]\n",
        "lengths = map(len, words)  # Calculate the length of each word using map()\n",
        "\n",
        "print(list(lengths))  # Output: [5, 6, 6]\n"
      ],
      "metadata": {
        "colab": {
          "base_uri": "https://localhost:8080/"
        },
        "id": "PqBlV1XNj3JP",
        "outputId": "b2c377f5-ac0d-47bf-a20d-67777cc8ce24"
      },
      "execution_count": 55,
      "outputs": [
        {
          "output_type": "stream",
          "name": "stdout",
          "text": [
            "[5, 6, 6]\n"
          ]
        }
      ]
    },
    {
      "cell_type": "code",
      "source": [
        "# 6. You can use `map()` to apply a function to elements of multiple lists by passing the lists as arguments.\n",
        "\n",
        "# Example: Adding corresponding elements from two lists\n",
        "\n",
        "list1 = [1, 2, 3]\n",
        "list2 = [4, 5, 6]\n",
        "\n",
        "sum_lists = map(lambda x, y: x + y, list1, list2)  # Add corresponding elements\n",
        "\n",
        "print(list(sum_lists))  # Output: [5, 7, 9]\n"
      ],
      "metadata": {
        "colab": {
          "base_uri": "https://localhost:8080/"
        },
        "id": "qamB-seuj50k",
        "outputId": "b3f11c4b-8303-48f6-c6cb-8f0071c247da"
      },
      "execution_count": 56,
      "outputs": [
        {
          "output_type": "stream",
          "name": "stdout",
          "text": [
            "[5, 7, 9]\n"
          ]
        }
      ]
    },
    {
      "cell_type": "code",
      "source": [
        "# 7. Create a Python program that uses `map()` to convert a list of temperatures from Celsius to Fahrenheit.\n",
        "\n",
        "celsius_temps = [0, 20, 37, 100]\n",
        "fahrenheit_temps = map(lambda c: (c * 9/5) + 32, celsius_temps)  # Convert Celsius to Fahrenheit\n",
        "\n",
        "print(list(fahrenheit_temps))  # Output: [32.0, 68.0, 98.6, 212.0]\n"
      ],
      "metadata": {
        "colab": {
          "base_uri": "https://localhost:8080/"
        },
        "id": "LfYJy_V3j7td",
        "outputId": "fac2dfa1-6592-467c-e696-f8e10eae231e"
      },
      "execution_count": 57,
      "outputs": [
        {
          "output_type": "stream",
          "name": "stdout",
          "text": [
            "[32.0, 68.0, 98.6, 212.0]\n"
          ]
        }
      ]
    },
    {
      "cell_type": "code",
      "source": [
        "# 8. Write a Python program that uses the `map()` function to round each element of a list of floating-point numbers to the nearest integer.\n",
        "\n",
        "numbers = [1.2, 2.5, 3.7, 4.9]\n",
        "rounded_numbers = map(round, numbers)  # Round each number using map()\n",
        "\n",
        "print(list(rounded_numbers))  # Output: [1, 2, 4, 5]\n"
      ],
      "metadata": {
        "colab": {
          "base_uri": "https://localhost:8080/"
        },
        "id": "fwKL3RFwj-0e",
        "outputId": "55ccc1e2-e04e-4db0-d4cf-72f4ff94628b"
      },
      "execution_count": 58,
      "outputs": [
        {
          "output_type": "stream",
          "name": "stdout",
          "text": [
            "[1, 2, 4, 5]\n"
          ]
        }
      ]
    },
    {
      "cell_type": "markdown",
      "source": [
        "# Reduce"
      ],
      "metadata": {
        "id": "jKxPlj6LkHaI"
      }
    },
    {
      "cell_type": "code",
      "source": [
        "# 1. The `reduce()` function applies a binary function cumulatively to the items of an iterable, from left to right, reducing the iterable to a single value.\n",
        "# You need to import it from the `functools` module.\n",
        "\n",
        "from functools import reduce\n",
        "\n",
        "# Example: Find the sum of all elements in a list\n",
        "numbers = [1, 2, 3, 4, 5]\n",
        "result = reduce(lambda x, y: x + y, numbers)  # Apply the lambda function cumulatively\n",
        "\n",
        "print(result)  # Output: 15\n"
      ],
      "metadata": {
        "colab": {
          "base_uri": "https://localhost:8080/"
        },
        "id": "AsWt489VkAsv",
        "outputId": "c261c339-24f4-4ef6-e48e-d0f52e401816"
      },
      "execution_count": 59,
      "outputs": [
        {
          "output_type": "stream",
          "name": "stdout",
          "text": [
            "15\n"
          ]
        }
      ]
    },
    {
      "cell_type": "code",
      "source": [
        "# 2. Write a Python program that uses the `reduce()` function to find the product of all elements in a list.\n",
        "\n",
        "from functools import reduce\n",
        "\n",
        "numbers = [1, 2, 3, 4, 5]\n",
        "product = reduce(lambda x, y: x * y, numbers)  # Apply the lambda function cumulatively\n",
        "\n",
        "print(product)  # Output: 120\n"
      ],
      "metadata": {
        "colab": {
          "base_uri": "https://localhost:8080/"
        },
        "id": "9sb4diACkO6m",
        "outputId": "bda8164c-9d57-4286-b3d9-c9f17459c91c"
      },
      "execution_count": 60,
      "outputs": [
        {
          "output_type": "stream",
          "name": "stdout",
          "text": [
            "120\n"
          ]
        }
      ]
    },
    {
      "cell_type": "code",
      "source": [
        "# 3. Create a Python program that uses `reduce()` to find the maximum element in a list of numbers.\n",
        "\n",
        "from functools import reduce\n",
        "\n",
        "numbers = [3, 5, 2, 8, 1]\n",
        "max_element = reduce(lambda x, y: x if x > y else y, numbers)  # Apply the lambda function to find the maximum\n",
        "\n",
        "print(max_element)  # Output: 8\n"
      ],
      "metadata": {
        "colab": {
          "base_uri": "https://localhost:8080/"
        },
        "id": "3A0uySh_kRQJ",
        "outputId": "e7847b87-edb2-4c48-81d7-01093df73c47"
      },
      "execution_count": 61,
      "outputs": [
        {
          "output_type": "stream",
          "name": "stdout",
          "text": [
            "8\n"
          ]
        }
      ]
    },
    {
      "cell_type": "code",
      "source": [
        "# 4. How can you use the `reduce()` function to concatenate a list of strings into a single string?\n",
        "\n",
        "from functools import reduce\n",
        "\n",
        "strings = [\"Hello\", \" \", \"World\", \"!\"]\n",
        "concatenated_string = reduce(lambda x, y: x + y, strings)  # Concatenate strings\n",
        "\n",
        "print(concatenated_string)  # Output: \"Hello World!\"\n"
      ],
      "metadata": {
        "colab": {
          "base_uri": "https://localhost:8080/"
        },
        "id": "JJBdn-3ikTAq",
        "outputId": "26d92583-0a57-4e53-8a58-d19b774c2aee"
      },
      "execution_count": 62,
      "outputs": [
        {
          "output_type": "stream",
          "name": "stdout",
          "text": [
            "Hello World!\n"
          ]
        }
      ]
    },
    {
      "cell_type": "code",
      "source": [
        "# 5. Write a Python program that calculates the factorial of a number using the `reduce()` function.\n",
        "\n",
        "from functools import reduce\n",
        "\n",
        "def factorial(n):\n",
        "    return reduce(lambda x, y: x * y, range(1, n + 1))  # Calculate factorial\n",
        "\n",
        "print(factorial(5))  # Output: 120\n"
      ],
      "metadata": {
        "colab": {
          "base_uri": "https://localhost:8080/"
        },
        "id": "GKGtN2SJkU5K",
        "outputId": "d111b4b1-36b5-4b2d-e36c-6d9f5ddb08f9"
      },
      "execution_count": 63,
      "outputs": [
        {
          "output_type": "stream",
          "name": "stdout",
          "text": [
            "120\n"
          ]
        }
      ]
    },
    {
      "cell_type": "code",
      "source": [
        "# 6. Create a Python program that uses `reduce()` to find the GCD (Greatest Common Divisor) of a list of numbers.\n",
        "\n",
        "from functools import reduce\n",
        "from math import gcd\n",
        "\n",
        "numbers = [48, 64, 80]\n",
        "gcd_result = reduce(gcd, numbers)  # Apply gcd function cumulatively\n",
        "\n",
        "print(gcd_result)  # Output: 16\n"
      ],
      "metadata": {
        "colab": {
          "base_uri": "https://localhost:8080/"
        },
        "id": "2hZFW7AykW4p",
        "outputId": "75699696-1a87-455b-da6b-2f0c9f098160"
      },
      "execution_count": 64,
      "outputs": [
        {
          "output_type": "stream",
          "name": "stdout",
          "text": [
            "16\n"
          ]
        }
      ]
    },
    {
      "cell_type": "code",
      "source": [
        "# 7. Write a Python program that uses the `reduce()` function to find the sum of the digits of a given number.\n",
        "\n",
        "from functools import reduce\n",
        "\n",
        "number = 12345\n",
        "digits = map(int, str(number))  # Convert the number to a list of its digits\n",
        "sum_of_digits = reduce(lambda x, y: x + y, digits)  # Calculate the sum of digits\n",
        "\n",
        "print(sum_of_digits)  # Output: 15\n"
      ],
      "metadata": {
        "colab": {
          "base_uri": "https://localhost:8080/"
        },
        "id": "nlbiH4dzkYii",
        "outputId": "8d22bf6e-85c5-4a58-d490-722091902680"
      },
      "execution_count": 65,
      "outputs": [
        {
          "output_type": "stream",
          "name": "stdout",
          "text": [
            "15\n"
          ]
        }
      ]
    },
    {
      "cell_type": "markdown",
      "source": [
        "# Filter"
      ],
      "metadata": {
        "id": "hRSNBzeikhst"
      }
    },
    {
      "cell_type": "code",
      "source": [
        "# 1. The `filter()` function is used to filter elements of an iterable based on a function that returns either True or False.\n",
        "# It returns an iterator that includes only the elements for which the function returns True.\n",
        "\n",
        "# Example: Filtering out even numbers from a list\n",
        "\n",
        "numbers = [1, 2, 3, 4, 5, 6]\n",
        "even_numbers = filter(lambda x: x % 2 == 0, numbers)  # Apply lambda function to filter even numbers\n",
        "\n",
        "print(list(even_numbers))  # Output: [2, 4, 6]\n"
      ],
      "metadata": {
        "colab": {
          "base_uri": "https://localhost:8080/"
        },
        "id": "4f-vRQIMkbEf",
        "outputId": "3fb52915-113e-4d72-ae6e-69f6506d8932"
      },
      "execution_count": 66,
      "outputs": [
        {
          "output_type": "stream",
          "name": "stdout",
          "text": [
            "[2, 4, 6]\n"
          ]
        }
      ]
    },
    {
      "cell_type": "code",
      "source": [
        "# 2. Write a Python program that uses the `filter()` function to select even numbers from a list of integers.\n",
        "\n",
        "numbers = [1, 2, 3, 4, 5, 6, 7, 8, 9]\n",
        "even_numbers = filter(lambda x: x % 2 == 0, numbers)  # Filter even numbers\n",
        "\n",
        "print(list(even_numbers))  # Output: [2, 4, 6, 8]\n"
      ],
      "metadata": {
        "colab": {
          "base_uri": "https://localhost:8080/"
        },
        "id": "MZ6--ha3kr3s",
        "outputId": "4af1000e-53ae-4e9b-e03d-83912a94d8bc"
      },
      "execution_count": 67,
      "outputs": [
        {
          "output_type": "stream",
          "name": "stdout",
          "text": [
            "[2, 4, 6, 8]\n"
          ]
        }
      ]
    },
    {
      "cell_type": "code",
      "source": [
        "# 3. Create a Python program that uses the `filter()` function to select names that start with a specific letter from a list of strings.\n",
        "\n",
        "names = [\"Alice\", \"Bob\", \"Charlie\", \"David\"]\n",
        "letter = 'A'\n",
        "names_starting_with_letter = filter(lambda name: name.startswith(letter), names)  # Filter names starting with 'A'\n",
        "\n",
        "print(list(names_starting_with_letter))  # Output: ['Alice']\n"
      ],
      "metadata": {
        "colab": {
          "base_uri": "https://localhost:8080/"
        },
        "id": "6gUZ8rq2kuEl",
        "outputId": "fc4b0e2f-593c-4e95-a01c-c4e3c81b5461"
      },
      "execution_count": 68,
      "outputs": [
        {
          "output_type": "stream",
          "name": "stdout",
          "text": [
            "['Alice']\n"
          ]
        }
      ]
    },
    {
      "cell_type": "code",
      "source": [
        "# 4. Write a Python program that uses the `filter()` function to select prime numbers from a list of integers.\n",
        "\n",
        "def is_prime(n):\n",
        "    if n <= 1:\n",
        "        return False\n",
        "    for i in range(2, int(n ** 0.5) + 1):\n",
        "        if n % i == 0:\n",
        "            return False\n",
        "    return True\n",
        "\n",
        "numbers = [10, 15, 23, 42, 59]\n",
        "prime_numbers = filter(is_prime, numbers)  # Filter prime numbers\n",
        "\n",
        "print(list(prime_numbers))  # Output: [23, 59]\n"
      ],
      "metadata": {
        "colab": {
          "base_uri": "https://localhost:8080/"
        },
        "id": "Th4nC7YPkv5D",
        "outputId": "3873a627-a8f8-4423-903c-7a2148261bcb"
      },
      "execution_count": 69,
      "outputs": [
        {
          "output_type": "stream",
          "name": "stdout",
          "text": [
            "[23, 59]\n"
          ]
        }
      ]
    },
    {
      "cell_type": "code",
      "source": [
        "# 5. How can you use the `filter()` function to remove None values from a list in Python?\n",
        "\n",
        "values = [1, None, 2, None, 3, 4]\n",
        "non_none_values = filter(lambda x: x is not None, values)  # Filter out None values\n",
        "\n",
        "print(list(non_none_values))  # Output: [1, 2, 3, 4]\n"
      ],
      "metadata": {
        "colab": {
          "base_uri": "https://localhost:8080/"
        },
        "id": "RU3ImntUkx-G",
        "outputId": "bc1b7b75-2c3c-403a-86c9-3ea1e1dbc8df"
      },
      "execution_count": 70,
      "outputs": [
        {
          "output_type": "stream",
          "name": "stdout",
          "text": [
            "[1, 2, 3, 4]\n"
          ]
        }
      ]
    },
    {
      "cell_type": "code",
      "source": [
        "# 6. Create a Python program that uses `filter()` to select words longer than a certain length from a list of strings.\n",
        "\n",
        "words = [\"apple\", \"banana\", \"cherry\", \"date\"]\n",
        "min_length = 5\n",
        "long_words = filter(lambda word: len(word) > min_length, words)  # Filter words longer than min_length\n",
        "\n",
        "print(list(long_words))  # Output: ['banana', 'cherry']\n"
      ],
      "metadata": {
        "colab": {
          "base_uri": "https://localhost:8080/"
        },
        "id": "BGeu_NiNkz1W",
        "outputId": "dea80d2e-15bc-4087-bfbe-1d270a97f6ff"
      },
      "execution_count": 71,
      "outputs": [
        {
          "output_type": "stream",
          "name": "stdout",
          "text": [
            "['banana', 'cherry']\n"
          ]
        }
      ]
    },
    {
      "cell_type": "code",
      "source": [
        "# 7. Write a Python program that uses the `filter()` function to select elements greater than a specified threshold from a list of values.\n",
        "\n",
        "values = [10, 20, 30, 40, 50]\n",
        "threshold = 25\n",
        "greater_than_threshold = filter(lambda x: x > threshold, values)  # Filter values greater than threshold\n",
        "\n",
        "print(list(greater_than_threshold))  # Output: [30, 40, 50]\n"
      ],
      "metadata": {
        "colab": {
          "base_uri": "https://localhost:8080/"
        },
        "id": "M_Bjx3qjk2Bj",
        "outputId": "08ea4921-e51b-4825-94ff-936c4c11c070"
      },
      "execution_count": 72,
      "outputs": [
        {
          "output_type": "stream",
          "name": "stdout",
          "text": [
            "[30, 40, 50]\n"
          ]
        }
      ]
    },
    {
      "cell_type": "markdown",
      "source": [
        "# Recursion:-"
      ],
      "metadata": {
        "id": "zQIfi3pPlAVu"
      }
    },
    {
      "cell_type": "markdown",
      "source": [
        "1. Explain the concept of recursion in Python. How does it differ from iteration?\n",
        "Recursion in Python refers to a function that calls itself in order to solve a problem. It breaks down a problem into smaller, more manageable instances of the same problem. Recursion generally involves two main components:\n",
        "\n",
        "Base Case: A condition under which the recursion stops.\n",
        "Recursive Case: The part of the function that calls itself with modified arguments.\n",
        "Iteration, on the other hand, uses loops (such as for or while) to repeatedly execute a block of code until a condition is met. Recursion can sometimes be more intuitive for problems that have a natural hierarchical structure or can be divided into similar sub-problems.\n",
        "\n",
        "Difference:\n",
        "\n",
        "Recursion: Can be more intuitive for problems like tree traversal or factorial computation, but can be less efficient due to overhead and risk of stack overflow.\n",
        "Iteration: Often more efficient in terms of memory usage and is usually preferred for simple repetitive tasks"
      ],
      "metadata": {
        "id": "QU6SPFXYlN3f"
      }
    },
    {
      "cell_type": "code",
      "source": [
        "# 2. Write a Python program to calculate the factorial of a number using recursion.\n",
        "\n",
        "def factorial(n):\n",
        "    if n == 0:\n",
        "        return 1\n",
        "    else:\n",
        "        return n * factorial(n - 1)\n",
        "\n",
        "# Example usage\n",
        "print(factorial(5))  # Output: 120\n"
      ],
      "metadata": {
        "colab": {
          "base_uri": "https://localhost:8080/"
        },
        "id": "aEjODlxIk4bk",
        "outputId": "6f572f12-c30f-4331-9935-860ad536b448"
      },
      "execution_count": 73,
      "outputs": [
        {
          "output_type": "stream",
          "name": "stdout",
          "text": [
            "120\n"
          ]
        }
      ]
    },
    {
      "cell_type": "code",
      "source": [
        "# 3. Create a recursive Python function to find the nth Fibonacci number.\n",
        "\n",
        "def fibonacci(n):\n",
        "    if n <= 0:\n",
        "        return 0\n",
        "    elif n == 1:\n",
        "        return 1\n",
        "    else:\n",
        "        return fibonacci(n - 1) + fibonacci(n - 2)\n",
        "\n",
        "# Example usage\n",
        "print(fibonacci(7))  # Output: 13\n"
      ],
      "metadata": {
        "colab": {
          "base_uri": "https://localhost:8080/"
        },
        "id": "UWdMArLYlTls",
        "outputId": "4f405816-4c58-405e-bd27-593a65c3c451"
      },
      "execution_count": 74,
      "outputs": [
        {
          "output_type": "stream",
          "name": "stdout",
          "text": [
            "13\n"
          ]
        }
      ]
    },
    {
      "cell_type": "code",
      "source": [
        "# 4. Write a recursive Python function to calculate the sum of all elements in a list.\n",
        "\n",
        "def sum_list(lst):\n",
        "    if not lst:\n",
        "        return 0\n",
        "    else:\n",
        "        return lst[0] + sum_list(lst[1:])\n",
        "\n",
        "# Example usage\n",
        "print(sum_list([1, 2, 3, 4, 5]))  # Output: 15\n"
      ],
      "metadata": {
        "colab": {
          "base_uri": "https://localhost:8080/"
        },
        "id": "2F8OaIfolWap",
        "outputId": "3f5ed6ec-f69b-4496-8132-b063eddcd526"
      },
      "execution_count": 75,
      "outputs": [
        {
          "output_type": "stream",
          "name": "stdout",
          "text": [
            "15\n"
          ]
        }
      ]
    },
    {
      "cell_type": "markdown",
      "source": [
        "5. How can you prevent a recursive function from running indefinitely, causing a stack overflow error?\n",
        "To prevent a recursive function from running indefinitely:\n",
        "\n",
        "Define a Base Case: Ensure there is a condition under which the function stops calling itself.\n",
        "Ensure Progress Toward Base Case: Each recursive call should make progress towards reaching the base case.\n",
        "Limit Recursive Depth: Sometimes, practical limits on recursion depth can help avoid stack overflow, though this is usually handled by proper base case design."
      ],
      "metadata": {
        "id": "OApIiHinlcId"
      }
    },
    {
      "cell_type": "code",
      "source": [
        "# 6. Create a recursive Python function to find the greatest common divisor (GCD) of two numbers using the Euclidean algorithm.\n",
        "\n",
        "def gcd(a, b):\n",
        "    if b == 0:\n",
        "        return a\n",
        "    else:\n",
        "        return gcd(b, a % b)\n",
        "\n",
        "# Example usage\n",
        "print(gcd(48, 18))  # Output: 6\n"
      ],
      "metadata": {
        "colab": {
          "base_uri": "https://localhost:8080/"
        },
        "id": "HdWuGMswlYes",
        "outputId": "0c5b498a-862d-4954-8e83-3325024c0e49"
      },
      "execution_count": 76,
      "outputs": [
        {
          "output_type": "stream",
          "name": "stdout",
          "text": [
            "6\n"
          ]
        }
      ]
    },
    {
      "cell_type": "code",
      "source": [
        "# 7. Write a recursive Python function to reverse a string.\n",
        "\n",
        "def reverse_string(s):\n",
        "    if len(s) == 0:\n",
        "        return s\n",
        "    else:\n",
        "        return reverse_string(s[1:]) + s[0]\n",
        "\n",
        "# Example usage\n",
        "print(reverse_string(\"hello\"))  # Output: \"olleh\"\n"
      ],
      "metadata": {
        "colab": {
          "base_uri": "https://localhost:8080/"
        },
        "id": "jL8-Fw1KlhWe",
        "outputId": "6a09c068-82be-462e-d89a-ba7578890e4c"
      },
      "execution_count": 77,
      "outputs": [
        {
          "output_type": "stream",
          "name": "stdout",
          "text": [
            "olleh\n"
          ]
        }
      ]
    },
    {
      "cell_type": "code",
      "source": [
        "# 8. Create a recursive Python function to calculate the power of a number (x^n).\n",
        "\n",
        "def power(x, n):\n",
        "    if n == 0:\n",
        "        return 1\n",
        "    else:\n",
        "        return x * power(x, n - 1)\n",
        "\n",
        "# Example usage\n",
        "print(power(2, 3))  # Output: 8\n"
      ],
      "metadata": {
        "colab": {
          "base_uri": "https://localhost:8080/"
        },
        "id": "xkFKAK2-ljeg",
        "outputId": "6b7dbc91-3289-4329-979c-91ef7874844c"
      },
      "execution_count": 78,
      "outputs": [
        {
          "output_type": "stream",
          "name": "stdout",
          "text": [
            "8\n"
          ]
        }
      ]
    },
    {
      "cell_type": "code",
      "source": [
        "# 9. Write a recursive Python function to find all permutations of a given string.\n",
        "\n",
        "def permutations(s):\n",
        "    if len(s) == 0:\n",
        "        return ['']\n",
        "    else:\n",
        "        perms = []\n",
        "        for i in range(len(s)):\n",
        "            for perm in permutations(s[:i] + s[i+1:]):\n",
        "                perms.append(s[i] + perm)\n",
        "        return perms\n",
        "\n",
        "# Example usage\n",
        "print(permutations(\"abc\"))  # Output: ['abc', 'acb', 'bac', 'bca', 'cab', 'cba']\n"
      ],
      "metadata": {
        "colab": {
          "base_uri": "https://localhost:8080/"
        },
        "id": "WvX0b-6Mlle8",
        "outputId": "34a85403-de5a-42da-88ff-2c28a800387b"
      },
      "execution_count": 79,
      "outputs": [
        {
          "output_type": "stream",
          "name": "stdout",
          "text": [
            "['abc', 'acb', 'bac', 'bca', 'cab', 'cba']\n"
          ]
        }
      ]
    },
    {
      "cell_type": "markdown",
      "source": [
        "# Basics of Functions:"
      ],
      "metadata": {
        "id": "pv7LAI_5l2SL"
      }
    },
    {
      "cell_type": "markdown",
      "source": [
        "1. What is a function in Python, and why is it used?\n",
        "A function in Python is a reusable block of code that performs a specific task. It helps in organizing code into modular sections, which can be reused throughout a program. Functions promote code reusability, reduce redundancy, and improve readability by breaking down complex problems into simpler, manageable pieces."
      ],
      "metadata": {
        "id": "qv_iqlO3l3zr"
      }
    },
    {
      "cell_type": "markdown",
      "source": [
        "2. How do you define a function in Python? Provide an example.\n",
        "You define a function in Python using the def keyword, followed by the function name and parentheses. If the function takes parameters, you include them in the parentheses. The function body is indented and contains the code to be executed. Here’s an example"
      ],
      "metadata": {
        "id": "cHhSYF1kl9Q7"
      }
    },
    {
      "cell_type": "code",
      "source": [
        "# 2. Define a function in Python.\n",
        "\n",
        "def greet(name):\n",
        "    print(f\"Hello, {name}!\")\n",
        "\n",
        "# Example usage\n",
        "greet(\"Alice\")  # Output: Hello, Alice!\n"
      ],
      "metadata": {
        "colab": {
          "base_uri": "https://localhost:8080/"
        },
        "id": "MK1fMeCnlnfo",
        "outputId": "1fcca65e-8fae-428b-e07b-aba55c8b3416"
      },
      "execution_count": 80,
      "outputs": [
        {
          "output_type": "stream",
          "name": "stdout",
          "text": [
            "Hello, Alice!\n"
          ]
        }
      ]
    },
    {
      "cell_type": "markdown",
      "source": [
        "3. Explain the difference between a function definition and a function call.\n",
        "Function Definition: This is the part of the code where you specify the function’s name, parameters, and the block of code to execute. It essentially tells Python what the function does.\n",
        "Function Call: This is where you execute the function by using its name followed by parentheses, optionally passing arguments if needed. It invokes the function’s code and can use its returned value."
      ],
      "metadata": {
        "id": "k1O9A06PmT5Q"
      }
    },
    {
      "cell_type": "code",
      "source": [
        "def add(a, b):\n",
        "    return a + b\n"
      ],
      "metadata": {
        "id": "kXcxmZsCmM73"
      },
      "execution_count": 81,
      "outputs": []
    },
    {
      "cell_type": "code",
      "source": [
        "result = add(3, 5)  # This calls the function and stores the result (8) in 'result'\n"
      ],
      "metadata": {
        "id": "O1pGae6wmg7y"
      },
      "execution_count": 82,
      "outputs": []
    },
    {
      "cell_type": "code",
      "source": [
        "# 4. Define a function to calculate the sum of two numbers and call the function.\n",
        "\n",
        "def sum_two_numbers(a, b):\n",
        "    return a + b\n",
        "\n",
        "# Call the function and print the result\n",
        "result = sum_two_numbers(10, 20)\n",
        "print(result)  # Output: 30\n"
      ],
      "metadata": {
        "colab": {
          "base_uri": "https://localhost:8080/"
        },
        "id": "iQqmFDufmjV5",
        "outputId": "b93ac0d5-882a-4f27-c2fb-8ecf5e6b8193"
      },
      "execution_count": 83,
      "outputs": [
        {
          "output_type": "stream",
          "name": "stdout",
          "text": [
            "30\n"
          ]
        }
      ]
    },
    {
      "cell_type": "markdown",
      "source": [
        "5. What is a function signature, and what information does it typically include?\n",
        "A function signature consists of the function’s name and its parameter list. It specifies how the function should be called, including the number and type of parameters. For example, the function signature for a function that adds two numbers might be def add(a, b):.\n",
        "\n",
        "The signature typically includes:\n",
        "\n",
        "Function Name: The name of the function.\n",
        "Parameters: The list of parameters the function accepts (including their names and types, if annotated).\n"
      ],
      "metadata": {
        "id": "EBLa8RpEmoIE"
      }
    },
    {
      "cell_type": "code",
      "source": [
        "# 6. Create a Python function that takes two arguments and returns their product.\n",
        "\n",
        "def multiply(x, y):\n",
        "    return x * y\n",
        "\n",
        "# Example usage\n",
        "product = multiply(4, 5)\n",
        "print(product)  # Output: 20\n"
      ],
      "metadata": {
        "colab": {
          "base_uri": "https://localhost:8080/"
        },
        "id": "mRt71_ewmlod",
        "outputId": "62419b77-c570-4f65-a5ce-d04df86bb00d"
      },
      "execution_count": 84,
      "outputs": [
        {
          "output_type": "stream",
          "name": "stdout",
          "text": [
            "20\n"
          ]
        }
      ]
    },
    {
      "cell_type": "markdown",
      "source": [
        "# Function Parameters and Arguments:"
      ],
      "metadata": {
        "id": "vs3sqvnjmtsP"
      }
    },
    {
      "cell_type": "markdown",
      "source": [
        "1. Explain the concepts of formal parameters and actual arguments in Python functions.\n",
        "Formal Parameters: These are the variables listed in the function definition. They act as placeholders for the values that will be passed to the function. Formal parameters are used within the function to perform operations. For example, in the function definition def add(a, b):, a and b are formal parameters.\n",
        "\n",
        "Actual Arguments: These are the real values or expressions passed to the function when it is called. Actual arguments are assigned to the corresponding formal parameters. For example, in the function call add(5, 3), 5 and 3 are actual arguments."
      ],
      "metadata": {
        "id": "wnoyRclcm-D_"
      }
    },
    {
      "cell_type": "code",
      "source": [
        "# 2. Define a function with default argument values.\n",
        "\n",
        "def greet(name=\"Guest\", message=\"Welcome\"):\n",
        "    print(f\"Hello, {name}! {message}\")\n",
        "\n",
        "# Call the function with both arguments\n",
        "greet(\"Alice\", \"Good to see you!\")  # Output: Hello, Alice! Good to see you!\n",
        "\n",
        "# Call the function with default values\n",
        "greet()  # Output: Hello, Guest! Welcome\n"
      ],
      "metadata": {
        "colab": {
          "base_uri": "https://localhost:8080/"
        },
        "id": "Jolk544XmrB1",
        "outputId": "d9c58bf7-7127-49f0-fd1b-5e6ccd40a2c9"
      },
      "execution_count": 85,
      "outputs": [
        {
          "output_type": "stream",
          "name": "stdout",
          "text": [
            "Hello, Alice! Good to see you!\n",
            "Hello, Guest! Welcome\n"
          ]
        }
      ]
    },
    {
      "cell_type": "markdown",
      "source": [
        "3. How do you use keyword arguments in Python function calls? Provide an example.\n",
        "Keyword arguments allow you to specify which parameter you are providing a value for by naming the parameter in the function call. This can make function calls clearer and more flexible, especially when dealing with functions that have many parameters."
      ],
      "metadata": {
        "id": "Rbp4cB6VnIVv"
      }
    },
    {
      "cell_type": "code",
      "source": [
        "# 3. Use keyword arguments in function calls.\n",
        "\n",
        "def display_info(name, age, city):\n",
        "    print(f\"Name: {name}, Age: {age}, City: {city}\")\n",
        "\n",
        "# Call the function using keyword arguments\n",
        "display_info(age=25, name=\"Bob\", city=\"New York\")\n",
        "# Output: Name: Bob, Age: 25, City: New York\n"
      ],
      "metadata": {
        "colab": {
          "base_uri": "https://localhost:8080/"
        },
        "id": "jFO7MUc7nD8j",
        "outputId": "d7f3457b-b329-49f4-82f2-61b8d5d00cdd"
      },
      "execution_count": 86,
      "outputs": [
        {
          "output_type": "stream",
          "name": "stdout",
          "text": [
            "Name: Bob, Age: 25, City: New York\n"
          ]
        }
      ]
    },
    {
      "cell_type": "code",
      "source": [
        "# 4. Create a function that accepts a variable number of arguments and calculates their sum.\n",
        "\n",
        "def sum_all(*args):\n",
        "    return sum(args)\n",
        "\n",
        "# Example usage\n",
        "print(sum_all(1, 2, 3, 4))  # Output: 10\n",
        "print(sum_all(5, 10, 15))  # Output: 30\n"
      ],
      "metadata": {
        "colab": {
          "base_uri": "https://localhost:8080/"
        },
        "id": "oAsbtpJQnLJK",
        "outputId": "1a10daea-dbbb-4c09-94bc-c99bb20d2faf"
      },
      "execution_count": 87,
      "outputs": [
        {
          "output_type": "stream",
          "name": "stdout",
          "text": [
            "10\n",
            "30\n"
          ]
        }
      ]
    },
    {
      "cell_type": "markdown",
      "source": [
        "5. What is the purpose of the *args and **kwargs syntax in function parameter lists?\n",
        "*args: This syntax is used to pass a variable number of positional arguments to a function. It collects all extra positional arguments into a tuple named args."
      ],
      "metadata": {
        "id": "80Fs8REtnRcI"
      }
    },
    {
      "cell_type": "code",
      "source": [
        "def print_numbers(*args):\n",
        "    for number in args:\n",
        "        print(number)\n",
        "\n",
        "print_numbers(1, 2, 3, 4, 5)\n",
        "# Output: 1 2 3 4 5\n"
      ],
      "metadata": {
        "colab": {
          "base_uri": "https://localhost:8080/"
        },
        "id": "_PTXYtVRnOBV",
        "outputId": "63092594-3bf9-4b16-fd76-9b21d72e9db8"
      },
      "execution_count": 88,
      "outputs": [
        {
          "output_type": "stream",
          "name": "stdout",
          "text": [
            "1\n",
            "2\n",
            "3\n",
            "4\n",
            "5\n"
          ]
        }
      ]
    },
    {
      "cell_type": "markdown",
      "source": [
        "**kwargs: This syntax is used to pass a variable number of keyword arguments to a function. It collects all extra keyword arguments into a dictionary named kwargs."
      ],
      "metadata": {
        "id": "SRxGoBexnYkn"
      }
    },
    {
      "cell_type": "code",
      "source": [
        "def print_info(**kwargs):\n",
        "    for key, value in kwargs.items():\n",
        "        print(f\"{key}: {value}\")\n",
        "\n",
        "print_info(name=\"Alice\", age=30, city=\"Wonderland\")\n",
        "# Output:\n",
        "# name: Alice\n",
        "# age: 30\n",
        "# city: Wonderland\n"
      ],
      "metadata": {
        "colab": {
          "base_uri": "https://localhost:8080/"
        },
        "id": "4qbLRYbVnUWy",
        "outputId": "762d5ef6-eb90-4fb0-aa72-419736d6c5c9"
      },
      "execution_count": 89,
      "outputs": [
        {
          "output_type": "stream",
          "name": "stdout",
          "text": [
            "name: Alice\n",
            "age: 30\n",
            "city: Wonderland\n"
          ]
        }
      ]
    },
    {
      "cell_type": "markdown",
      "source": [
        "Purpose:\n",
        "\n",
        "*args allows a function to accept any number of positional arguments.\n",
        "**kwargs allows a function to accept any number of keyword arguments."
      ],
      "metadata": {
        "id": "OuHGodewnhsF"
      }
    },
    {
      "cell_type": "markdown",
      "source": [
        "# Return Values and Scoping:"
      ],
      "metadata": {
        "id": "FAaUUEjOnjve"
      }
    },
    {
      "cell_type": "markdown",
      "source": [
        "1. Describe the role of the return statement in Python functions and provide examples.\n",
        "The return statement in Python is used to exit a function and optionally pass back a value to the caller. When a return statement is executed, the function terminates, and the specified value is sent back to the code that called the function. If no value is specified, the function returns None by default."
      ],
      "metadata": {
        "id": "UlKGuG6Tnyk9"
      }
    },
    {
      "cell_type": "code",
      "source": [
        "def add(a, b):\n",
        "    return a + b\n",
        "\n",
        "result = add(5, 3)\n",
        "print(result)  # Output: 8\n"
      ],
      "metadata": {
        "colab": {
          "base_uri": "https://localhost:8080/"
        },
        "id": "6MUO5ALEncFc",
        "outputId": "3a49eb0c-d246-47fc-e320-aa9dca69d24b"
      },
      "execution_count": 90,
      "outputs": [
        {
          "output_type": "stream",
          "name": "stdout",
          "text": [
            "8\n"
          ]
        }
      ]
    },
    {
      "cell_type": "code",
      "source": [
        "def greet(name):\n",
        "    print(f\"Hello, {name}\")\n",
        "\n",
        "greet(\"Alice\")  # Output: Hello, Alice\n"
      ],
      "metadata": {
        "colab": {
          "base_uri": "https://localhost:8080/"
        },
        "id": "MgJv9eyFn1om",
        "outputId": "ba287620-9fe8-4e10-e84a-9f59e881a131"
      },
      "execution_count": 91,
      "outputs": [
        {
          "output_type": "stream",
          "name": "stdout",
          "text": [
            "Hello, Alice\n"
          ]
        }
      ]
    },
    {
      "cell_type": "markdown",
      "source": [
        "2. Explain the concept of variable scope in Python, including local and global variables.\n",
        "Variable Scope refers to the region of a program where a variable is accessible. In Python, variables can have different scopes:\n",
        "\n",
        "Local Variables: These are variables defined within a function or block and can only be accessed within that function or block. They are created when the function is called and destroyed when the function exits.\n",
        "\n",
        "Global Variables: These are variables defined outside of all functions and can be accessed from anywhere in the code, including inside functions. They exist for the lifetime of the program."
      ],
      "metadata": {
        "id": "Rrwohgi3n8WX"
      }
    },
    {
      "cell_type": "code",
      "source": [
        "# Global variable\n",
        "global_var = 10\n",
        "\n",
        "def example_function():\n",
        "    # Local variable\n",
        "    local_var = 5\n",
        "    print(\"Local variable:\", local_var)\n",
        "    print(\"Global variable:\", global_var)\n",
        "\n",
        "example_function()\n",
        "# Output:\n",
        "# Local variable: 5\n",
        "# Global variable: 10\n",
        "\n",
        "# Accessing global variable outside the function\n",
        "print(\"Global variable outside function:\", global_var)  # Output: 10\n"
      ],
      "metadata": {
        "colab": {
          "base_uri": "https://localhost:8080/"
        },
        "id": "YvscfrnBn3WN",
        "outputId": "c866e2cb-0a84-478b-ce74-2c8771964113"
      },
      "execution_count": 92,
      "outputs": [
        {
          "output_type": "stream",
          "name": "stdout",
          "text": [
            "Local variable: 5\n",
            "Global variable: 10\n",
            "Global variable outside function: 10\n"
          ]
        }
      ]
    },
    {
      "cell_type": "code",
      "source": [
        "# Global variable\n",
        "counter = 0\n",
        "\n",
        "def increment_counter():\n",
        "    global counter\n",
        "    counter += 1\n",
        "    print(\"Counter inside function:\", counter)\n",
        "\n",
        "increment_counter()  # Output: Counter inside function: 1\n",
        "increment_counter()  # Output: Counter inside function: 2\n",
        "\n",
        "# Accessing global variable outside the function\n",
        "print(\"Counter outside function:\", counter)  # Output: 2\n"
      ],
      "metadata": {
        "colab": {
          "base_uri": "https://localhost:8080/"
        },
        "id": "VS2jaMPPn_z9",
        "outputId": "f7bde83d-e597-4c1a-b5cc-b0f92698040b"
      },
      "execution_count": 93,
      "outputs": [
        {
          "output_type": "stream",
          "name": "stdout",
          "text": [
            "Counter inside function: 1\n",
            "Counter inside function: 2\n",
            "Counter outside function: 2\n"
          ]
        }
      ]
    },
    {
      "cell_type": "code",
      "source": [
        "# 4. Create a Python function that calculates the factorial of a number and returns it.\n",
        "\n",
        "def factorial(n):\n",
        "    if n == 0 or n == 1:\n",
        "        return 1\n",
        "    else:\n",
        "        return n * factorial(n - 1)\n",
        "\n",
        "# Example usage\n",
        "print(factorial(5))  # Output: 120\n"
      ],
      "metadata": {
        "colab": {
          "base_uri": "https://localhost:8080/"
        },
        "id": "RpK_ZjtPoK8g",
        "outputId": "a5e5a429-303f-4aaa-b3c9-7ffa3a8f87e9"
      },
      "execution_count": 94,
      "outputs": [
        {
          "output_type": "stream",
          "name": "stdout",
          "text": [
            "120\n"
          ]
        }
      ]
    },
    {
      "cell_type": "markdown",
      "source": [
        "5. How can you access variables defined outside a function from within the function?\n",
        "To access variables defined outside a function (global variables) from within the function, you can directly refer to them if they are not modified. If you need to modify a global variable inside a function, you must use the global keyword."
      ],
      "metadata": {
        "id": "lVAmn50OoSOF"
      }
    },
    {
      "cell_type": "code",
      "source": [
        "# Global variable\n",
        "message = \"Hello, World!\"\n",
        "\n",
        "def print_message():\n",
        "    print(message)  # Accesses the global variable 'message'\n",
        "\n",
        "print_message()  # Output: Hello, World!\n",
        "\n",
        "def modify_message():\n",
        "    global message\n",
        "    message = \"Hello, Python!\"\n",
        "    print(message)\n",
        "\n",
        "modify_message()  # Output: Hello, Python!\n",
        "print_message()  # Output: Hello, Python! (the global variable has been updated)\n"
      ],
      "metadata": {
        "colab": {
          "base_uri": "https://localhost:8080/"
        },
        "id": "BU9thWCHoNVJ",
        "outputId": "89d9667d-f630-44cd-bc20-bfa385d7d0bb"
      },
      "execution_count": 95,
      "outputs": [
        {
          "output_type": "stream",
          "name": "stdout",
          "text": [
            "Hello, World!\n",
            "Hello, Python!\n",
            "Hello, Python!\n"
          ]
        }
      ]
    },
    {
      "cell_type": "markdown",
      "source": [
        "# Lambda Functions and Higher-Order Functions:"
      ],
      "metadata": {
        "id": "mOkRTOD6oa0s"
      }
    },
    {
      "cell_type": "markdown",
      "source": [
        "1. What are lambda functions in Python, and when are they typically used?\n",
        "Lambda Functions: Lambda functions are small, anonymous functions defined with the lambda keyword. They can have any number of arguments but can only have one expression. The result of the expression is returned automatically.\n",
        "\n",
        "Syntax: lambda arguments: expression\n",
        "\n",
        "Typical Use Cases:\n",
        "\n",
        "When a simple function is needed for a short period and is not required to be reused elsewhere.\n",
        "In functional programming operations like map(), filter(), and sorted()."
      ],
      "metadata": {
        "id": "CAe25K9Soiey"
      }
    },
    {
      "cell_type": "code",
      "source": [
        "# Lambda function to add two numbers\n",
        "add = lambda x, y: x + y\n",
        "print(add(5, 3))  # Output: 8\n"
      ],
      "metadata": {
        "colab": {
          "base_uri": "https://localhost:8080/"
        },
        "id": "v-BolrKMoXe4",
        "outputId": "d52c13f5-0126-4c11-8aa7-5acca20e85c3"
      },
      "execution_count": 96,
      "outputs": [
        {
          "output_type": "stream",
          "name": "stdout",
          "text": [
            "8\n"
          ]
        }
      ]
    },
    {
      "cell_type": "code",
      "source": [
        "# 2. Sort a list of tuples based on the second element using lambda function\n",
        "\n",
        "# List of tuples\n",
        "data = [(1, 3), (2, 2), (3, 1)]\n",
        "\n",
        "# Sort the list of tuples by the second element\n",
        "sorted_data = sorted(data, key=lambda x: x[1])\n",
        "\n",
        "print(sorted_data)  # Output: [(3, 1), (2, 2), (1, 3)]\n"
      ],
      "metadata": {
        "colab": {
          "base_uri": "https://localhost:8080/"
        },
        "id": "nb87Jfndop3Q",
        "outputId": "0947db7f-2bdc-44cf-cee4-3dbe8b832d2a"
      },
      "execution_count": 97,
      "outputs": [
        {
          "output_type": "stream",
          "name": "stdout",
          "text": [
            "[(3, 1), (2, 2), (1, 3)]\n"
          ]
        }
      ]
    },
    {
      "cell_type": "markdown",
      "source": [
        "3. Explain the concept of higher-order functions in Python, and provide an example.\n",
        "Higher-Order Functions: Higher-order functions are functions that take other functions as arguments or return functions as their result. They are a key feature of functional programming.\n",
        "\n",
        "Example: A common higher-order function is map(), which takes a function and an iterable, applying the function to each element of the iterable."
      ],
      "metadata": {
        "id": "TM3PU0j5o5Hi"
      }
    },
    {
      "cell_type": "code",
      "source": [
        "# 3. Higher-order function example using map()\n",
        "\n",
        "def square(x):\n",
        "    return x * x\n",
        "\n",
        "numbers = [1, 2, 3, 4, 5]\n",
        "\n",
        "# Using map() to apply the square function to each element\n",
        "squared_numbers = map(square, numbers)\n",
        "\n",
        "# Convert the result to a list and print\n",
        "print(list(squared_numbers))  # Output: [1, 4, 9, 16, 25]\n"
      ],
      "metadata": {
        "colab": {
          "base_uri": "https://localhost:8080/"
        },
        "id": "T9PCR9nvoyAC",
        "outputId": "d2dbf296-8595-42e6-df2f-34f0c958b8d8"
      },
      "execution_count": 98,
      "outputs": [
        {
          "output_type": "stream",
          "name": "stdout",
          "text": [
            "[1, 4, 9, 16, 25]\n"
          ]
        }
      ]
    },
    {
      "cell_type": "code",
      "source": [
        "# 4. Function that applies a given function to each element in a list\n",
        "\n",
        "def apply_function(numbers, func):\n",
        "    return [func(x) for x in numbers]\n",
        "\n",
        "# Example function to apply\n",
        "def double(x):\n",
        "    return x * 2\n",
        "\n",
        "numbers = [1, 2, 3, 4, 5]\n",
        "\n",
        "# Apply the double function to each element\n",
        "doubled_numbers = apply_function(numbers, double)\n",
        "\n",
        "print(doubled_numbers)  # Output: [2, 4, 6, 8, 10]\n"
      ],
      "metadata": {
        "colab": {
          "base_uri": "https://localhost:8080/"
        },
        "id": "aSMbz8Eno7so",
        "outputId": "3e7c1e23-1916-4f63-aff8-3ae2f06dc605"
      },
      "execution_count": 99,
      "outputs": [
        {
          "output_type": "stream",
          "name": "stdout",
          "text": [
            "[2, 4, 6, 8, 10]\n"
          ]
        }
      ]
    },
    {
      "cell_type": "markdown",
      "source": [
        "# Built-in Functions:"
      ],
      "metadata": {
        "id": "8Y-tSfqhpINb"
      }
    },
    {
      "cell_type": "markdown",
      "source": [
        "1. Describe the role of built-in functions like len(), max(), and min() in Python.\n",
        "Built-in Functions: Python provides several built-in functions that perform common operations and simplify coding tasks. Here’s how len(), max(), and min() are used:\n",
        "\n",
        "len(): Returns the number of items in an object, such as a list, tuple, or string. It is used to determine the size of the object.\n",
        "\n",
        "Example:\n",
        "\n",
        "my_list = [1, 2, 3, 4, 5]\n",
        "print(len(my_list))  # Output: 5\n",
        "max(): Returns the largest item in an iterable (such as a list) or the largest of two or more arguments. It is used to find the maximum value.\n",
        "\n",
        "Example:\n",
        "\n",
        "python\n",
        "numbers = [10, 20, 30, 40, 50]\n",
        "print(max(numbers))  # Output: 50\n",
        "min(): Returns the smallest item in an iterable or the smallest of two or more arguments. It is used to find the minimum value.\n",
        "\n",
        "Example:\n",
        "\n",
        "python\n",
        "\n",
        "numbers = [10, 20, 30, 40, 50]\n",
        "print(min(numbers))  # Output: 10\n"
      ],
      "metadata": {
        "id": "x80yoJg7qID7"
      }
    },
    {
      "cell_type": "code",
      "source": [
        "# 2. Use the map() function to apply a function to each element of a list\n",
        "\n",
        "# Function to double a number\n",
        "def double(x):\n",
        "    return x * 2\n",
        "\n",
        "# List of numbers\n",
        "numbers = [1, 2, 3, 4, 5]\n",
        "\n",
        "# Apply the double function to each element using map()\n",
        "doubled_numbers = map(double, numbers)\n",
        "\n",
        "# Convert the result to a list and print\n",
        "print(list(doubled_numbers))  # Output: [2, 4, 6, 8, 10]\n"
      ],
      "metadata": {
        "colab": {
          "base_uri": "https://localhost:8080/"
        },
        "id": "SSSl1q_upD7m",
        "outputId": "2cb5e2c5-efe3-4eae-e592-a29678adbf32"
      },
      "execution_count": 100,
      "outputs": [
        {
          "output_type": "stream",
          "name": "stdout",
          "text": [
            "[2, 4, 6, 8, 10]\n"
          ]
        }
      ]
    },
    {
      "cell_type": "markdown",
      "source": [
        "3. How does the filter() function work in Python, and when would you use it?\n",
        "filter() Function: The filter() function is used to filter elements of an iterable based on a function that returns True or False. The function provided to filter() should return True for items that should be included in the result and False for items to be excluded.\n",
        "\n",
        "Usage: Use filter() when you need to extract a subset of elements from an iterable that satisfy a specific condition."
      ],
      "metadata": {
        "id": "DPjaSqWcqhnk"
      }
    },
    {
      "cell_type": "code",
      "source": [
        "# Function to check if a number is even\n",
        "def is_even(x):\n",
        "    return x % 2 == 0\n",
        "\n",
        "# List of numbers\n",
        "numbers = [1, 2, 3, 4, 5, 6]\n",
        "\n",
        "# Use filter() to select even numbers\n",
        "even_numbers = filter(is_even, numbers)\n",
        "\n",
        "# Convert the result to a list and print\n",
        "print(list(even_numbers))  # Output: [2, 4, 6]\n"
      ],
      "metadata": {
        "colab": {
          "base_uri": "https://localhost:8080/"
        },
        "id": "B1gE7aTYqbnh",
        "outputId": "f25ab76a-6ab6-4025-ffa7-c6caee53d8dd"
      },
      "execution_count": 101,
      "outputs": [
        {
          "output_type": "stream",
          "name": "stdout",
          "text": [
            "[2, 4, 6]\n"
          ]
        }
      ]
    },
    {
      "cell_type": "code",
      "source": [
        "from functools import reduce\n",
        "\n",
        "# 4. Use reduce() to find the product of all elements in a list\n",
        "\n",
        "# Function to multiply two numbers\n",
        "def multiply(x, y):\n",
        "    return x * y\n",
        "\n",
        "# List of numbers\n",
        "numbers = [1, 2, 3, 4, 5]\n",
        "\n",
        "# Use reduce() to apply the multiply function to all elements\n",
        "product = reduce(multiply, numbers)\n",
        "\n",
        "print(product)  # Output: 120\n"
      ],
      "metadata": {
        "colab": {
          "base_uri": "https://localhost:8080/"
        },
        "id": "pXwP7AMTqoqH",
        "outputId": "662f903a-a10e-41e6-d8f7-739bd788608a"
      },
      "execution_count": 102,
      "outputs": [
        {
          "output_type": "stream",
          "name": "stdout",
          "text": [
            "120\n"
          ]
        }
      ]
    },
    {
      "cell_type": "markdown",
      "source": [
        "# Function Documentation and Best Practices:"
      ],
      "metadata": {
        "id": "xLITxA7cq_0a"
      }
    },
    {
      "cell_type": "markdown",
      "source": [
        "1. Explain the purpose of docstrings in Python functions and how to write them.\n",
        "Purpose of Docstrings: Docstrings, or documentation strings, are used to describe the purpose and behavior of functions, classes, and modules in Python. They are enclosed in triple quotes (\"\"\"docstring\"\"\" or '''docstring''') and are placed immediately after the function definition, class definition, or module import statement. Docstrings are useful for:\n",
        "\n",
        "Providing a clear explanation of what the function, class, or module does.\n",
        "Documenting the parameters, return values, and any other important details.\n",
        "Making the code more readable and maintainable.\n",
        "Allowing tools like Sphinx to generate documentation automatically.\n",
        "How to Write Docstrings:\n",
        "\n",
        "For Functions: Describe what the function does, its parameters, and its return value.\n",
        "For Classes: Describe the class’s purpose and any important details about its attributes and methods.\n",
        "For Modules: Describe the module’s purpose and its key functionalities."
      ],
      "metadata": {
        "id": "vrtbJGnprK_y"
      }
    },
    {
      "cell_type": "markdown",
      "source": [
        "2. Describe some best practices for naming functions and variables in Python, including naming conventions and guidelines.\n",
        "Best Practices for Naming Functions and Variables:\n",
        "\n",
        "Use Descriptive Names:\n",
        "\n",
        "Choose names that clearly describe the purpose or behavior of the function or variable.\n",
        "Avoid vague names like data or temp unless their meaning is clear in context.\n",
        "Follow Naming Conventions:\n",
        "\n",
        "Variables: Use snake_case (all lowercase with underscores separating words).\n",
        "Example: total_amount, user_age\n",
        "Functions: Also use snake_case.\n",
        "Example: calculate_total(), fetch_data()\n",
        "Classes: Use CamelCase (capitalized words without underscores).\n",
        "Example: DataProcessor, UserAccount\n",
        "Constants: Use UPPER_CASE with underscores.\n",
        "Example: MAX_RETRIES, PI\n",
        "Avoid Single-Character Names:\n",
        "\n",
        "Use descriptive names instead of single-character names except for simple counters or iterators (e.g., i in loops).\n",
        "Use Meaningful Abbreviations:\n",
        "\n",
        "If abbreviations are used, make sure they are common and understood (e.g., num for number).\n",
        "Consistency:\n",
        "\n",
        "Be consistent in your naming convention throughout your codebase. Follow the conventions established in your project or team.\n",
        "Avoid Using Python Reserved Words:\n",
        "\n",
        "Do not use names that conflict with Python’s reserved keywords (e.g., class, def, return)."
      ],
      "metadata": {
        "id": "L1ufK6Y9rRqR"
      }
    },
    {
      "cell_type": "code",
      "source": [
        "# Function definition\n",
        "def calculate_total(price_list):\n",
        "    \"\"\"\n",
        "    Calculate the total sum of a list of prices.\n",
        "\n",
        "    Parameters:\n",
        "    price_list (list of float): A list of prices.\n",
        "\n",
        "    Returns:\n",
        "    float: The total sum of the prices.\n",
        "    \"\"\"\n",
        "    return sum(price_list)\n",
        "\n",
        "# Example usage\n",
        "price_list = [19.99, 5.49, 3.99]\n",
        "total_price = calculate_total(price_list)\n",
        "\n",
        "print(\"Total Price:\", total_price)  # Output: Total Price: 29.47\n",
        "\n",
        "# Good class name\n",
        "class UserAccount:\n",
        "    def __init__(self, username, email):\n",
        "        self.username = username\n",
        "        self.email = email\n",
        "\n",
        "# Example usage of the UserAccount class\n",
        "account = UserAccount(\"john_doe\", \"john@example.com\")\n",
        "print(\"Username:\", account.username)  # Output: Username: john_doe\n",
        "print(\"Email:\", account.email)        # Output: Email: john@example.com\n",
        "\n",
        "# Good constant names\n",
        "MAX_RETRIES = 5\n",
        "PI = 3.14159\n"
      ],
      "metadata": {
        "colab": {
          "base_uri": "https://localhost:8080/"
        },
        "id": "gKNKlLSJqsgM",
        "outputId": "4301f633-e975-4224-8375-1e7fa3846397"
      },
      "execution_count": 104,
      "outputs": [
        {
          "output_type": "stream",
          "name": "stdout",
          "text": [
            "Total Price: 29.47\n",
            "Username: john_doe\n",
            "Email: john@example.com\n"
          ]
        }
      ]
    },
    {
      "cell_type": "code",
      "source": [],
      "metadata": {
        "id": "Rv_Uc0MurVE7"
      },
      "execution_count": null,
      "outputs": []
    }
  ]
}