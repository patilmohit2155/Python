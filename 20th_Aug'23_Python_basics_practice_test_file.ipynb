{
  "nbformat": 4,
  "nbformat_minor": 0,
  "metadata": {
    "colab": {
      "provenance": []
    },
    "kernelspec": {
      "name": "python3",
      "display_name": "Python 3"
    },
    "language_info": {
      "name": "python"
    }
  },
  "cells": [
    {
      "cell_type": "markdown",
      "source": [
        "# **String Based Assignment Problem**"
      ],
      "metadata": {
        "id": "ujEZEbeCGWXj"
      }
    },
    {
      "cell_type": "code",
      "execution_count": 18,
      "metadata": {
        "colab": {
          "base_uri": "https://localhost:8080/"
        },
        "id": "ZAd7HsU5-BKl",
        "outputId": "0bd242d2-ccad-49d2-e827-38fe8c2d17b7"
      },
      "outputs": [
        {
          "output_type": "stream",
          "name": "stdout",
          "text": [
            "olleh\n"
          ]
        }
      ],
      "source": [
        "# Question 1: How do you reverse a string in Python?\n",
        "def reverse_string(s):\n",
        "    return s[::-1]\n",
        "\n",
        "# Output:\n",
        "print(reverse_string(\"hello\"))  # Output: \"olleh\"\n"
      ]
    },
    {
      "cell_type": "code",
      "source": [
        "# Question 2: How can you check if a string is a palindrome in Python?\n",
        "def is_palindrome(s):\n",
        "    return s == s[::-1]\n",
        "\n",
        "# Output:\n",
        "print(is_palindrome(\"radar\"))  # Output: True\n"
      ],
      "metadata": {
        "colab": {
          "base_uri": "https://localhost:8080/"
        },
        "id": "5TYJ1Tm6-xu3",
        "outputId": "f74a5b06-4c81-4f0a-ca48-67ce29058ce6"
      },
      "execution_count": 19,
      "outputs": [
        {
          "output_type": "stream",
          "name": "stdout",
          "text": [
            "True\n"
          ]
        }
      ]
    },
    {
      "cell_type": "code",
      "source": [
        "# Question 3: How can you convert all characters in a string to uppercase?\n",
        "def to_uppercase(s):\n",
        "    return s.upper()\n",
        "\n",
        "# Output:\n",
        "print(to_uppercase(\"hello\"))  # Output: \"HELLO\"\n"
      ],
      "metadata": {
        "colab": {
          "base_uri": "https://localhost:8080/"
        },
        "id": "vN6UBMXi_DS1",
        "outputId": "c1f72d4a-bc5e-4fb5-e249-ccc6e0b664d9"
      },
      "execution_count": 20,
      "outputs": [
        {
          "output_type": "stream",
          "name": "stdout",
          "text": [
            "HELLO\n"
          ]
        }
      ]
    },
    {
      "cell_type": "code",
      "source": [
        "# Question 4: How can you convert all characters in a string to lowercase?\n",
        "def to_lowercase(s):\n",
        "    return s.lower()\n",
        "\n",
        "# Output:\n",
        "print(to_lowercase(\"HELLO\"))  # Output: \"hello\"\n"
      ],
      "metadata": {
        "colab": {
          "base_uri": "https://localhost:8080/"
        },
        "id": "bxdceRhi_FmF",
        "outputId": "7da4bff8-f950-49ed-ec0b-55b64e2594bd"
      },
      "execution_count": 21,
      "outputs": [
        {
          "output_type": "stream",
          "name": "stdout",
          "text": [
            "hello\n"
          ]
        }
      ]
    },
    {
      "cell_type": "code",
      "source": [
        "# Question 5: How can you count the number of vowels in a given string?\n",
        "def count_vowels(s):\n",
        "    vowels = \"aeiouAEIOU\"\n",
        "    return sum(1 for char in s if char in vowels)\n",
        "\n",
        "# Output:\n",
        "print(count_vowels(\"hello\"))  # Output: 2\n"
      ],
      "metadata": {
        "colab": {
          "base_uri": "https://localhost:8080/"
        },
        "id": "8_pcUoNs_KFA",
        "outputId": "12487e57-d4ab-4d0e-b06e-fcf044ad8992"
      },
      "execution_count": 22,
      "outputs": [
        {
          "output_type": "stream",
          "name": "stdout",
          "text": [
            "2\n"
          ]
        }
      ]
    },
    {
      "cell_type": "code",
      "source": [
        "# Question 6: How can you count the number of consonants in a string?\n",
        "def count_consonants(s):\n",
        "    vowels = \"aeiouAEIOU\"\n",
        "    return sum(1 for char in s if char.isalpha() and char not in vowels)\n",
        "\n",
        "# Output:\n",
        "print(count_consonants(\"hello\"))  # Output: 3\n"
      ],
      "metadata": {
        "colab": {
          "base_uri": "https://localhost:8080/"
        },
        "id": "USp2HBT0_QmR",
        "outputId": "cf070b37-53c5-430b-e19c-a2882957e937"
      },
      "execution_count": 23,
      "outputs": [
        {
          "output_type": "stream",
          "name": "stdout",
          "text": [
            "3\n"
          ]
        }
      ]
    },
    {
      "cell_type": "code",
      "source": [
        "# Question 7: How do you remove all whitespace characters from a string?\n",
        "def remove_whitespaces(s):\n",
        "    return s.replace(\" \", \"\")\n",
        "\n",
        "# Output:\n",
        "print(remove_whitespaces(\"hello world\"))  # Output: \"helloworld\"\n"
      ],
      "metadata": {
        "colab": {
          "base_uri": "https://localhost:8080/"
        },
        "id": "yxNIgu4x_YNJ",
        "outputId": "d74a38e8-9279-49e5-ec11-e445ebcd0ab7"
      },
      "execution_count": 24,
      "outputs": [
        {
          "output_type": "stream",
          "name": "stdout",
          "text": [
            "helloworld\n"
          ]
        }
      ]
    },
    {
      "cell_type": "code",
      "source": [
        "# Question 8: How can you find the length of a string without using the `len()` function?\n",
        "def string_length(s):\n",
        "    count = 0\n",
        "    for _ in s:\n",
        "        count += 1\n",
        "    return count\n",
        "\n",
        "# Output:\n",
        "print(string_length(\"hello\"))  # Output: 5\n"
      ],
      "metadata": {
        "colab": {
          "base_uri": "https://localhost:8080/"
        },
        "id": "_0a0OnHQ_apt",
        "outputId": "0758a2cc-d606-472b-e85b-71e0d6c4c546"
      },
      "execution_count": 25,
      "outputs": [
        {
          "output_type": "stream",
          "name": "stdout",
          "text": [
            "5\n"
          ]
        }
      ]
    },
    {
      "cell_type": "code",
      "source": [
        "# Question 9: How do you check if a string contains a specific word?\n",
        "def contains_word(s, word):\n",
        "    return word in s\n",
        "\n",
        "# Output:\n",
        "print(contains_word(\"hello world\", \"world\"))  # Output: True\n"
      ],
      "metadata": {
        "colab": {
          "base_uri": "https://localhost:8080/"
        },
        "id": "ZJ3MyhNj_fhU",
        "outputId": "bc1c7aa0-afd7-40d5-de8b-12fe3f67de65"
      },
      "execution_count": 26,
      "outputs": [
        {
          "output_type": "stream",
          "name": "stdout",
          "text": [
            "True\n"
          ]
        }
      ]
    },
    {
      "cell_type": "code",
      "source": [
        "# Question 10: How do you replace a specific word in a string with another word?\n",
        "def replace_word(s, old_word, new_word):\n",
        "    return s.replace(old_word, new_word)\n",
        "\n",
        "# Output:\n",
        "print(replace_word(\"hello world\", \"world\", \"there\"))  # Output: \"hello there\"\n"
      ],
      "metadata": {
        "colab": {
          "base_uri": "https://localhost:8080/"
        },
        "id": "BVTh6Z0J_huj",
        "outputId": "cdaca14c-a36a-4989-8d02-13d2b02b5bd9"
      },
      "execution_count": 27,
      "outputs": [
        {
          "output_type": "stream",
          "name": "stdout",
          "text": [
            "hello there\n"
          ]
        }
      ]
    },
    {
      "cell_type": "code",
      "source": [
        "# Question 11: How can you count the occurrences of a specific word in a string?\n",
        "def count_word_occurrences(s, word):\n",
        "    return s.count(word)\n",
        "\n",
        "# Output:\n",
        "print(count_word_occurrences(\"hello world, hello\", \"hello\"))  # Output: 2\n"
      ],
      "metadata": {
        "colab": {
          "base_uri": "https://localhost:8080/"
        },
        "id": "U3bS75DT_mpa",
        "outputId": "20dfc742-142a-43bb-eadc-8c2ec41f8971"
      },
      "execution_count": 28,
      "outputs": [
        {
          "output_type": "stream",
          "name": "stdout",
          "text": [
            "2\n"
          ]
        }
      ]
    },
    {
      "cell_type": "code",
      "source": [
        "# Question 12: How do you find the index of the first occurrence of a word in a string?\n",
        "def find_first_occurrence(s, word):\n",
        "    return s.find(word)\n",
        "\n",
        "# Output:\n",
        "print(find_first_occurrence(\"hello world\", \"world\"))  # Output: 6\n"
      ],
      "metadata": {
        "colab": {
          "base_uri": "https://localhost:8080/"
        },
        "id": "nD-jVVge_raw",
        "outputId": "49ea06cb-21da-4fba-f619-597b7f4c1c01"
      },
      "execution_count": 29,
      "outputs": [
        {
          "output_type": "stream",
          "name": "stdout",
          "text": [
            "6\n"
          ]
        }
      ]
    },
    {
      "cell_type": "code",
      "source": [
        "# Question 13: How do you find the index of the last occurrence of a word in a string?\n",
        "def find_last_occurrence(s, word):\n",
        "    return s.rfind(word)\n",
        "\n",
        "# Output:\n",
        "print(find_last_occurrence(\"hello world, hello\", \"hello\"))  # Output: 13\n"
      ],
      "metadata": {
        "colab": {
          "base_uri": "https://localhost:8080/"
        },
        "id": "88o22Nsb_uJ_",
        "outputId": "fd9d2695-0e78-4f61-a98e-1ed52b5a306e"
      },
      "execution_count": 30,
      "outputs": [
        {
          "output_type": "stream",
          "name": "stdout",
          "text": [
            "13\n"
          ]
        }
      ]
    },
    {
      "cell_type": "code",
      "source": [
        "# Question 14: How can you split a string into a list of words?\n",
        "def split_string(s):\n",
        "    return s.split()\n",
        "\n",
        "# Output:\n",
        "print(split_string(\"hello world\"))  # Output: [\"hello\", \"world\"]\n"
      ],
      "metadata": {
        "colab": {
          "base_uri": "https://localhost:8080/"
        },
        "id": "iXloEUNK_z4E",
        "outputId": "99ddfb29-5f37-4ba8-d9bc-0249a3fc81a2"
      },
      "execution_count": 31,
      "outputs": [
        {
          "output_type": "stream",
          "name": "stdout",
          "text": [
            "['hello', 'world']\n"
          ]
        }
      ]
    },
    {
      "cell_type": "code",
      "source": [
        "# Question 15: How do you join a list of words into a single string?\n",
        "def join_words(words):\n",
        "    return \" \".join(words)\n",
        "\n",
        "# Output:\n",
        "print(join_words([\"hello\", \"world\"]))  # Output: \"hello world\"\n"
      ],
      "metadata": {
        "colab": {
          "base_uri": "https://localhost:8080/"
        },
        "id": "3v8t15Ti_6kh",
        "outputId": "d1c1c448-a105-46be-b0a1-93f0fd41b09a"
      },
      "execution_count": 32,
      "outputs": [
        {
          "output_type": "stream",
          "name": "stdout",
          "text": [
            "hello world\n"
          ]
        }
      ]
    },
    {
      "cell_type": "code",
      "source": [
        "# Question 16: Convert a string where words are separated by spaces to one where words are separated by underscores.\n",
        "def spaces_to_underscores(s):\n",
        "    return s.replace(\" \", \"_\")\n",
        "\n",
        "# Output:\n",
        "print(spaces_to_underscores(\"hello world\"))  # Output: \"hello_world\"\n"
      ],
      "metadata": {
        "colab": {
          "base_uri": "https://localhost:8080/"
        },
        "id": "cbbdxkXf_93U",
        "outputId": "00f93001-f7fe-4fe2-aae2-2746f4289f2b"
      },
      "execution_count": 33,
      "outputs": [
        {
          "output_type": "stream",
          "name": "stdout",
          "text": [
            "hello_world\n"
          ]
        }
      ]
    },
    {
      "cell_type": "code",
      "source": [
        "# Question 17: Check if a string starts with a specific word or phrase.\n",
        "def starts_with(s, word):\n",
        "    return s.startswith(word)\n",
        "\n",
        "# Output:\n",
        "print(starts_with(\"hello world\", \"hello\"))  # Output: True\n"
      ],
      "metadata": {
        "colab": {
          "base_uri": "https://localhost:8080/"
        },
        "id": "BVEdoZWZBMWe",
        "outputId": "2ef2fada-f5b3-411c-8ba4-bb4bcfe9ab73"
      },
      "execution_count": 34,
      "outputs": [
        {
          "output_type": "stream",
          "name": "stdout",
          "text": [
            "True\n"
          ]
        }
      ]
    },
    {
      "cell_type": "code",
      "source": [
        "# Question 18: Check if a string ends with a specific word or phrase.\n",
        "def ends_with(s, word):\n",
        "    return s.endswith(word)\n",
        "\n",
        "# Output:\n",
        "print(ends_with(\"hello world\", \"world\"))  # Output: True\n"
      ],
      "metadata": {
        "colab": {
          "base_uri": "https://localhost:8080/"
        },
        "id": "xtTktt4yBOTS",
        "outputId": "db12dfef-923b-4475-93a3-423af4ad93f9"
      },
      "execution_count": 35,
      "outputs": [
        {
          "output_type": "stream",
          "name": "stdout",
          "text": [
            "True\n"
          ]
        }
      ]
    },
    {
      "cell_type": "code",
      "source": [
        "# Question 19: Convert a string to title case (e.g., \"hello world\" to \"Hello World\").\n",
        "def to_title_case(s):\n",
        "    return s.title()\n",
        "\n",
        "# Output:\n",
        "print(to_title_case(\"hello world\"))  # Output: \"Hello World\"\n"
      ],
      "metadata": {
        "colab": {
          "base_uri": "https://localhost:8080/"
        },
        "id": "OJvmr7TZBQkp",
        "outputId": "470d2f66-fa6f-41b1-e4e3-c48065d3480f"
      },
      "execution_count": 36,
      "outputs": [
        {
          "output_type": "stream",
          "name": "stdout",
          "text": [
            "Hello World\n"
          ]
        }
      ]
    },
    {
      "cell_type": "code",
      "source": [
        "# Question 20: Find the longest word in a string.\n",
        "def find_longest_word(s):\n",
        "    words = s.split()\n",
        "    return max(words, key=len)\n",
        "\n",
        "# Output:\n",
        "print(find_longest_word(\"hello wonderful world\"))  # Output: \"wonderful\"\n"
      ],
      "metadata": {
        "colab": {
          "base_uri": "https://localhost:8080/"
        },
        "id": "COdjmGttBSVh",
        "outputId": "af06569d-4122-4bb5-a185-11bb2cad6730"
      },
      "execution_count": 37,
      "outputs": [
        {
          "output_type": "stream",
          "name": "stdout",
          "text": [
            "wonderful\n"
          ]
        }
      ]
    },
    {
      "cell_type": "code",
      "source": [
        "# Question 21: Find the shortest word in a string.\n",
        "def find_shortest_word(s):\n",
        "    words = s.split()\n",
        "    return min(words, key=len)\n",
        "\n",
        "# Output:\n",
        "print(find_shortest_word(\"hello wonderful world\"))  # Output: \"hello\"\n"
      ],
      "metadata": {
        "colab": {
          "base_uri": "https://localhost:8080/"
        },
        "id": "T3ZrkugEBW3c",
        "outputId": "97bf4541-3dd8-4f35-860a-20593cc535b2"
      },
      "execution_count": 38,
      "outputs": [
        {
          "output_type": "stream",
          "name": "stdout",
          "text": [
            "hello\n"
          ]
        }
      ]
    },
    {
      "cell_type": "code",
      "source": [
        "# Question 22: Reverse the order of words in a string.\n",
        "def reverse_word_order(s):\n",
        "    words = s.split()\n",
        "    return \" \".join(words[::-1])\n",
        "\n",
        "# Output:\n",
        "print(reverse_word_order(\"hello wonderful world\"))  # Output: \"world wonderful hello\"\n"
      ],
      "metadata": {
        "colab": {
          "base_uri": "https://localhost:8080/"
        },
        "id": "1x3Pk6cPBZNc",
        "outputId": "4f0622a9-4f8d-43fd-e6c6-8faab3e5cf12"
      },
      "execution_count": 39,
      "outputs": [
        {
          "output_type": "stream",
          "name": "stdout",
          "text": [
            "world wonderful hello\n"
          ]
        }
      ]
    },
    {
      "cell_type": "code",
      "source": [
        "# Question 23: Check if a string is alphanumeric.\n",
        "def is_alphanumeric(s):\n",
        "    return s.isalnum()\n",
        "\n",
        "# Output:\n",
        "print(is_alphanumeric(\"hello123\"))  # Output: True\n",
        "print(is_alphanumeric(\"hello 123\"))  # Output: False\n"
      ],
      "metadata": {
        "colab": {
          "base_uri": "https://localhost:8080/"
        },
        "id": "kU1bmA89BcIZ",
        "outputId": "726ed0cd-3e49-4718-a267-a573715f556b"
      },
      "execution_count": 40,
      "outputs": [
        {
          "output_type": "stream",
          "name": "stdout",
          "text": [
            "True\n",
            "False\n"
          ]
        }
      ]
    },
    {
      "cell_type": "code",
      "source": [
        "# Question 24: Extract all digits from a string.\n",
        "def extract_digits(s):\n",
        "    return \"\".join(char for char in s if char.isdigit())\n",
        "\n",
        "# Output:\n",
        "print(extract_digits(\"hello123world456\"))  # Output: \"123456\"\n"
      ],
      "metadata": {
        "colab": {
          "base_uri": "https://localhost:8080/"
        },
        "id": "_PYArinaBeUH",
        "outputId": "d6f3246d-9e7b-44e6-be27-39c8568d7bc4"
      },
      "execution_count": 41,
      "outputs": [
        {
          "output_type": "stream",
          "name": "stdout",
          "text": [
            "123456\n"
          ]
        }
      ]
    },
    {
      "cell_type": "code",
      "source": [
        "# Question 25: Extract all alphabets from a string.\n",
        "def extract_alphabets(s):\n",
        "    return \"\".join(char for char in s if char.isalpha())\n",
        "\n",
        "# Output:\n",
        "print(extract_alphabets(\"hello123world456\"))  # Output: \"helloworld\"\n"
      ],
      "metadata": {
        "colab": {
          "base_uri": "https://localhost:8080/"
        },
        "id": "BgBecSKnBha4",
        "outputId": "5b9da09f-c35e-4172-f70f-1b9ef9b7e440"
      },
      "execution_count": 42,
      "outputs": [
        {
          "output_type": "stream",
          "name": "stdout",
          "text": [
            "helloworld\n"
          ]
        }
      ]
    },
    {
      "cell_type": "code",
      "source": [
        "# Question 26: Count the number of uppercase letters in a string.\n",
        "def count_uppercase(s):\n",
        "    return sum(1 for char in s if char.isupper())\n",
        "\n",
        "# Output:\n",
        "print(count_uppercase(\"Hello World\"))  # Output: 2\n"
      ],
      "metadata": {
        "colab": {
          "base_uri": "https://localhost:8080/"
        },
        "id": "G4wzorCLBkJp",
        "outputId": "5864d9c4-7143-4ec1-d155-5f833e3dcc6b"
      },
      "execution_count": 43,
      "outputs": [
        {
          "output_type": "stream",
          "name": "stdout",
          "text": [
            "2\n"
          ]
        }
      ]
    },
    {
      "cell_type": "code",
      "source": [
        "# Question 27: Count the number of lowercase letters in a string.\n",
        "def count_lowercase(s):\n",
        "    return sum(1 for char in s if char.islower())\n",
        "\n",
        "# Output:\n",
        "print(count_lowercase(\"Hello World\"))  # Output: 8\n"
      ],
      "metadata": {
        "colab": {
          "base_uri": "https://localhost:8080/"
        },
        "id": "limWk3FqBmQU",
        "outputId": "6577b11c-9718-483b-a081-fec43fd974ce"
      },
      "execution_count": 44,
      "outputs": [
        {
          "output_type": "stream",
          "name": "stdout",
          "text": [
            "8\n"
          ]
        }
      ]
    },
    {
      "cell_type": "code",
      "source": [
        "# Question 28: Swap the case of each character in a string.\n",
        "def swap_case(s):\n",
        "    return s.swapcase()\n",
        "\n",
        "# Output:\n",
        "print(swap_case(\"Hello World\"))  # Output: \"hELLO wORLD\"\n"
      ],
      "metadata": {
        "colab": {
          "base_uri": "https://localhost:8080/"
        },
        "id": "AAIu1jOtBo58",
        "outputId": "150f2aa9-6f0d-416f-b379-cc3d4077c2d0"
      },
      "execution_count": 45,
      "outputs": [
        {
          "output_type": "stream",
          "name": "stdout",
          "text": [
            "hELLO wORLD\n"
          ]
        }
      ]
    },
    {
      "cell_type": "code",
      "source": [
        "# Question 29: Remove a specific word from a string.\n",
        "def remove_word(s, word):\n",
        "    return s.replace(word, \"\")\n",
        "\n",
        "# Output:\n",
        "print(remove_word(\"hello world\", \"world\"))  # Output: \"hello \"\n"
      ],
      "metadata": {
        "colab": {
          "base_uri": "https://localhost:8080/"
        },
        "id": "WxT1Joj7BsYh",
        "outputId": "fea4fbd7-0775-409d-bb42-16a10698c7fd"
      },
      "execution_count": 46,
      "outputs": [
        {
          "output_type": "stream",
          "name": "stdout",
          "text": [
            "hello \n"
          ]
        }
      ]
    },
    {
      "cell_type": "code",
      "source": [
        "# Question 30: Check if a string is a valid email address.\n",
        "import re\n",
        "\n",
        "def is_valid_email(s):\n",
        "    pattern = r'^[a-zA-Z0-9_.+-]+@[a-zA-Z0-9-]+\\.[a-zA-Z0-9-.]+$'\n",
        "    return re.match(pattern, s) is not None\n",
        "\n",
        "# Output:\n",
        "print(is_valid_email(\"test@example.com\"))  # Output: True\n",
        "print(is_valid_email(\"test@.com\"))  # Output: False\n"
      ],
      "metadata": {
        "colab": {
          "base_uri": "https://localhost:8080/"
        },
        "id": "CDW-9Z8zBwDk",
        "outputId": "b9418286-27ad-40a6-b021-13f3499e173c"
      },
      "execution_count": 47,
      "outputs": [
        {
          "output_type": "stream",
          "name": "stdout",
          "text": [
            "True\n",
            "False\n"
          ]
        }
      ]
    },
    {
      "cell_type": "code",
      "source": [
        "# Question 31: Extract the username from an email address string.\n",
        "def extract_username(email):\n",
        "    return email.split('@')[0]\n",
        "\n",
        "# Output:\n",
        "print(extract_username(\"user@example.com\"))  # Output: \"user\"\n"
      ],
      "metadata": {
        "colab": {
          "base_uri": "https://localhost:8080/"
        },
        "id": "FyhJdIqQByAK",
        "outputId": "d27cc466-79f2-4562-9f4b-bff3a36e34c0"
      },
      "execution_count": 48,
      "outputs": [
        {
          "output_type": "stream",
          "name": "stdout",
          "text": [
            "user\n"
          ]
        }
      ]
    },
    {
      "cell_type": "code",
      "source": [
        "# Question 32: Extract the domain name from an email address string.\n",
        "def extract_domain(email):\n",
        "    return email.split('@')[1]\n",
        "\n",
        "# Output:\n",
        "print(extract_domain(\"user@example.com\"))  # Output: \"example.com\"\n"
      ],
      "metadata": {
        "colab": {
          "base_uri": "https://localhost:8080/"
        },
        "id": "7oEeJKZjDiVQ",
        "outputId": "265323a5-efd1-4117-bae8-d4710e07bdd1"
      },
      "execution_count": 49,
      "outputs": [
        {
          "output_type": "stream",
          "name": "stdout",
          "text": [
            "example.com\n"
          ]
        }
      ]
    },
    {
      "cell_type": "code",
      "source": [
        "# Question 33: Replace multiple spaces in a string with a single space.\n",
        "def replace_multiple_spaces(s):\n",
        "    return ' '.join(s.split())\n",
        "\n",
        "# Output:\n",
        "print(replace_multiple_spaces(\"hello    world  \"))  # Output: \"hello world\"\n"
      ],
      "metadata": {
        "colab": {
          "base_uri": "https://localhost:8080/"
        },
        "id": "sCSfdVKxDlD-",
        "outputId": "1f5bebd1-7f76-4f9e-dbb8-3e2bd4aa6b15"
      },
      "execution_count": 50,
      "outputs": [
        {
          "output_type": "stream",
          "name": "stdout",
          "text": [
            "hello world\n"
          ]
        }
      ]
    },
    {
      "cell_type": "code",
      "source": [
        "# Question 34: Check if a string is a valid URL.\n",
        "import re\n",
        "\n",
        "def is_valid_url(s):\n",
        "    pattern = r'^(http://|https://)?(www\\.)?[\\w\\-]+\\.[a-zA-Z]{2,6}(/[\\w\\-]*)*$'\n",
        "    return re.match(pattern, s) is not None\n",
        "\n",
        "# Output:\n",
        "print(is_valid_url(\"https://www.example.com\"))  # Output: True\n",
        "print(is_valid_url(\"example\"))  # Output: False\n"
      ],
      "metadata": {
        "colab": {
          "base_uri": "https://localhost:8080/"
        },
        "id": "toh1Q3f6DoHi",
        "outputId": "161dce4a-2f95-4fba-c284-9972e223c05f"
      },
      "execution_count": 51,
      "outputs": [
        {
          "output_type": "stream",
          "name": "stdout",
          "text": [
            "True\n",
            "False\n"
          ]
        }
      ]
    },
    {
      "cell_type": "code",
      "source": [
        "# Question 35: Extract the protocol (http or https) from a URL string.\n",
        "def extract_protocol(url):\n",
        "    if url.startswith(\"https://\"):\n",
        "        return \"https\"\n",
        "    elif url.startswith(\"http://\"):\n",
        "        return \"http\"\n",
        "    return None\n",
        "\n",
        "# Output:\n",
        "print(extract_protocol(\"https://www.example.com\"))  # Output: \"https\"\n",
        "print(extract_protocol(\"http://www.example.com\"))  # Output: \"http\"\n"
      ],
      "metadata": {
        "colab": {
          "base_uri": "https://localhost:8080/"
        },
        "id": "kq-PZNGPDqsY",
        "outputId": "4ffec610-103e-4a62-94f2-70c27f48826f"
      },
      "execution_count": 52,
      "outputs": [
        {
          "output_type": "stream",
          "name": "stdout",
          "text": [
            "https\n",
            "http\n"
          ]
        }
      ]
    },
    {
      "cell_type": "code",
      "source": [
        "# Question 36: Find the frequency of each character in a string.\n",
        "from collections import Counter\n",
        "\n",
        "def character_frequency(s):\n",
        "    return dict(Counter(s))\n",
        "\n",
        "# Output:\n",
        "print(character_frequency(\"hello\"))  # Output: {'h': 1, 'e': 1, 'l': 2, 'o': 1}\n"
      ],
      "metadata": {
        "colab": {
          "base_uri": "https://localhost:8080/"
        },
        "id": "hVmNi_lIDvP-",
        "outputId": "44fdbfe2-a417-468d-dc4a-35316931d936"
      },
      "execution_count": 53,
      "outputs": [
        {
          "output_type": "stream",
          "name": "stdout",
          "text": [
            "{'h': 1, 'e': 1, 'l': 2, 'o': 1}\n"
          ]
        }
      ]
    },
    {
      "cell_type": "code",
      "source": [
        "# Question 37: Remove all punctuation from a string.\n",
        "import string\n",
        "\n",
        "def remove_punctuation(s):\n",
        "    return s.translate(str.maketrans('', '', string.punctuation))\n",
        "\n",
        "# Output:\n",
        "print(remove_punctuation(\"hello, world!\"))  # Output: \"hello world\"\n"
      ],
      "metadata": {
        "colab": {
          "base_uri": "https://localhost:8080/"
        },
        "id": "Mg6T7cuJFRGM",
        "outputId": "520c7d08-aa7d-4805-c961-3e8f62f598a8"
      },
      "execution_count": 54,
      "outputs": [
        {
          "output_type": "stream",
          "name": "stdout",
          "text": [
            "hello world\n"
          ]
        }
      ]
    },
    {
      "cell_type": "code",
      "source": [
        "# Question 38: Check if a string contains only digits.\n",
        "def is_only_digits(s):\n",
        "    return s.isdigit()\n",
        "\n",
        "# Output:\n",
        "print(is_only_digits(\"12345\"))  # Output: True\n",
        "print(is_only_digits(\"123a5\"))  # Output: False\n"
      ],
      "metadata": {
        "colab": {
          "base_uri": "https://localhost:8080/"
        },
        "id": "EGD-pFBHFTKe",
        "outputId": "efe3e6b8-4eab-47dd-802b-2924567775e7"
      },
      "execution_count": 55,
      "outputs": [
        {
          "output_type": "stream",
          "name": "stdout",
          "text": [
            "True\n",
            "False\n"
          ]
        }
      ]
    },
    {
      "cell_type": "code",
      "source": [
        "# Question 39: Check if a string contains only alphabets.\n",
        "def is_only_alphabets(s):\n",
        "    return s.isalpha()\n",
        "\n",
        "# Output:\n",
        "print(is_only_alphabets(\"hello\"))  # Output: True\n",
        "print(is_only_alphabets(\"hello123\"))  # Output: False\n"
      ],
      "metadata": {
        "colab": {
          "base_uri": "https://localhost:8080/"
        },
        "id": "_DnSyyDUFWkb",
        "outputId": "1d97e588-c210-4111-cb90-b76abd986643"
      },
      "execution_count": 56,
      "outputs": [
        {
          "output_type": "stream",
          "name": "stdout",
          "text": [
            "True\n",
            "False\n"
          ]
        }
      ]
    },
    {
      "cell_type": "code",
      "source": [
        "# Question 40: Convert a string to a list of characters.\n",
        "def string_to_char_list(s):\n",
        "    return list(s)\n",
        "\n",
        "# Output:\n",
        "print(string_to_char_list(\"hello\"))  # Output: ['h', 'e', 'l', 'l', 'o']\n"
      ],
      "metadata": {
        "colab": {
          "base_uri": "https://localhost:8080/"
        },
        "id": "KKjVQHbKFcOT",
        "outputId": "67e19a93-b357-4d7a-a164-5ffa4b8c0a53"
      },
      "execution_count": 57,
      "outputs": [
        {
          "output_type": "stream",
          "name": "stdout",
          "text": [
            "['h', 'e', 'l', 'l', 'o']\n"
          ]
        }
      ]
    },
    {
      "cell_type": "code",
      "source": [
        "# Question 41: Check if two strings are anagrams.\n",
        "def are_anagrams(s1, s2):\n",
        "    return sorted(s1) == sorted(s2)\n",
        "\n",
        "# Output:\n",
        "print(are_anagrams(\"listen\", \"silent\"))  # Output: True\n",
        "print(are_anagrams(\"hello\", \"world\"))  # Output: False\n"
      ],
      "metadata": {
        "colab": {
          "base_uri": "https://localhost:8080/"
        },
        "id": "dcDq_5RgFeTz",
        "outputId": "c18c4879-17f3-4b87-bb89-00b24109aea6"
      },
      "execution_count": 58,
      "outputs": [
        {
          "output_type": "stream",
          "name": "stdout",
          "text": [
            "True\n",
            "False\n"
          ]
        }
      ]
    },
    {
      "cell_type": "code",
      "source": [
        "# Question 42: Encode a string using a Caesar cipher.\n",
        "def caesar_cipher_encode(s, shift):\n",
        "    result = []\n",
        "    for char in s:\n",
        "        if char.isalpha():\n",
        "            shift_amount = shift % 26\n",
        "            base = ord('A') if char.isupper() else ord('a')\n",
        "            result.append(chr((ord(char) - base + shift_amount) % 26 + base))\n",
        "        else:\n",
        "            result.append(char)\n",
        "    return ''.join(result)\n",
        "\n",
        "# Output:\n",
        "print(caesar_cipher_encode(\"hello\", 3))  # Output: \"khoor\"\n"
      ],
      "metadata": {
        "colab": {
          "base_uri": "https://localhost:8080/"
        },
        "id": "85XLzXhPFgWI",
        "outputId": "940ecb2c-f469-46cd-bc42-3080363c12c2"
      },
      "execution_count": 59,
      "outputs": [
        {
          "output_type": "stream",
          "name": "stdout",
          "text": [
            "khoor\n"
          ]
        }
      ]
    },
    {
      "cell_type": "code",
      "source": [
        "# Question 43: Decode a Caesar cipher encoded string.\n",
        "def caesar_cipher_decode(s, shift):\n",
        "    return caesar_cipher_encode(s, -shift)\n",
        "\n",
        "# Output:\n",
        "print(caesar_cipher_decode(\"khoor\", 3))  # Output: \"hello\"\n"
      ],
      "metadata": {
        "colab": {
          "base_uri": "https://localhost:8080/"
        },
        "id": "NYw_LGqKFiQK",
        "outputId": "8f04597c-9507-48bc-e9b4-6a794ea8c373"
      },
      "execution_count": 60,
      "outputs": [
        {
          "output_type": "stream",
          "name": "stdout",
          "text": [
            "hello\n"
          ]
        }
      ]
    },
    {
      "cell_type": "code",
      "source": [
        "# Question 44: Find the most frequent word in a string.\n",
        "from collections import Counter\n",
        "\n",
        "def most_frequent_word(s):\n",
        "    words = s.split()\n",
        "    return Counter(words).most_common(1)[0][0]\n",
        "\n",
        "# Output:\n",
        "print(most_frequent_word(\"hello world hello\"))  # Output: \"hello\"\n"
      ],
      "metadata": {
        "colab": {
          "base_uri": "https://localhost:8080/"
        },
        "id": "4h5nBqmUFpKJ",
        "outputId": "2dfca5f6-46e2-48f1-d5d8-4a46ec1f96ff"
      },
      "execution_count": 61,
      "outputs": [
        {
          "output_type": "stream",
          "name": "stdout",
          "text": [
            "hello\n"
          ]
        }
      ]
    },
    {
      "cell_type": "code",
      "source": [
        "# Question 45: Find all unique words in a string.\n",
        "def unique_words(s):\n",
        "    words = s.split()\n",
        "    return set(words)\n",
        "\n",
        "# Output:\n",
        "print(unique_words(\"hello world hello\"))  # Output: {\"hello\", \"world\"}\n"
      ],
      "metadata": {
        "colab": {
          "base_uri": "https://localhost:8080/"
        },
        "id": "88b5x1gdFq9Z",
        "outputId": "c61b193f-baca-4453-da53-406676fecb8c"
      },
      "execution_count": 62,
      "outputs": [
        {
          "output_type": "stream",
          "name": "stdout",
          "text": [
            "{'hello', 'world'}\n"
          ]
        }
      ]
    },
    {
      "cell_type": "code",
      "source": [
        "# Question 46: Count the number of syllables in a string.\n",
        "# This is a simplified version; accurate syllable counting is complex.\n",
        "def count_syllables(s):\n",
        "    vowels = \"aeiouAEIOU\"\n",
        "    count = 0\n",
        "    in_vowel_sequence = False\n",
        "    for char in s:\n",
        "        if char in vowels:\n",
        "            if not in_vowel_sequence:\n",
        "                count += 1\n",
        "                in_vowel_sequence = True\n",
        "        else:\n",
        "            in_vowel_sequence = False\n",
        "    return count\n",
        "\n",
        "# Output:\n",
        "print(count_syllables(\"hello world\"))  # Output: 3\n"
      ],
      "metadata": {
        "colab": {
          "base_uri": "https://localhost:8080/"
        },
        "id": "0oqHu-cuFs4E",
        "outputId": "c9dc28eb-477e-46b8-b31e-09d208891b0f"
      },
      "execution_count": 63,
      "outputs": [
        {
          "output_type": "stream",
          "name": "stdout",
          "text": [
            "3\n"
          ]
        }
      ]
    },
    {
      "cell_type": "code",
      "source": [
        "# Question 47: Check if a string contains any special characters.\n",
        "import string\n",
        "\n",
        "def contains_special_characters(s):\n",
        "    return any(char in string.punctuation for char in s)\n",
        "\n",
        "# Output:\n",
        "print(contains_special_characters(\"hello@world\"))  # Output: True\n",
        "print(contains_special_characters(\"helloworld\"))  # Output: False\n"
      ],
      "metadata": {
        "colab": {
          "base_uri": "https://localhost:8080/"
        },
        "id": "T9x_Lp-QFupx",
        "outputId": "57984ded-6994-44ed-9c16-e2911cec1787"
      },
      "execution_count": 64,
      "outputs": [
        {
          "output_type": "stream",
          "name": "stdout",
          "text": [
            "True\n",
            "False\n"
          ]
        }
      ]
    },
    {
      "cell_type": "code",
      "source": [
        "# Question 48: Remove the nth word from a string.\n",
        "def remove_nth_word(s, n):\n",
        "    words = s.split()\n",
        "    if 0 < n <= len(words):\n",
        "        del words[n-1]\n",
        "    return ' '.join(words)\n",
        "\n",
        "# Output:\n",
        "print(remove_nth_word(\"hello wonderful world\", 2))  # Output: \"hello world\"\n"
      ],
      "metadata": {
        "colab": {
          "base_uri": "https://localhost:8080/"
        },
        "id": "shm920pHF_rs",
        "outputId": "ee0fe871-8c37-481a-dede-9bd0190b20f6"
      },
      "execution_count": 65,
      "outputs": [
        {
          "output_type": "stream",
          "name": "stdout",
          "text": [
            "hello world\n"
          ]
        }
      ]
    },
    {
      "cell_type": "code",
      "source": [
        "# Question 49: Insert a word at the nth position in a string.\n",
        "def insert_word_at(s, word, n):\n",
        "    words = s.split()\n",
        "    words.insert(n-1, word)\n",
        "    return ' '.join(words)\n",
        "\n",
        "# Output:\n",
        "print(insert_word_at(\"hello world\", \"wonderful\", 2))  # Output: \"hello wonderful world\"\n"
      ],
      "metadata": {
        "colab": {
          "base_uri": "https://localhost:8080/"
        },
        "id": "rtRfGuwhGBYI",
        "outputId": "b9e89574-a807-4f63-ac9b-28f1b178e635"
      },
      "execution_count": 66,
      "outputs": [
        {
          "output_type": "stream",
          "name": "stdout",
          "text": [
            "hello wonderful world\n"
          ]
        }
      ]
    },
    {
      "cell_type": "code",
      "source": [
        "# Question 50: Convert a CSV string to a list of lists.\n",
        "import csv\n",
        "from io import StringIO\n",
        "\n",
        "def csv_to_list_of_lists(csv_string):\n",
        "    f = StringIO(csv_string)\n",
        "    reader = csv.reader(f, delimiter=',')\n",
        "    return [row for row in reader]\n",
        "\n",
        "# Output:\n",
        "print(csv_to_list_of_lists(\"name,age,city\\nJohn,30,New York\\nJane,25,Los Angeles\"))\n",
        "# Output: [['name', 'age', 'city'], ['John', '30', 'New York'], ['Jane', '25', 'Los Angeles']]\n"
      ],
      "metadata": {
        "colab": {
          "base_uri": "https://localhost:8080/"
        },
        "id": "QvqwaAzgGD__",
        "outputId": "8370c750-5e9a-42c8-8446-42d06ddacdd9"
      },
      "execution_count": 67,
      "outputs": [
        {
          "output_type": "stream",
          "name": "stdout",
          "text": [
            "[['name', 'age', 'city'], ['John', '30', 'New York'], ['Jane', '25', 'Los Angeles']]\n"
          ]
        }
      ]
    },
    {
      "cell_type": "markdown",
      "source": [
        "## **List Based Practice Problem :**"
      ],
      "metadata": {
        "id": "VWzWm5w3GPhz"
      }
    },
    {
      "cell_type": "code",
      "source": [
        "# Question 1: Create a list with integers from 1 to 10.\n",
        "numbers = list(range(1, 11))\n",
        "\n",
        "# Output:\n",
        "print(numbers)  # Output: [1, 2, 3, 4, 5, 6, 7, 8, 9, 10]\n"
      ],
      "metadata": {
        "colab": {
          "base_uri": "https://localhost:8080/"
        },
        "id": "QnIS4jVEGUUk",
        "outputId": "161f63bc-60c2-43af-c01b-0d092a121232"
      },
      "execution_count": 68,
      "outputs": [
        {
          "output_type": "stream",
          "name": "stdout",
          "text": [
            "[1, 2, 3, 4, 5, 6, 7, 8, 9, 10]\n"
          ]
        }
      ]
    },
    {
      "cell_type": "code",
      "source": [
        "# Question 2: Find the length of a list without using the len() function.\n",
        "def find_length(lst):\n",
        "    count = 0\n",
        "    for _ in lst:\n",
        "        count += 1\n",
        "    return count\n",
        "\n",
        "# Output:\n",
        "print(find_length([1, 2, 3, 4, 5]))  # Output: 5\n"
      ],
      "metadata": {
        "colab": {
          "base_uri": "https://localhost:8080/"
        },
        "id": "IP5uaYK-Gu0E",
        "outputId": "7638fe21-224c-4fb4-d776-f678de278b95"
      },
      "execution_count": 69,
      "outputs": [
        {
          "output_type": "stream",
          "name": "stdout",
          "text": [
            "5\n"
          ]
        }
      ]
    },
    {
      "cell_type": "code",
      "source": [
        "# Question 3: Append an element to the end of a list.\n",
        "def append_element(lst, element):\n",
        "    lst.append(element)\n",
        "    return lst\n",
        "\n",
        "# Output:\n",
        "print(append_element([1, 2, 3], 4))  # Output: [1, 2, 3, 4]\n"
      ],
      "metadata": {
        "colab": {
          "base_uri": "https://localhost:8080/"
        },
        "id": "jPwWQXhaGxDk",
        "outputId": "e1f06342-c23b-46f0-b3e5-bea20b001537"
      },
      "execution_count": 70,
      "outputs": [
        {
          "output_type": "stream",
          "name": "stdout",
          "text": [
            "[1, 2, 3, 4]\n"
          ]
        }
      ]
    },
    {
      "cell_type": "code",
      "source": [
        "# Question 4: Insert an element at a specific index in a list.\n",
        "def insert_element(lst, element, index):\n",
        "    lst.insert(index, element)\n",
        "    return lst\n",
        "\n",
        "# Output:\n",
        "print(insert_element([1, 2, 3, 5], 4, 3))  # Output: [1, 2, 3, 4, 5]\n"
      ],
      "metadata": {
        "colab": {
          "base_uri": "https://localhost:8080/"
        },
        "id": "2oODhNvXGzwm",
        "outputId": "a15c488d-62d6-47c2-b00d-f46aacff68cc"
      },
      "execution_count": 71,
      "outputs": [
        {
          "output_type": "stream",
          "name": "stdout",
          "text": [
            "[1, 2, 3, 4, 5]\n"
          ]
        }
      ]
    },
    {
      "cell_type": "code",
      "source": [
        "# Question 5: Remove an element from a list by its value.\n",
        "def remove_by_value(lst, value):\n",
        "    if value in lst:\n",
        "        lst.remove(value)\n",
        "    return lst\n",
        "\n",
        "# Output:\n",
        "print(remove_by_value([1, 2, 3, 4], 3))  # Output: [1, 2, 4]\n"
      ],
      "metadata": {
        "colab": {
          "base_uri": "https://localhost:8080/"
        },
        "id": "-6txTnxkG2q9",
        "outputId": "fec550e6-557d-49a4-a28b-9616547b436d"
      },
      "execution_count": 72,
      "outputs": [
        {
          "output_type": "stream",
          "name": "stdout",
          "text": [
            "[1, 2, 4]\n"
          ]
        }
      ]
    },
    {
      "cell_type": "code",
      "source": [
        "# Question 6: Remove an element from a list by its index.\n",
        "def remove_by_index(lst, index):\n",
        "    if 0 <= index < len(lst):\n",
        "        del lst[index]\n",
        "    return lst\n",
        "\n",
        "# Output:\n",
        "print(remove_by_index([1, 2, 3, 4], 2))  # Output: [1, 2, 4]\n"
      ],
      "metadata": {
        "colab": {
          "base_uri": "https://localhost:8080/"
        },
        "id": "DpYnCUgiG4w4",
        "outputId": "729c4a4a-24db-4d30-8f9f-d2aa2788c816"
      },
      "execution_count": 73,
      "outputs": [
        {
          "output_type": "stream",
          "name": "stdout",
          "text": [
            "[1, 2, 4]\n"
          ]
        }
      ]
    },
    {
      "cell_type": "code",
      "source": [
        "# Question 7: Check if an element exists in a list.\n",
        "def exists_in_list(lst, element):\n",
        "    return element in lst\n",
        "\n",
        "# Output:\n",
        "print(exists_in_list([1, 2, 3, 4], 3))  # Output: True\n",
        "print(exists_in_list([1, 2, 3, 4], 5))  # Output: False\n"
      ],
      "metadata": {
        "colab": {
          "base_uri": "https://localhost:8080/"
        },
        "id": "VZdxvSEkG63l",
        "outputId": "261ad878-f54a-408e-b734-c1fe9f5395ae"
      },
      "execution_count": 74,
      "outputs": [
        {
          "output_type": "stream",
          "name": "stdout",
          "text": [
            "True\n",
            "False\n"
          ]
        }
      ]
    },
    {
      "cell_type": "code",
      "source": [
        "# Question 8: Find the index of the first occurrence of an element in a list.\n",
        "def index_of_element(lst, element):\n",
        "    if element in lst:\n",
        "        return lst.index(element)\n",
        "    return -1  # Return -1 if the element is not found\n",
        "\n",
        "# Output:\n",
        "print(index_of_element([1, 2, 3, 2], 2))  # Output: 1\n"
      ],
      "metadata": {
        "colab": {
          "base_uri": "https://localhost:8080/"
        },
        "id": "BU-UrM0qG8z4",
        "outputId": "b812bd86-a51f-41c2-c226-d7cf0575b955"
      },
      "execution_count": 75,
      "outputs": [
        {
          "output_type": "stream",
          "name": "stdout",
          "text": [
            "1\n"
          ]
        }
      ]
    },
    {
      "cell_type": "code",
      "source": [
        "# Question 9: Count the occurrences of an element in a list.\n",
        "def count_occurrences(lst, element):\n",
        "    return lst.count(element)\n",
        "\n",
        "# Output:\n",
        "print(count_occurrences([1, 2, 3, 2], 2))  # Output: 2\n"
      ],
      "metadata": {
        "colab": {
          "base_uri": "https://localhost:8080/"
        },
        "id": "Zx7w_0iEG_vk",
        "outputId": "10dec5a1-f56e-4cc6-c238-bd00b928b5d1"
      },
      "execution_count": 76,
      "outputs": [
        {
          "output_type": "stream",
          "name": "stdout",
          "text": [
            "2\n"
          ]
        }
      ]
    },
    {
      "cell_type": "code",
      "source": [
        "# Question 10: Reverse the order of elements in a list.\n",
        "def reverse_list(lst):\n",
        "    lst.reverse()\n",
        "    return lst\n",
        "\n",
        "# Output:\n",
        "print(reverse_list([1, 2, 3, 4]))  # Output: [4, 3, 2, 1]\n"
      ],
      "metadata": {
        "colab": {
          "base_uri": "https://localhost:8080/"
        },
        "id": "NOtPTtvhHDgW",
        "outputId": "366be19b-b94b-4088-d76b-a0955bfdb8a0"
      },
      "execution_count": 77,
      "outputs": [
        {
          "output_type": "stream",
          "name": "stdout",
          "text": [
            "[4, 3, 2, 1]\n"
          ]
        }
      ]
    },
    {
      "cell_type": "code",
      "source": [
        "# Question 11: Sort a list in ascending order.\n",
        "def sort_ascending(lst):\n",
        "    return sorted(lst)\n",
        "\n",
        "# Output:\n",
        "print(sort_ascending([5, 2, 9, 1, 5, 6]))  # Output: [1, 2, 5, 5, 6, 9]\n"
      ],
      "metadata": {
        "colab": {
          "base_uri": "https://localhost:8080/"
        },
        "id": "Z22cE0djHFvK",
        "outputId": "1522fcda-0211-4f1c-a3f0-9b029a1344c1"
      },
      "execution_count": 78,
      "outputs": [
        {
          "output_type": "stream",
          "name": "stdout",
          "text": [
            "[1, 2, 5, 5, 6, 9]\n"
          ]
        }
      ]
    },
    {
      "cell_type": "code",
      "source": [
        "# Question 12: Sort a list in descending order.\n",
        "def sort_descending(lst):\n",
        "    return sorted(lst, reverse=True)\n",
        "\n",
        "# Output:\n",
        "print(sort_descending([5, 2, 9, 1, 5, 6]))  # Output: [9, 6, 5, 5, 2, 1]\n"
      ],
      "metadata": {
        "colab": {
          "base_uri": "https://localhost:8080/"
        },
        "id": "g_YO9ZKbHQet",
        "outputId": "f7fb1bcf-a402-447a-f0d4-2ed4f266fac4"
      },
      "execution_count": 79,
      "outputs": [
        {
          "output_type": "stream",
          "name": "stdout",
          "text": [
            "[9, 6, 5, 5, 2, 1]\n"
          ]
        }
      ]
    },
    {
      "cell_type": "code",
      "source": [
        "# Question 13: Create a list of even numbers from 1 to 20.\n",
        "even_numbers = [num for num in range(1, 21) if num % 2 == 0]\n",
        "\n",
        "# Output:\n",
        "print(even_numbers)  # Output: [2, 4, 6, 8, 10, 12, 14, 16, 18, 20]\n"
      ],
      "metadata": {
        "colab": {
          "base_uri": "https://localhost:8080/"
        },
        "id": "KfO39n7fHSQN",
        "outputId": "6a69c8d2-33f9-4117-c4dd-5d806c339812"
      },
      "execution_count": 80,
      "outputs": [
        {
          "output_type": "stream",
          "name": "stdout",
          "text": [
            "[2, 4, 6, 8, 10, 12, 14, 16, 18, 20]\n"
          ]
        }
      ]
    },
    {
      "cell_type": "code",
      "source": [
        "# Question 14: Create a list of odd numbers from 1 to 20.\n",
        "odd_numbers = [num for num in range(1, 21) if num % 2 != 0]\n",
        "\n",
        "# Output:\n",
        "print(odd_numbers)  # Output: [1, 3, 5, 7, 9, 11, 13, 15, 17, 19]\n"
      ],
      "metadata": {
        "colab": {
          "base_uri": "https://localhost:8080/"
        },
        "id": "aZfzyTzmHUYl",
        "outputId": "ad2b6717-2bbf-4c34-f2c1-4bf9b1ab3c47"
      },
      "execution_count": 81,
      "outputs": [
        {
          "output_type": "stream",
          "name": "stdout",
          "text": [
            "[1, 3, 5, 7, 9, 11, 13, 15, 17, 19]\n"
          ]
        }
      ]
    },
    {
      "cell_type": "code",
      "source": [
        "# Question 15: Find the sum of all elements in a list.\n",
        "def sum_of_elements(lst):\n",
        "    return sum(lst)\n",
        "\n",
        "# Output:\n",
        "print(sum_of_elements([1, 2, 3, 4, 5]))  # Output: 15\n"
      ],
      "metadata": {
        "colab": {
          "base_uri": "https://localhost:8080/"
        },
        "id": "vvTsZT89HWKh",
        "outputId": "13796387-18b9-4ae2-b578-a8f939184954"
      },
      "execution_count": 82,
      "outputs": [
        {
          "output_type": "stream",
          "name": "stdout",
          "text": [
            "15\n"
          ]
        }
      ]
    },
    {
      "cell_type": "code",
      "source": [
        "# Question 16: Find the maximum value in a list.\n",
        "def max_value(lst):\n",
        "    return max(lst)\n",
        "\n",
        "# Output:\n",
        "print(max_value([1, 2, 3, 4, 5]))  # Output: 5\n"
      ],
      "metadata": {
        "colab": {
          "base_uri": "https://localhost:8080/"
        },
        "id": "rEaivuO4HYKq",
        "outputId": "1ba5aa90-a3cf-4e95-e3f2-439c52ace5d6"
      },
      "execution_count": 83,
      "outputs": [
        {
          "output_type": "stream",
          "name": "stdout",
          "text": [
            "5\n"
          ]
        }
      ]
    },
    {
      "cell_type": "code",
      "source": [
        "# Question 17: Find the minimum value in a list.\n",
        "def min_value(lst):\n",
        "    return min(lst)\n",
        "\n",
        "# Output:\n",
        "print(min_value([1, 2, 3, 4, 5]))  # Output: 1\n"
      ],
      "metadata": {
        "colab": {
          "base_uri": "https://localhost:8080/"
        },
        "id": "zIJda4ExHaFk",
        "outputId": "6e751961-12db-4160-ecb6-bf582bdb7f84"
      },
      "execution_count": 84,
      "outputs": [
        {
          "output_type": "stream",
          "name": "stdout",
          "text": [
            "1\n"
          ]
        }
      ]
    },
    {
      "cell_type": "code",
      "source": [
        "# Question 18: Create a list of squares of numbers from 1 to 10.\n",
        "squares = [num ** 2 for num in range(1, 11)]\n",
        "\n",
        "# Output:\n",
        "print(squares)  # Output: [1, 4, 9, 16, 25, 36, 49, 64, 81, 100]\n"
      ],
      "metadata": {
        "colab": {
          "base_uri": "https://localhost:8080/"
        },
        "id": "oGBWUb8wHb5_",
        "outputId": "6b2d0162-8e5e-41f2-c594-09207cf6ab1b"
      },
      "execution_count": 85,
      "outputs": [
        {
          "output_type": "stream",
          "name": "stdout",
          "text": [
            "[1, 4, 9, 16, 25, 36, 49, 64, 81, 100]\n"
          ]
        }
      ]
    },
    {
      "cell_type": "code",
      "source": [
        "# Question 19: Create a list of random numbers.\n",
        "import random\n",
        "\n",
        "def random_numbers(size, range_start, range_end):\n",
        "    return [random.randint(range_start, range_end) for _ in range(size)]\n",
        "\n",
        "# Output:\n",
        "print(random_numbers(5, 1, 100))  # Output: [e.g., [52, 87, 25, 63, 41]]\n"
      ],
      "metadata": {
        "colab": {
          "base_uri": "https://localhost:8080/"
        },
        "id": "ooUmPZnCHd2K",
        "outputId": "7329efdf-6ff2-450c-b617-879d4b7a8004"
      },
      "execution_count": 86,
      "outputs": [
        {
          "output_type": "stream",
          "name": "stdout",
          "text": [
            "[68, 83, 39, 40, 79]\n"
          ]
        }
      ]
    },
    {
      "cell_type": "code",
      "source": [
        "# Question 20: Remove duplicates from a list.\n",
        "def remove_duplicates(lst):\n",
        "    return list(set(lst))\n",
        "\n",
        "# Output:\n",
        "print(remove_duplicates([1, 2, 2, 3, 4, 4, 5]))  # Output: [1, 2, 3, 4, 5]\n"
      ],
      "metadata": {
        "colab": {
          "base_uri": "https://localhost:8080/"
        },
        "id": "EwyHlsfdHgsZ",
        "outputId": "0529225a-52c2-45bb-d930-3a365d186131"
      },
      "execution_count": 87,
      "outputs": [
        {
          "output_type": "stream",
          "name": "stdout",
          "text": [
            "[1, 2, 3, 4, 5]\n"
          ]
        }
      ]
    },
    {
      "cell_type": "code",
      "source": [
        "# Question 21: Find the common elements between two lists.\n",
        "def common_elements(lst1, lst2):\n",
        "    return list(set(lst1) & set(lst2))\n",
        "\n",
        "# Output:\n",
        "print(common_elements([1, 2, 3, 4], [3, 4, 5, 6]))  # Output: [3, 4]\n"
      ],
      "metadata": {
        "colab": {
          "base_uri": "https://localhost:8080/"
        },
        "id": "I-2FcTCEHinD",
        "outputId": "1950321c-91a5-43e3-b027-b660f5ec9de7"
      },
      "execution_count": 88,
      "outputs": [
        {
          "output_type": "stream",
          "name": "stdout",
          "text": [
            "[3, 4]\n"
          ]
        }
      ]
    },
    {
      "cell_type": "code",
      "source": [
        "# Question 22: Find the difference between two lists.\n",
        "def list_difference(lst1, lst2):\n",
        "    return list(set(lst1) - set(lst2))\n",
        "\n",
        "# Output:\n",
        "print(list_difference([1, 2, 3, 4], [3, 4, 5, 6]))  # Output: [1, 2]\n"
      ],
      "metadata": {
        "colab": {
          "base_uri": "https://localhost:8080/"
        },
        "id": "vCMbVHmSHkyW",
        "outputId": "64346c5f-f8ff-48ee-f1cd-0fd15e60d678"
      },
      "execution_count": 89,
      "outputs": [
        {
          "output_type": "stream",
          "name": "stdout",
          "text": [
            "[1, 2]\n"
          ]
        }
      ]
    },
    {
      "cell_type": "code",
      "source": [
        "# Question 23: Merge two lists.\n",
        "def merge_lists(lst1, lst2):\n",
        "    return lst1 + lst2\n",
        "\n",
        "# Output:\n",
        "print(merge_lists([1, 2, 3], [4, 5, 6]))  # Output: [1, 2, 3, 4, 5, 6]\n"
      ],
      "metadata": {
        "colab": {
          "base_uri": "https://localhost:8080/"
        },
        "id": "jMzy0R3PHniv",
        "outputId": "457fa324-b1ca-4c12-a658-ee6c1ce5665d"
      },
      "execution_count": 90,
      "outputs": [
        {
          "output_type": "stream",
          "name": "stdout",
          "text": [
            "[1, 2, 3, 4, 5, 6]\n"
          ]
        }
      ]
    },
    {
      "cell_type": "code",
      "source": [
        "# Question 24: Multiply all elements in a list by 2.\n",
        "def multiply_by_two(lst):\n",
        "    return [x * 2 for x in lst]\n",
        "\n",
        "# Output:\n",
        "print(multiply_by_two([1, 2, 3]))  # Output: [2, 4, 6]\n"
      ],
      "metadata": {
        "colab": {
          "base_uri": "https://localhost:8080/"
        },
        "id": "VcDeNizLH8Ek",
        "outputId": "0e1deb47-ddac-46b3-bd91-7d67fdf7fd08"
      },
      "execution_count": 91,
      "outputs": [
        {
          "output_type": "stream",
          "name": "stdout",
          "text": [
            "[2, 4, 6]\n"
          ]
        }
      ]
    },
    {
      "cell_type": "code",
      "source": [
        "# Question 25: Filter out all even numbers from a list.\n",
        "def filter_even_numbers(lst):\n",
        "    return [x for x in lst if x % 2 != 0]\n",
        "\n",
        "# Output:\n",
        "print(filter_even_numbers([1, 2, 3, 4, 5]))  # Output: [1, 3, 5]\n"
      ],
      "metadata": {
        "colab": {
          "base_uri": "https://localhost:8080/"
        },
        "id": "MG5wF7cVH-J6",
        "outputId": "e9872561-1b0d-49ea-9e2e-4f1fd36b7db7"
      },
      "execution_count": 92,
      "outputs": [
        {
          "output_type": "stream",
          "name": "stdout",
          "text": [
            "[1, 3, 5]\n"
          ]
        }
      ]
    },
    {
      "cell_type": "code",
      "source": [
        "# Question 26: Convert a list of strings to a list of integers.\n",
        "def strings_to_integers(lst):\n",
        "    return [int(x) for x in lst]\n",
        "\n",
        "# Output:\n",
        "print(strings_to_integers([\"1\", \"2\", \"3\"]))  # Output: [1, 2, 3]\n"
      ],
      "metadata": {
        "colab": {
          "base_uri": "https://localhost:8080/"
        },
        "id": "koyeHgJxIAVY",
        "outputId": "83206159-2f3d-4ef8-b270-17ade36395d9"
      },
      "execution_count": 93,
      "outputs": [
        {
          "output_type": "stream",
          "name": "stdout",
          "text": [
            "[1, 2, 3]\n"
          ]
        }
      ]
    },
    {
      "cell_type": "code",
      "source": [
        "# Question 27: Convert a list of integers to a list of strings.\n",
        "def integers_to_strings(lst):\n",
        "    return [str(x) for x in lst]\n",
        "\n",
        "# Output:\n",
        "print(integers_to_strings([1, 2, 3]))  # Output: [\"1\", \"2\", \"3\"]\n"
      ],
      "metadata": {
        "colab": {
          "base_uri": "https://localhost:8080/"
        },
        "id": "piTijaN7I6zS",
        "outputId": "5e61ad8b-8bf1-45c6-f078-d7d48dbd68e3"
      },
      "execution_count": 94,
      "outputs": [
        {
          "output_type": "stream",
          "name": "stdout",
          "text": [
            "['1', '2', '3']\n"
          ]
        }
      ]
    },
    {
      "cell_type": "code",
      "source": [
        "# Question 28: Flatten a nested list.\n",
        "def flatten_list(nested_lst):\n",
        "    flat_lst = []\n",
        "    for elem in nested_lst:\n",
        "        if isinstance(elem, list):\n",
        "            flat_lst.extend(flatten_list(elem))\n",
        "        else:\n",
        "            flat_lst.append(elem)\n",
        "    return flat_lst\n",
        "\n",
        "# Output:\n",
        "print(flatten_list([[1, 2], [3, [4, 5]], 6]))  # Output: [1, 2, 3, 4, 5, 6]\n"
      ],
      "metadata": {
        "colab": {
          "base_uri": "https://localhost:8080/"
        },
        "id": "Q2mUx5OKI8pS",
        "outputId": "e9c78631-7d05-401e-e00b-c2034c991960"
      },
      "execution_count": 95,
      "outputs": [
        {
          "output_type": "stream",
          "name": "stdout",
          "text": [
            "[1, 2, 3, 4, 5, 6]\n"
          ]
        }
      ]
    },
    {
      "cell_type": "code",
      "source": [
        "# Question 29: Create a list of the first 10 Fibonacci numbers.\n",
        "def fibonacci_list(n):\n",
        "    fibs = [0, 1]\n",
        "    while len(fibs) < n:\n",
        "        fibs.append(fibs[-1] + fibs[-2])\n",
        "    return fibs\n",
        "\n",
        "# Output:\n",
        "print(fibonacci_list(10))  # Output: [0, 1, 1, 2, 3, 5, 8, 13, 21, 34]\n"
      ],
      "metadata": {
        "colab": {
          "base_uri": "https://localhost:8080/"
        },
        "id": "mqhNs_zeI-WM",
        "outputId": "75a90f70-b934-42b9-d4a8-afb1ceab6ee1"
      },
      "execution_count": 96,
      "outputs": [
        {
          "output_type": "stream",
          "name": "stdout",
          "text": [
            "[0, 1, 1, 2, 3, 5, 8, 13, 21, 34]\n"
          ]
        }
      ]
    },
    {
      "cell_type": "code",
      "source": [
        "# Question 30: Check if a list is sorted.\n",
        "def is_sorted(lst):\n",
        "    return lst == sorted(lst)\n",
        "\n",
        "# Output:\n",
        "print(is_sorted([1, 2, 3, 4]))  # Output: True\n",
        "print(is_sorted([4, 3, 2, 1]))  # Output: False\n"
      ],
      "metadata": {
        "colab": {
          "base_uri": "https://localhost:8080/"
        },
        "id": "DWtiPNjMI_5Z",
        "outputId": "2c284704-d3b1-43c4-c438-198660eabbf0"
      },
      "execution_count": 97,
      "outputs": [
        {
          "output_type": "stream",
          "name": "stdout",
          "text": [
            "True\n",
            "False\n"
          ]
        }
      ]
    },
    {
      "cell_type": "code",
      "source": [
        "# Question 31: Rotate a list to the left by n positions.\n",
        "def rotate_left(lst, n):\n",
        "    return lst[n:] + lst[:n]\n",
        "\n",
        "# Output:\n",
        "print(rotate_left([1, 2, 3, 4, 5], 2))  # Output: [3, 4, 5, 1, 2]\n"
      ],
      "metadata": {
        "colab": {
          "base_uri": "https://localhost:8080/"
        },
        "id": "loar9GCyJCeq",
        "outputId": "36361a3a-c592-417f-c7ab-8ea3d7eb8c46"
      },
      "execution_count": 98,
      "outputs": [
        {
          "output_type": "stream",
          "name": "stdout",
          "text": [
            "[3, 4, 5, 1, 2]\n"
          ]
        }
      ]
    },
    {
      "cell_type": "code",
      "source": [
        "# Question 32: Rotate a list to the right by n positions.\n",
        "def rotate_right(lst, n):\n",
        "    return lst[-n:] + lst[:-n]\n",
        "\n",
        "# Output:\n",
        "print(rotate_right([1, 2, 3, 4, 5], 2))  # Output: [4, 5, 1, 2, 3]\n"
      ],
      "metadata": {
        "colab": {
          "base_uri": "https://localhost:8080/"
        },
        "id": "O7BKpngkJEIh",
        "outputId": "df19855b-d58f-463a-c70b-bf2baeda1ea5"
      },
      "execution_count": 99,
      "outputs": [
        {
          "output_type": "stream",
          "name": "stdout",
          "text": [
            "[4, 5, 1, 2, 3]\n"
          ]
        }
      ]
    },
    {
      "cell_type": "code",
      "source": [
        "# Question 33: Create a list of prime numbers up to 50.\n",
        "def is_prime(num):\n",
        "    if num <= 1:\n",
        "        return False\n",
        "    for i in range(2, int(num**0.5) + 1):\n",
        "        if num % i == 0:\n",
        "            return False\n",
        "    return True\n",
        "\n",
        "def prime_numbers(limit):\n",
        "    return [num for num in range(2, limit + 1) if is_prime(num)]\n",
        "\n",
        "# Output:\n",
        "print(prime_numbers(50))  # Output: [2, 3, 5, 7, 11, 13, 17, 19, 23, 29, 31, 37, 41, 43, 47]\n"
      ],
      "metadata": {
        "colab": {
          "base_uri": "https://localhost:8080/"
        },
        "id": "-Uiq20TXJGFz",
        "outputId": "e22c5fa6-44e3-42e3-87c9-b8d0c90a772b"
      },
      "execution_count": 100,
      "outputs": [
        {
          "output_type": "stream",
          "name": "stdout",
          "text": [
            "[2, 3, 5, 7, 11, 13, 17, 19, 23, 29, 31, 37, 41, 43, 47]\n"
          ]
        }
      ]
    },
    {
      "cell_type": "code",
      "source": [
        "# Question 34: Split a list into chunks of size n.\n",
        "def split_into_chunks(lst, n):\n",
        "    return [lst[i:i + n] for i in range(0, len(lst), n)]\n",
        "\n",
        "# Output:\n",
        "print(split_into_chunks([1, 2, 3, 4, 5, 6], 2))  # Output: [[1, 2], [3, 4], [5, 6]]\n"
      ],
      "metadata": {
        "colab": {
          "base_uri": "https://localhost:8080/"
        },
        "id": "pHEiBJiRJI65",
        "outputId": "e3aa7bfe-30ca-43ff-d252-bbda242cd211"
      },
      "execution_count": 101,
      "outputs": [
        {
          "output_type": "stream",
          "name": "stdout",
          "text": [
            "[[1, 2], [3, 4], [5, 6]]\n"
          ]
        }
      ]
    },
    {
      "cell_type": "code",
      "source": [
        "# Question 35: Find the second largest number in a list.\n",
        "def second_largest(lst):\n",
        "    first, second = float('-inf'), float('-inf')\n",
        "    for num in lst:\n",
        "        if num > first:\n",
        "            second = first\n",
        "            first = num\n",
        "        elif first > num > second:\n",
        "            second = num\n",
        "    return second if second != float('-inf') else None\n",
        "\n",
        "# Output:\n",
        "print(second_largest([1, 2, 3, 4, 5]))  # Output: 4\n"
      ],
      "metadata": {
        "colab": {
          "base_uri": "https://localhost:8080/"
        },
        "id": "Fr7RcMN_JK8R",
        "outputId": "5781a37a-4502-41a7-c919-91b4616014da"
      },
      "execution_count": 102,
      "outputs": [
        {
          "output_type": "stream",
          "name": "stdout",
          "text": [
            "4\n"
          ]
        }
      ]
    },
    {
      "cell_type": "code",
      "source": [
        "# Question 36: Replace every element in a list with its square.\n",
        "def square_elements(lst):\n",
        "    return [x ** 2 for x in lst]\n",
        "\n",
        "# Output:\n",
        "print(square_elements([1, 2, 3]))  # Output: [1, 4, 9]\n"
      ],
      "metadata": {
        "colab": {
          "base_uri": "https://localhost:8080/"
        },
        "id": "1Vi0nsfEJMuM",
        "outputId": "0d40b3b7-e235-4835-a2d4-cd37480f98f3"
      },
      "execution_count": 103,
      "outputs": [
        {
          "output_type": "stream",
          "name": "stdout",
          "text": [
            "[1, 4, 9]\n"
          ]
        }
      ]
    },
    {
      "cell_type": "code",
      "source": [
        "# Question 37: Convert a list to a dictionary where list elements become keys and their indices become values.\n",
        "def list_to_dict(lst):\n",
        "    return {item: index for index, item in enumerate(lst)}\n",
        "\n",
        "# Output:\n",
        "print(list_to_dict([\"a\", \"b\", \"c\"]))  # Output: {'a': 0, 'b': 1, 'c': 2}\n"
      ],
      "metadata": {
        "colab": {
          "base_uri": "https://localhost:8080/"
        },
        "id": "cifiHD-IJQF4",
        "outputId": "6e460a51-a93f-4c49-a5c8-ec215ae4dad5"
      },
      "execution_count": 104,
      "outputs": [
        {
          "output_type": "stream",
          "name": "stdout",
          "text": [
            "{'a': 0, 'b': 1, 'c': 2}\n"
          ]
        }
      ]
    },
    {
      "cell_type": "code",
      "source": [
        "# Question 38: Shuffle the elements of a list randomly.\n",
        "import random\n",
        "\n",
        "def shuffle_list(lst):\n",
        "    random.shuffle(lst)\n",
        "    return lst\n",
        "\n",
        "# Output:\n",
        "print(shuffle_list([1, 2, 3, 4, 5]))  # Output: [e.g., [3, 5, 1, 4, 2]]\n"
      ],
      "metadata": {
        "colab": {
          "base_uri": "https://localhost:8080/"
        },
        "id": "C6jlXZ1pJR5y",
        "outputId": "f8deecb6-1a47-44cb-f955-35ba5101f023"
      },
      "execution_count": 105,
      "outputs": [
        {
          "output_type": "stream",
          "name": "stdout",
          "text": [
            "[1, 4, 2, 5, 3]\n"
          ]
        }
      ]
    },
    {
      "cell_type": "code",
      "source": [
        "# Question 39: Create a list of the first 10 factorial numbers.\n",
        "import math\n",
        "\n",
        "def factorial_list(n):\n",
        "    return [math.factorial(i) for i in range(n)]\n",
        "\n",
        "# Output:\n",
        "print(factorial_list(10))  # Output: [1, 1, 2, 6, 24, 120, 720, 5040, 40320, 362880]\n"
      ],
      "metadata": {
        "colab": {
          "base_uri": "https://localhost:8080/"
        },
        "id": "KzZcvN2bJTvY",
        "outputId": "45be984b-c65d-4b6b-adcc-b383c7f8b674"
      },
      "execution_count": 106,
      "outputs": [
        {
          "output_type": "stream",
          "name": "stdout",
          "text": [
            "[1, 1, 2, 6, 24, 120, 720, 5040, 40320, 362880]\n"
          ]
        }
      ]
    },
    {
      "cell_type": "code",
      "source": [
        "# Question 40: Check if two lists have at least one element in common.\n",
        "def have_common_element(lst1, lst2):\n",
        "    return any(elem in lst2 for elem in lst1)\n",
        "\n",
        "# Output:\n",
        "print(have_common_element([1, 2, 3], [4, 5, 3]))  # Output: True\n",
        "print(have_common_element([1, 2, 3], [4, 5, 6]))  # Output: False\n"
      ],
      "metadata": {
        "colab": {
          "base_uri": "https://localhost:8080/"
        },
        "id": "1qmWx4VuJV7F",
        "outputId": "9f38e3d8-c5c7-47dc-9a9f-9ff6a18c0c6f"
      },
      "execution_count": 107,
      "outputs": [
        {
          "output_type": "stream",
          "name": "stdout",
          "text": [
            "True\n",
            "False\n"
          ]
        }
      ]
    },
    {
      "cell_type": "code",
      "source": [
        "# Question 41: Remove all elements from a list.\n",
        "def clear_list(lst):\n",
        "    lst.clear()\n",
        "    return lst\n",
        "\n",
        "# Output:\n",
        "print(clear_list([1, 2, 3]))  # Output: []\n"
      ],
      "metadata": {
        "colab": {
          "base_uri": "https://localhost:8080/"
        },
        "id": "4Xk9lQ3sJjCR",
        "outputId": "3bca0542-0cbf-48fe-9870-ff6d30a1b8ff"
      },
      "execution_count": 108,
      "outputs": [
        {
          "output_type": "stream",
          "name": "stdout",
          "text": [
            "[]\n"
          ]
        }
      ]
    },
    {
      "cell_type": "code",
      "source": [
        "# Question 42: Replace negative numbers in a list with 0.\n",
        "def replace_negatives(lst):\n",
        "    return [0 if x < 0 else x for x in lst]\n",
        "\n",
        "# Output:\n",
        "print(replace_negatives([1, -2, 3, -4]))  # Output: [1, 0, 3, 0]\n"
      ],
      "metadata": {
        "colab": {
          "base_uri": "https://localhost:8080/"
        },
        "id": "Mu8tVhtiJk8p",
        "outputId": "76bb843e-895b-4ec4-9bca-e0f40b9fffda"
      },
      "execution_count": 109,
      "outputs": [
        {
          "output_type": "stream",
          "name": "stdout",
          "text": [
            "[1, 0, 3, 0]\n"
          ]
        }
      ]
    },
    {
      "cell_type": "code",
      "source": [
        "# Question 43: Convert a string into a list of words.\n",
        "def string_to_words(s):\n",
        "    return s.split()\n",
        "\n",
        "# Output:\n",
        "print(string_to_words(\"Hello world, how are you?\"))  # Output: ['Hello', 'world,', 'how', 'are', 'you?']\n"
      ],
      "metadata": {
        "colab": {
          "base_uri": "https://localhost:8080/"
        },
        "id": "fGt0MFDYJmlv",
        "outputId": "b5d9bbe7-d591-46bc-da96-1b2e93aa72b7"
      },
      "execution_count": 110,
      "outputs": [
        {
          "output_type": "stream",
          "name": "stdout",
          "text": [
            "['Hello', 'world,', 'how', 'are', 'you?']\n"
          ]
        }
      ]
    },
    {
      "cell_type": "code",
      "source": [
        "# Question 44: Convert a list of words into a string.\n",
        "def words_to_string(lst):\n",
        "    return ' '.join(lst)\n",
        "\n",
        "# Output:\n",
        "print(words_to_string(['Hello', 'world', 'how', 'are', 'you?']))  # Output: \"Hello world how are you?\"\n"
      ],
      "metadata": {
        "colab": {
          "base_uri": "https://localhost:8080/"
        },
        "id": "tB7931WMJomx",
        "outputId": "90fb2d7d-280a-412d-c7f6-c0cf11e3106a"
      },
      "execution_count": 111,
      "outputs": [
        {
          "output_type": "stream",
          "name": "stdout",
          "text": [
            "Hello world how are you?\n"
          ]
        }
      ]
    },
    {
      "cell_type": "code",
      "source": [
        "# Question 45: Create a list of the first n powers of 2.\n",
        "def powers_of_two(n):\n",
        "    return [2 ** i for i in range(n)]\n",
        "\n",
        "# Output:\n",
        "print(powers_of_two(5))  # Output: [1, 2, 4, 8, 16]\n"
      ],
      "metadata": {
        "colab": {
          "base_uri": "https://localhost:8080/"
        },
        "id": "u3cOm4DNJqoQ",
        "outputId": "c423ff97-7de0-408e-8190-5510a779a5a6"
      },
      "execution_count": 112,
      "outputs": [
        {
          "output_type": "stream",
          "name": "stdout",
          "text": [
            "[1, 2, 4, 8, 16]\n"
          ]
        }
      ]
    },
    {
      "cell_type": "code",
      "source": [
        "# Question 46: Find the longest string in a list of strings.\n",
        "def longest_string(lst):\n",
        "    return max(lst, key=len)\n",
        "\n",
        "# Output:\n",
        "print(longest_string([\"apple\", \"banana\", \"cherry\"]))  # Output: \"banana\"\n"
      ],
      "metadata": {
        "colab": {
          "base_uri": "https://localhost:8080/"
        },
        "id": "Z2LnhlICJs8A",
        "outputId": "a97ccf94-1cec-4be6-8c65-8bc07b9d6c6e"
      },
      "execution_count": 113,
      "outputs": [
        {
          "output_type": "stream",
          "name": "stdout",
          "text": [
            "banana\n"
          ]
        }
      ]
    },
    {
      "cell_type": "code",
      "source": [
        "# Question 47: Find the shortest string in a list of strings.\n",
        "def shortest_string(lst):\n",
        "    return min(lst, key=len)\n",
        "\n",
        "# Output:\n",
        "print(shortest_string([\"apple\", \"banana\", \"cherry\"]))  # Output: \"apple\"\n"
      ],
      "metadata": {
        "colab": {
          "base_uri": "https://localhost:8080/"
        },
        "id": "T5I2eXOhJu-_",
        "outputId": "64c19bca-b9ee-4beb-b459-4cbccc8334bf"
      },
      "execution_count": 114,
      "outputs": [
        {
          "output_type": "stream",
          "name": "stdout",
          "text": [
            "apple\n"
          ]
        }
      ]
    },
    {
      "cell_type": "code",
      "source": [
        "# Question 48: Create a list of the first n triangular numbers.\n",
        "def triangular_numbers(n):\n",
        "    return [i * (i + 1) // 2 for i in range(1, n + 1)]\n",
        "\n",
        "# Output:\n",
        "print(triangular_numbers(5))  # Output: [1, 3, 6, 10, 15]\n"
      ],
      "metadata": {
        "colab": {
          "base_uri": "https://localhost:8080/"
        },
        "id": "jOyA8Yp4JxOp",
        "outputId": "d35223a7-1cfe-4edb-ce7e-478b09e08b88"
      },
      "execution_count": 115,
      "outputs": [
        {
          "output_type": "stream",
          "name": "stdout",
          "text": [
            "[1, 3, 6, 10, 15]\n"
          ]
        }
      ]
    },
    {
      "cell_type": "code",
      "source": [
        "# Question 49: Check if a list contains another list as a subsequence.\n",
        "def contains_subsequence(lst, subseq):\n",
        "    it = iter(lst)\n",
        "    return all(item in it for item in subseq)\n",
        "\n",
        "# Output:\n",
        "print(contains_subsequence([1, 2, 3, 4, 5], [2, 4]))  # Output: True\n",
        "print(contains_subsequence([1, 2, 3, 4, 5], [2, 5, 1]))  # Output: False\n"
      ],
      "metadata": {
        "colab": {
          "base_uri": "https://localhost:8080/"
        },
        "id": "lXkeGwyLJzKi",
        "outputId": "2f9cb380-b5fe-4b48-cd7c-eb4733cf6454"
      },
      "execution_count": 116,
      "outputs": [
        {
          "output_type": "stream",
          "name": "stdout",
          "text": [
            "True\n",
            "False\n"
          ]
        }
      ]
    },
    {
      "cell_type": "code",
      "source": [
        "# Question 50: Swap two elements in a list by their indices.\n",
        "def swap_elements(lst, index1, index2):\n",
        "    lst[index1], lst[index2] = lst[index2], lst[index1]\n",
        "    return lst\n",
        "\n",
        "# Output:\n",
        "print(swap_elements([1, 2, 3, 4], 1, 3))  # Output: [1, 4, 3, 2]\n"
      ],
      "metadata": {
        "colab": {
          "base_uri": "https://localhost:8080/"
        },
        "id": "Tc4d_XMbJ1SH",
        "outputId": "73213476-b763-4951-f094-913a08c3d06e"
      },
      "execution_count": 117,
      "outputs": [
        {
          "output_type": "stream",
          "name": "stdout",
          "text": [
            "[1, 4, 3, 2]\n"
          ]
        }
      ]
    },
    {
      "cell_type": "markdown",
      "source": [
        "# **Tuple Based Practice Problem :**"
      ],
      "metadata": {
        "id": "gqweoJ0XJ9F7"
      }
    },
    {
      "cell_type": "code",
      "source": [
        "# Question 1: Create a tuple with integers from 1 to 5.\n",
        "my_tuple = (1, 2, 3, 4, 5)\n",
        "\n",
        "# Output:\n",
        "print(my_tuple)  # Output: (1, 2, 3, 4, 5)\n"
      ],
      "metadata": {
        "colab": {
          "base_uri": "https://localhost:8080/"
        },
        "id": "apcEKrm3J3HG",
        "outputId": "23a0c2c0-b5d9-42af-9e78-f7c022ca19b6"
      },
      "execution_count": 118,
      "outputs": [
        {
          "output_type": "stream",
          "name": "stdout",
          "text": [
            "(1, 2, 3, 4, 5)\n"
          ]
        }
      ]
    },
    {
      "cell_type": "code",
      "source": [
        "# Question 2: Access the third element of a tuple.\n",
        "my_tuple = (1, 2, 3, 4, 5)\n",
        "third_element = my_tuple[2]\n",
        "\n",
        "# Output:\n",
        "print(third_element)  # Output: 3\n"
      ],
      "metadata": {
        "colab": {
          "base_uri": "https://localhost:8080/"
        },
        "id": "XM9L6vkLOPOF",
        "outputId": "f11eedb7-3ec9-4101-ffde-92bf36294ade"
      },
      "execution_count": 119,
      "outputs": [
        {
          "output_type": "stream",
          "name": "stdout",
          "text": [
            "3\n"
          ]
        }
      ]
    },
    {
      "cell_type": "code",
      "source": [
        "# Question 3: Find the length of a tuple without using the len() function.\n",
        "def tuple_length(t):\n",
        "    count = 0\n",
        "    for _ in t:\n",
        "        count += 1\n",
        "    return count\n",
        "\n",
        "# Output:\n",
        "print(tuple_length((1, 2, 3, 4, 5)))  # Output: 5\n"
      ],
      "metadata": {
        "colab": {
          "base_uri": "https://localhost:8080/"
        },
        "id": "_5n1LHM0OQ5e",
        "outputId": "b6d64225-679b-4b6a-d5b4-d9e72fb10aca"
      },
      "execution_count": 120,
      "outputs": [
        {
          "output_type": "stream",
          "name": "stdout",
          "text": [
            "5\n"
          ]
        }
      ]
    },
    {
      "cell_type": "code",
      "source": [
        "# Question 4: Count the occurrences of an element in a tuple.\n",
        "my_tuple = (1, 2, 2, 3, 4, 2, 5)\n",
        "element_count = my_tuple.count(2)\n",
        "\n",
        "# Output:\n",
        "print(element_count)  # Output: 3\n"
      ],
      "metadata": {
        "colab": {
          "base_uri": "https://localhost:8080/"
        },
        "id": "fg-B0mNdOSgN",
        "outputId": "edf01d5b-ce05-4462-9e52-59a660ca7202"
      },
      "execution_count": 121,
      "outputs": [
        {
          "output_type": "stream",
          "name": "stdout",
          "text": [
            "3\n"
          ]
        }
      ]
    },
    {
      "cell_type": "code",
      "source": [
        "# Question 5: Find the index of the first occurrence of an element in a tuple.\n",
        "my_tuple = (1, 2, 3, 2, 4)\n",
        "index_of_element = my_tuple.index(2)\n",
        "\n",
        "# Output:\n",
        "print(index_of_element)  # Output: 1\n"
      ],
      "metadata": {
        "colab": {
          "base_uri": "https://localhost:8080/"
        },
        "id": "rNIc_HGtOUqk",
        "outputId": "ddfb62cb-12a0-4b05-e3b5-16e15f37fb6d"
      },
      "execution_count": 122,
      "outputs": [
        {
          "output_type": "stream",
          "name": "stdout",
          "text": [
            "1\n"
          ]
        }
      ]
    },
    {
      "cell_type": "code",
      "source": [
        "# Question 6: Check if an element exists in a tuple.\n",
        "my_tuple = (1, 2, 3, 4, 5)\n",
        "exists = 3 in my_tuple\n",
        "\n",
        "# Output:\n",
        "print(exists)  # Output: True\n"
      ],
      "metadata": {
        "colab": {
          "base_uri": "https://localhost:8080/"
        },
        "id": "qJVTgOz_OW7N",
        "outputId": "cfe39961-f72a-468e-9414-97cc3629ccba"
      },
      "execution_count": 123,
      "outputs": [
        {
          "output_type": "stream",
          "name": "stdout",
          "text": [
            "True\n"
          ]
        }
      ]
    },
    {
      "cell_type": "code",
      "source": [
        "# Question 7: Convert a tuple to a list.\n",
        "my_tuple = (1, 2, 3, 4, 5)\n",
        "my_list = list(my_tuple)\n",
        "\n",
        "# Output:\n",
        "print(my_list)  # Output: [1, 2, 3, 4, 5]\n"
      ],
      "metadata": {
        "colab": {
          "base_uri": "https://localhost:8080/"
        },
        "id": "vZ_BtzqKOaKG",
        "outputId": "3127009f-e2dd-400d-cb27-40b4acca0d76"
      },
      "execution_count": 124,
      "outputs": [
        {
          "output_type": "stream",
          "name": "stdout",
          "text": [
            "[1, 2, 3, 4, 5]\n"
          ]
        }
      ]
    },
    {
      "cell_type": "code",
      "source": [
        "# Question 8: Convert a list to a tuple.\n",
        "my_list = [1, 2, 3, 4, 5]\n",
        "my_tuple = tuple(my_list)\n",
        "\n",
        "# Output:\n",
        "print(my_tuple)  # Output: (1, 2, 3, 4, 5)\n"
      ],
      "metadata": {
        "colab": {
          "base_uri": "https://localhost:8080/"
        },
        "id": "YrGlbcEdOb6q",
        "outputId": "d1b15f1a-3258-4680-a9b8-4706f9e9d9c5"
      },
      "execution_count": 125,
      "outputs": [
        {
          "output_type": "stream",
          "name": "stdout",
          "text": [
            "(1, 2, 3, 4, 5)\n"
          ]
        }
      ]
    },
    {
      "cell_type": "code",
      "source": [
        "# Question 9: Unpack the elements of a tuple into variables.\n",
        "my_tuple = (1, 2, 3)\n",
        "a, b, c = my_tuple\n",
        "\n",
        "# Output:\n",
        "print(a, b, c)  # Output: 1 2 3\n"
      ],
      "metadata": {
        "colab": {
          "base_uri": "https://localhost:8080/"
        },
        "id": "GJ4YlGTJOd-z",
        "outputId": "9e4fca03-7354-4770-8452-914335d39ffd"
      },
      "execution_count": 126,
      "outputs": [
        {
          "output_type": "stream",
          "name": "stdout",
          "text": [
            "1 2 3\n"
          ]
        }
      ]
    },
    {
      "cell_type": "code",
      "source": [
        "# Question 10: Create a tuple of even numbers from 1 to 10.\n",
        "even_tuple = (2, 4, 6, 8, 10)\n",
        "\n",
        "# Output:\n",
        "print(even_tuple)  # Output: (2, 4, 6, 8, 10)\n"
      ],
      "metadata": {
        "colab": {
          "base_uri": "https://localhost:8080/"
        },
        "id": "DlG_CWa9OfqN",
        "outputId": "9e14fa33-5516-4496-93f9-a11a5b6758b7"
      },
      "execution_count": 127,
      "outputs": [
        {
          "output_type": "stream",
          "name": "stdout",
          "text": [
            "(2, 4, 6, 8, 10)\n"
          ]
        }
      ]
    },
    {
      "cell_type": "code",
      "source": [
        "# Question 11: Create a tuple of odd numbers from 1 to 10.\n",
        "odd_tuple = (1, 3, 5, 7, 9)\n",
        "\n",
        "# Output:\n",
        "print(odd_tuple)  # Output: (1, 3, 5, 7, 9)\n"
      ],
      "metadata": {
        "colab": {
          "base_uri": "https://localhost:8080/"
        },
        "id": "lQ1zvBpoOhaV",
        "outputId": "9d66f10c-b537-47ad-9f4c-84175cfd7c72"
      },
      "execution_count": 128,
      "outputs": [
        {
          "output_type": "stream",
          "name": "stdout",
          "text": [
            "(1, 3, 5, 7, 9)\n"
          ]
        }
      ]
    },
    {
      "cell_type": "code",
      "source": [
        "# Question 12: Concatenate two tuples.\n",
        "tuple1 = (1, 2, 3)\n",
        "tuple2 = (4, 5, 6)\n",
        "concatenated_tuple = tuple1 + tuple2\n",
        "\n",
        "# Output:\n",
        "print(concatenated_tuple)  # Output: (1, 2, 3, 4, 5, 6)\n"
      ],
      "metadata": {
        "colab": {
          "base_uri": "https://localhost:8080/"
        },
        "id": "Nwo9gkEcOjKW",
        "outputId": "f2ad9fde-d9bb-47b3-d08b-d9ac7a6110f7"
      },
      "execution_count": 129,
      "outputs": [
        {
          "output_type": "stream",
          "name": "stdout",
          "text": [
            "(1, 2, 3, 4, 5, 6)\n"
          ]
        }
      ]
    },
    {
      "cell_type": "code",
      "source": [
        "# Question 13: Repeat a tuple three times.\n",
        "my_tuple = (1, 2, 3)\n",
        "repeated_tuple = my_tuple * 3\n",
        "\n",
        "# Output:\n",
        "print(repeated_tuple)  # Output: (1, 2, 3, 1, 2, 3, 1, 2, 3)\n"
      ],
      "metadata": {
        "colab": {
          "base_uri": "https://localhost:8080/"
        },
        "id": "6WnBKA0sOklt",
        "outputId": "62dadda0-6512-41ca-8273-336b4281ceac"
      },
      "execution_count": 130,
      "outputs": [
        {
          "output_type": "stream",
          "name": "stdout",
          "text": [
            "(1, 2, 3, 1, 2, 3, 1, 2, 3)\n"
          ]
        }
      ]
    },
    {
      "cell_type": "code",
      "source": [
        "# Question 14: Check if a tuple is empty.\n",
        "empty_tuple = ()\n",
        "non_empty_tuple = (1,)\n",
        "\n",
        "# Output:\n",
        "print(len(empty_tuple) == 0)  # Output: True\n",
        "print(len(non_empty_tuple) == 0)  # Output: False\n"
      ],
      "metadata": {
        "colab": {
          "base_uri": "https://localhost:8080/"
        },
        "id": "r0N0s_IJOmKj",
        "outputId": "d6d18df8-45fb-42f1-898f-b0e9c76b53a5"
      },
      "execution_count": 131,
      "outputs": [
        {
          "output_type": "stream",
          "name": "stdout",
          "text": [
            "True\n",
            "False\n"
          ]
        }
      ]
    },
    {
      "cell_type": "code",
      "source": [
        "# Question 15: Create a nested tuple.\n",
        "nested_tuple = ((1, 2), (3, 4), (5, 6))\n",
        "\n",
        "# Output:\n",
        "print(nested_tuple)  # Output: ((1, 2), (3, 4), (5, 6))\n"
      ],
      "metadata": {
        "colab": {
          "base_uri": "https://localhost:8080/"
        },
        "id": "Q-3KX1r1OseC",
        "outputId": "1cf51455-7176-4620-95cc-6c31b0a035cb"
      },
      "execution_count": 132,
      "outputs": [
        {
          "output_type": "stream",
          "name": "stdout",
          "text": [
            "((1, 2), (3, 4), (5, 6))\n"
          ]
        }
      ]
    },
    {
      "cell_type": "code",
      "source": [
        "# Question 16: Access the first element of a nested tuple.\n",
        "nested_tuple = ((1, 2), (3, 4), (5, 6))\n",
        "first_element = nested_tuple[0]\n",
        "\n",
        "# Output:\n",
        "print(first_element)  # Output: (1, 2)\n"
      ],
      "metadata": {
        "colab": {
          "base_uri": "https://localhost:8080/"
        },
        "id": "-1dfHI6HOuny",
        "outputId": "78544ef8-9df1-456f-e3fe-37b3cd7f991b"
      },
      "execution_count": 133,
      "outputs": [
        {
          "output_type": "stream",
          "name": "stdout",
          "text": [
            "(1, 2)\n"
          ]
        }
      ]
    },
    {
      "cell_type": "code",
      "source": [
        "# Question 17: Create a tuple with a single element.\n",
        "single_element_tuple = (1,)\n",
        "\n",
        "# Output:\n",
        "print(single_element_tuple)  # Output: (1,)\n"
      ],
      "metadata": {
        "colab": {
          "base_uri": "https://localhost:8080/"
        },
        "id": "CI7iBCRFOw6U",
        "outputId": "629c4c8f-1195-436c-936c-3787c5168ff1"
      },
      "execution_count": 134,
      "outputs": [
        {
          "output_type": "stream",
          "name": "stdout",
          "text": [
            "(1,)\n"
          ]
        }
      ]
    },
    {
      "cell_type": "code",
      "source": [
        "# Question 18: Compare two tuples.\n",
        "tuple1 = (1, 2, 3)\n",
        "tuple2 = (1, 2, 3)\n",
        "tuple3 = (1, 2, 4)\n",
        "\n",
        "# Output:\n",
        "print(tuple1 == tuple2)  # Output: True\n",
        "print(tuple1 == tuple3)  # Output: False\n"
      ],
      "metadata": {
        "colab": {
          "base_uri": "https://localhost:8080/"
        },
        "id": "eQi6MiyAOy4Y",
        "outputId": "5f5edd52-a8e9-43c7-ba3b-83e552e75445"
      },
      "execution_count": 135,
      "outputs": [
        {
          "output_type": "stream",
          "name": "stdout",
          "text": [
            "True\n",
            "False\n"
          ]
        }
      ]
    },
    {
      "cell_type": "code",
      "source": [
        "# Question 19: Delete a tuple.\n",
        "my_tuple = (1, 2, 3)\n",
        "del my_tuple\n",
        "\n",
        "# Output:\n",
        "# print(my_tuple)  # Uncommenting this line will raise a NameError because the tuple is deleted\n"
      ],
      "metadata": {
        "id": "t0mTaxF7O1Mx"
      },
      "execution_count": 136,
      "outputs": []
    },
    {
      "cell_type": "code",
      "source": [
        "# Question 20: Slice a tuple.\n",
        "my_tuple = (1, 2, 3, 4, 5)\n",
        "sliced_tuple = my_tuple[1:4]\n",
        "\n",
        "# Output:\n",
        "print(sliced_tuple)  # Output: (2, 3, 4)\n"
      ],
      "metadata": {
        "colab": {
          "base_uri": "https://localhost:8080/"
        },
        "id": "Lql9Px3tO3Cs",
        "outputId": "8bd44382-f2a7-4265-804c-369c6b66fcd9"
      },
      "execution_count": 137,
      "outputs": [
        {
          "output_type": "stream",
          "name": "stdout",
          "text": [
            "(2, 3, 4)\n"
          ]
        }
      ]
    },
    {
      "cell_type": "code",
      "source": [
        "# Question 21: Find the maximum value in a tuple.\n",
        "my_tuple = (1, 2, 3, 4, 5)\n",
        "max_value = max(my_tuple)\n",
        "\n",
        "# Output:\n",
        "print(max_value)  # Output: 5\n"
      ],
      "metadata": {
        "colab": {
          "base_uri": "https://localhost:8080/"
        },
        "id": "0R-vad8SO6C5",
        "outputId": "7741c026-54d2-4db8-bc1c-61388e999702"
      },
      "execution_count": 138,
      "outputs": [
        {
          "output_type": "stream",
          "name": "stdout",
          "text": [
            "5\n"
          ]
        }
      ]
    },
    {
      "cell_type": "code",
      "source": [
        "# Question 22: Find the minimum value in a tuple.\n",
        "my_tuple = (1, 2, 3, 4, 5)\n",
        "min_value = min(my_tuple)\n",
        "\n",
        "# Output:\n",
        "print(min_value)  # Output: 1\n"
      ],
      "metadata": {
        "colab": {
          "base_uri": "https://localhost:8080/"
        },
        "id": "Zvvm_2N1PPaT",
        "outputId": "b58d1bb6-2701-48f7-d9ea-1e0c9e908451"
      },
      "execution_count": 139,
      "outputs": [
        {
          "output_type": "stream",
          "name": "stdout",
          "text": [
            "1\n"
          ]
        }
      ]
    },
    {
      "cell_type": "code",
      "source": [
        "# Question 23: Convert a string to a tuple of characters.\n",
        "my_string = \"hello\"\n",
        "char_tuple = tuple(my_string)\n",
        "\n",
        "# Output:\n",
        "print(char_tuple)  # Output: ('h', 'e', 'l', 'l', 'o')\n"
      ],
      "metadata": {
        "colab": {
          "base_uri": "https://localhost:8080/"
        },
        "id": "n5VwAn1tPRkI",
        "outputId": "eed82a8a-9e6e-4de2-a89b-8345290243ad"
      },
      "execution_count": 140,
      "outputs": [
        {
          "output_type": "stream",
          "name": "stdout",
          "text": [
            "('h', 'e', 'l', 'l', 'o')\n"
          ]
        }
      ]
    },
    {
      "cell_type": "code",
      "source": [
        "# Question 24: Convert a tuple of characters to a string.\n",
        "char_tuple = ('h', 'e', 'l', 'l', 'o')\n",
        "my_string = ''.join(char_tuple)\n",
        "\n",
        "# Output:\n",
        "print(my_string)  # Output: \"hello\"\n"
      ],
      "metadata": {
        "colab": {
          "base_uri": "https://localhost:8080/"
        },
        "id": "tzrTaPklPTQa",
        "outputId": "a27942ff-fe59-4aa6-9b18-9ac5850db11a"
      },
      "execution_count": 141,
      "outputs": [
        {
          "output_type": "stream",
          "name": "stdout",
          "text": [
            "hello\n"
          ]
        }
      ]
    },
    {
      "cell_type": "code",
      "source": [
        "# Question 25: Create a tuple from multiple data types.\n",
        "mixed_tuple = (1, \"hello\", 3.14, True)\n",
        "\n",
        "# Output:\n",
        "print(mixed_tuple)  # Output: (1, 'hello', 3.14, True)\n"
      ],
      "metadata": {
        "colab": {
          "base_uri": "https://localhost:8080/"
        },
        "id": "11F3PIMaPVnK",
        "outputId": "b023d310-032c-45e5-8272-7b6b4476abef"
      },
      "execution_count": 142,
      "outputs": [
        {
          "output_type": "stream",
          "name": "stdout",
          "text": [
            "(1, 'hello', 3.14, True)\n"
          ]
        }
      ]
    },
    {
      "cell_type": "code",
      "source": [
        "# Question 26: Check if two tuples are identical.\n",
        "tuple1 = (1, 2, 3)\n",
        "tuple2 = (1, 2, 3)\n",
        "tuple3 = (1, 2, 4)\n",
        "\n",
        "# Output:\n",
        "print(tuple1 == tuple2)  # Output: True\n",
        "print(tuple1 == tuple3)  # Output: False\n"
      ],
      "metadata": {
        "colab": {
          "base_uri": "https://localhost:8080/"
        },
        "id": "Eb0gssvYPXos",
        "outputId": "c04b673e-5a29-4a76-c7cc-dc9e0c78aab7"
      },
      "execution_count": 143,
      "outputs": [
        {
          "output_type": "stream",
          "name": "stdout",
          "text": [
            "True\n",
            "False\n"
          ]
        }
      ]
    },
    {
      "cell_type": "code",
      "source": [
        "# Question 27: Sort the elements of a tuple.\n",
        "my_tuple = (5, 2, 3, 1, 4)\n",
        "sorted_tuple = tuple(sorted(my_tuple))\n",
        "\n",
        "# Output:\n",
        "print(sorted_tuple)  # Output: (1, 2, 3, 4, 5)\n"
      ],
      "metadata": {
        "colab": {
          "base_uri": "https://localhost:8080/"
        },
        "id": "QOItvdDbPZ-w",
        "outputId": "83ee5195-9555-440d-cfcc-94e9f9fb66c8"
      },
      "execution_count": 144,
      "outputs": [
        {
          "output_type": "stream",
          "name": "stdout",
          "text": [
            "(1, 2, 3, 4, 5)\n"
          ]
        }
      ]
    },
    {
      "cell_type": "code",
      "source": [
        "# Question 28: Convert a tuple of integers to a tuple of strings.\n",
        "int_tuple = (1, 2, 3, 4, 5)\n",
        "str_tuple = tuple(map(str, int_tuple))\n",
        "\n",
        "# Output:\n",
        "print(str_tuple)  # Output: ('1', '2', '3', '4', '5')\n"
      ],
      "metadata": {
        "colab": {
          "base_uri": "https://localhost:8080/"
        },
        "id": "GmlNETX-Pdee",
        "outputId": "d75e03e7-6333-4174-fb13-ba504fc5ae56"
      },
      "execution_count": 145,
      "outputs": [
        {
          "output_type": "stream",
          "name": "stdout",
          "text": [
            "('1', '2', '3', '4', '5')\n"
          ]
        }
      ]
    },
    {
      "cell_type": "code",
      "source": [
        "# Question 29: Convert a tuple of strings to a tuple of integers.\n",
        "str_tuple = ('1', '2', '3', '4', '5')\n",
        "int_tuple = tuple(map(int, str_tuple))\n",
        "\n",
        "# Output:\n",
        "print(int_tuple)  # Output: (1, 2, 3, 4, 5)\n"
      ],
      "metadata": {
        "colab": {
          "base_uri": "https://localhost:8080/"
        },
        "id": "6KrNRMzzPfqW",
        "outputId": "d1763d7c-0fb2-41b2-e938-d38226da1e0b"
      },
      "execution_count": 146,
      "outputs": [
        {
          "output_type": "stream",
          "name": "stdout",
          "text": [
            "(1, 2, 3, 4, 5)\n"
          ]
        }
      ]
    },
    {
      "cell_type": "code",
      "source": [
        "# Question 30: Merge two tuples.\n",
        "tuple1 = (1, 2, 3)\n",
        "tuple2 = (4, 5, 6)\n",
        "merged_tuple = tuple1 + tuple2\n",
        "\n",
        "# Output:\n",
        "print(merged_tuple)  # Output: (1, 2, 3, 4, 5, 6)\n"
      ],
      "metadata": {
        "colab": {
          "base_uri": "https://localhost:8080/"
        },
        "id": "h3WgPyMCPiXN",
        "outputId": "8e3fdc1b-62a6-4ee1-bea8-f384cf95e7fc"
      },
      "execution_count": 147,
      "outputs": [
        {
          "output_type": "stream",
          "name": "stdout",
          "text": [
            "(1, 2, 3, 4, 5, 6)\n"
          ]
        }
      ]
    },
    {
      "cell_type": "code",
      "source": [
        "# Question 31: Flatten a nested tuple.\n",
        "def flatten_tuple(t):\n",
        "    result = []\n",
        "    for item in t:\n",
        "        if isinstance(item, tuple):\n",
        "            result.extend(flatten_tuple(item))\n",
        "        else:\n",
        "            result.append(item)\n",
        "    return tuple(result)\n",
        "\n",
        "nested_tuple = ((1, 2), (3, (4, 5)), 6)\n",
        "flattened_tuple = flatten_tuple(nested_tuple)\n",
        "\n",
        "# Output:\n",
        "print(flattened_tuple)  # Output: (1, 2, 3, 4, 5, 6)\n"
      ],
      "metadata": {
        "colab": {
          "base_uri": "https://localhost:8080/"
        },
        "id": "LWHLj_IlPl0C",
        "outputId": "ca993298-f9ab-43c7-cd95-1a893b5684fc"
      },
      "execution_count": 148,
      "outputs": [
        {
          "output_type": "stream",
          "name": "stdout",
          "text": [
            "(1, 2, 3, 4, 5, 6)\n"
          ]
        }
      ]
    },
    {
      "cell_type": "code",
      "source": [
        "# Question 32: Create a tuple of the first 5 prime numbers.\n",
        "def first_n_primes(n):\n",
        "    primes = []\n",
        "    num = 2\n",
        "    while len(primes) < n:\n",
        "        for i in range(2, int(num ** 0.5) + 1):\n",
        "            if num % i == 0:\n",
        "                break\n",
        "        else:\n",
        "            primes.append(num)\n",
        "        num += 1\n",
        "    return tuple(primes)\n",
        "\n",
        "prime_tuple = first_n_primes(5)\n",
        "\n",
        "# Output:\n",
        "print(prime_tuple)  # Output: (2, 3, 5, 7, 11)\n"
      ],
      "metadata": {
        "colab": {
          "base_uri": "https://localhost:8080/"
        },
        "id": "BtlD59WqPnta",
        "outputId": "06b3c378-8016-47fc-83c5-933dd975c9bc"
      },
      "execution_count": 149,
      "outputs": [
        {
          "output_type": "stream",
          "name": "stdout",
          "text": [
            "(2, 3, 5, 7, 11)\n"
          ]
        }
      ]
    },
    {
      "cell_type": "code",
      "source": [
        "# Question 33: Check if a tuple is a palindrome.\n",
        "def is_palindrome(t):\n",
        "    return t == t[::-1]\n",
        "\n",
        "# Output:\n",
        "print(is_palindrome((1, 2, 3, 2, 1)))  # Output: True\n",
        "print(is_palindrome((1, 2, 3, 4, 5)))  # Output: False\n"
      ],
      "metadata": {
        "colab": {
          "base_uri": "https://localhost:8080/"
        },
        "id": "88puRtd_Pqsi",
        "outputId": "34a2568a-e8a2-476d-df04-0fe1b2d37e1f"
      },
      "execution_count": 150,
      "outputs": [
        {
          "output_type": "stream",
          "name": "stdout",
          "text": [
            "True\n",
            "False\n"
          ]
        }
      ]
    },
    {
      "cell_type": "code",
      "source": [
        "# Question 34: Create a tuple of squares of numbers from 1 to 5.\n",
        "squares_tuple = tuple(x ** 2 for x in range(1, 6))\n",
        "\n",
        "# Output:\n",
        "print(squares_tuple)  # Output: (1, 4, 9, 16, 25)\n"
      ],
      "metadata": {
        "colab": {
          "base_uri": "https://localhost:8080/"
        },
        "id": "JMEE22GBPtbQ",
        "outputId": "9e5ace4e-5445-4c19-d335-c7a7b42d6e64"
      },
      "execution_count": 151,
      "outputs": [
        {
          "output_type": "stream",
          "name": "stdout",
          "text": [
            "(1, 4, 9, 16, 25)\n"
          ]
        }
      ]
    },
    {
      "cell_type": "code",
      "source": [
        "# Question 35: Filter out all even numbers from a tuple.\n",
        "def filter_even(t):\n",
        "    return tuple(x for x in t if x % 2 != 0)\n",
        "\n",
        "my_tuple = (1, 2, 3, 4, 5)\n",
        "filtered_tuple = filter_even(my_tuple)\n",
        "\n",
        "# Output:\n",
        "print(filtered_tuple)  # Output: (1, 3, 5)\n"
      ],
      "metadata": {
        "colab": {
          "base_uri": "https://localhost:8080/"
        },
        "id": "MpvHoCGcPyxk",
        "outputId": "fddb3a4d-8475-49a8-abe4-e916374b5005"
      },
      "execution_count": 152,
      "outputs": [
        {
          "output_type": "stream",
          "name": "stdout",
          "text": [
            "(1, 3, 5)\n"
          ]
        }
      ]
    },
    {
      "cell_type": "code",
      "source": [
        "# Question 36: Multiply all elements in a tuple by 2.\n",
        "def multiply_by_two(t):\n",
        "    return tuple(x * 2 for x in t)\n",
        "\n",
        "my_tuple = (1, 2, 3, 4, 5)\n",
        "multiplied_tuple = multiply_by_two(my_tuple)\n",
        "\n",
        "# Output:\n",
        "print(multiplied_tuple)  # Output: (2, 4, 6, 8, 10)\n"
      ],
      "metadata": {
        "colab": {
          "base_uri": "https://localhost:8080/"
        },
        "id": "ZZjRLB3gP0vZ",
        "outputId": "25901733-20da-4d36-a7da-cc21ae84438f"
      },
      "execution_count": 153,
      "outputs": [
        {
          "output_type": "stream",
          "name": "stdout",
          "text": [
            "(2, 4, 6, 8, 10)\n"
          ]
        }
      ]
    },
    {
      "cell_type": "code",
      "source": [
        "# Question 37: Create a tuple of random numbers.\n",
        "import random\n",
        "\n",
        "# Create a tuple of 5 random numbers between 1 and 100\n",
        "random_tuple = tuple(random.randint(1, 100) for _ in range(5))\n",
        "\n",
        "# Output:\n",
        "print(random_tuple)  # Output: e.g., (34, 67, 23, 89, 45)\n"
      ],
      "metadata": {
        "colab": {
          "base_uri": "https://localhost:8080/"
        },
        "id": "eFnXqExFQYY-",
        "outputId": "8e87af49-eccc-4012-a07a-faee34a86a7f"
      },
      "execution_count": 154,
      "outputs": [
        {
          "output_type": "stream",
          "name": "stdout",
          "text": [
            "(53, 68, 87, 35, 10)\n"
          ]
        }
      ]
    },
    {
      "cell_type": "code",
      "source": [
        "# Question 38: Check if a tuple is sorted.\n",
        "def is_sorted(t):\n",
        "    return t == tuple(sorted(t))\n",
        "\n",
        "# Output:\n",
        "print(is_sorted((1, 2, 3, 4, 5)))  # Output: True\n",
        "print(is_sorted((5, 3, 1, 4, 2)))  # Output: False\n"
      ],
      "metadata": {
        "colab": {
          "base_uri": "https://localhost:8080/"
        },
        "id": "LD_HdmVcR3yj",
        "outputId": "3b89f240-aa3f-465c-e558-3eb5f8f5806a"
      },
      "execution_count": 155,
      "outputs": [
        {
          "output_type": "stream",
          "name": "stdout",
          "text": [
            "True\n",
            "False\n"
          ]
        }
      ]
    },
    {
      "cell_type": "code",
      "source": [
        "# Question 39: Rotate a tuple to the left by n positions.\n",
        "def rotate_left(t, n):\n",
        "    n = n % len(t)  # Handle rotation greater than tuple length\n",
        "    return t[n:] + t[:n]\n",
        "\n",
        "# Output:\n",
        "print(rotate_left((1, 2, 3, 4, 5), 2))  # Output: (3, 4, 5, 1, 2)\n"
      ],
      "metadata": {
        "colab": {
          "base_uri": "https://localhost:8080/"
        },
        "id": "gRr17lshR5sF",
        "outputId": "c21cd959-8670-4f3d-fb97-f6085e63ec80"
      },
      "execution_count": 156,
      "outputs": [
        {
          "output_type": "stream",
          "name": "stdout",
          "text": [
            "(3, 4, 5, 1, 2)\n"
          ]
        }
      ]
    },
    {
      "cell_type": "code",
      "source": [
        "# Question 40: Rotate a tuple to the right by n positions.\n",
        "def rotate_right(t, n):\n",
        "    n = n % len(t)  # Handle rotation greater than tuple length\n",
        "    return t[-n:] + t[:-n]\n",
        "\n",
        "# Output:\n",
        "print(rotate_right((1, 2, 3, 4, 5), 2))  # Output: (4, 5, 1, 2, 3)\n"
      ],
      "metadata": {
        "colab": {
          "base_uri": "https://localhost:8080/"
        },
        "id": "Kc2qWg9iR7Tl",
        "outputId": "8a9bd8d6-0a42-479e-87d3-47f177007d40"
      },
      "execution_count": 157,
      "outputs": [
        {
          "output_type": "stream",
          "name": "stdout",
          "text": [
            "(4, 5, 1, 2, 3)\n"
          ]
        }
      ]
    },
    {
      "cell_type": "code",
      "source": [
        "# Question 41: Create a tuple of the first 5 Fibonacci numbers.\n",
        "def fibonacci(n):\n",
        "    a, b = 0, 1\n",
        "    result = []\n",
        "    for _ in range(n):\n",
        "        result.append(a)\n",
        "        a, b = b, a + b\n",
        "    return tuple(result)\n",
        "\n",
        "fibonacci_tuple = fibonacci(5)\n",
        "\n",
        "# Output:\n",
        "print(fibonacci_tuple)  # Output: (0, 1, 1, 2, 3)\n"
      ],
      "metadata": {
        "colab": {
          "base_uri": "https://localhost:8080/"
        },
        "id": "dMJXPO-cSDEm",
        "outputId": "5504fb60-aca9-4e77-ca53-642d43200f2e"
      },
      "execution_count": 158,
      "outputs": [
        {
          "output_type": "stream",
          "name": "stdout",
          "text": [
            "(0, 1, 1, 2, 3)\n"
          ]
        }
      ]
    },
    {
      "cell_type": "code",
      "source": [
        "# Question 42: Create a tuple from user input.\n",
        "user_input = input(\"Enter values separated by commas: \")\n",
        "user_tuple = tuple(user_input.split(','))\n",
        "\n",
        "# Output:\n",
        "print(user_tuple)  # Output: e.g., ('apple', 'banana', 'cherry')\n"
      ],
      "metadata": {
        "colab": {
          "base_uri": "https://localhost:8080/"
        },
        "id": "JnI5cna2SE4E",
        "outputId": "ab46d0d9-3712-47af-8f15-d5840a2a9d74"
      },
      "execution_count": 159,
      "outputs": [
        {
          "output_type": "stream",
          "name": "stdout",
          "text": [
            "Enter values separated by commas: apple\n",
            "('apple',)\n"
          ]
        }
      ]
    },
    {
      "cell_type": "code",
      "source": [
        "# Question 43: Swap two elements in a tuple.\n",
        "def swap_elements(t, index1, index2):\n",
        "    t_list = list(t)\n",
        "    t_list[index1], t_list[index2] = t_list[index2], t_list[index1]\n",
        "    return tuple(t_list)\n",
        "\n",
        "# Output:\n",
        "print(swap_elements((1, 2, 3, 4), 0, 2))  # Output: (3, 2, 1, 4)\n"
      ],
      "metadata": {
        "colab": {
          "base_uri": "https://localhost:8080/"
        },
        "id": "MyhVKXbqSKJ6",
        "outputId": "8a22179f-1971-4bb1-98d3-8bf277cf62b7"
      },
      "execution_count": 160,
      "outputs": [
        {
          "output_type": "stream",
          "name": "stdout",
          "text": [
            "(3, 2, 1, 4)\n"
          ]
        }
      ]
    },
    {
      "cell_type": "code",
      "source": [
        "# Question 44: Reverse the elements of a tuple.\n",
        "my_tuple = (1, 2, 3, 4, 5)\n",
        "reversed_tuple = my_tuple[::-1]\n",
        "\n",
        "# Output:\n",
        "print(reversed_tuple)  # Output: (5, 4, 3, 2, 1)\n"
      ],
      "metadata": {
        "colab": {
          "base_uri": "https://localhost:8080/"
        },
        "id": "_HrzVAj4SW3p",
        "outputId": "134d1d55-d517-4752-df29-3582c0731fab"
      },
      "execution_count": 161,
      "outputs": [
        {
          "output_type": "stream",
          "name": "stdout",
          "text": [
            "(5, 4, 3, 2, 1)\n"
          ]
        }
      ]
    },
    {
      "cell_type": "code",
      "source": [
        "# Question 45: Create a tuple of the first n powers of 2.\n",
        "def powers_of_two(n):\n",
        "    return tuple(2 ** i for i in range(n))\n",
        "\n",
        "# Output:\n",
        "print(powers_of_two(5))  # Output: (1, 2, 4, 8, 16)\n"
      ],
      "metadata": {
        "colab": {
          "base_uri": "https://localhost:8080/"
        },
        "id": "r2ODJ_GzSY9O",
        "outputId": "d1394a33-126c-4cf5-a07f-ecfe3c1714d0"
      },
      "execution_count": 162,
      "outputs": [
        {
          "output_type": "stream",
          "name": "stdout",
          "text": [
            "(1, 2, 4, 8, 16)\n"
          ]
        }
      ]
    },
    {
      "cell_type": "code",
      "source": [
        "# Question 46: Find the longest string in a tuple of strings.\n",
        "string_tuple = ('apple', 'banana', 'cherry', 'date')\n",
        "longest_string = max(string_tuple, key=len)\n",
        "\n",
        "# Output:\n",
        "print(longest_string)  # Output: 'banana'\n"
      ],
      "metadata": {
        "colab": {
          "base_uri": "https://localhost:8080/"
        },
        "id": "fpQ8Q5KbSbDA",
        "outputId": "13ee2298-263d-4cfe-e037-3966fd9f6714"
      },
      "execution_count": 163,
      "outputs": [
        {
          "output_type": "stream",
          "name": "stdout",
          "text": [
            "banana\n"
          ]
        }
      ]
    },
    {
      "cell_type": "code",
      "source": [
        "# Question 47: Find the shortest string in a tuple of strings.\n",
        "string_tuple = ('apple', 'banana', 'cherry', 'date')\n",
        "shortest_string = min(string_tuple, key=len)\n",
        "\n",
        "# Output:\n",
        "print(shortest_string)  # Output: 'date'\n"
      ],
      "metadata": {
        "colab": {
          "base_uri": "https://localhost:8080/"
        },
        "id": "yxUw_RynSc-E",
        "outputId": "8bc6031b-0d46-4d1b-950c-ebd6dc41c0eb"
      },
      "execution_count": 164,
      "outputs": [
        {
          "output_type": "stream",
          "name": "stdout",
          "text": [
            "date\n"
          ]
        }
      ]
    },
    {
      "cell_type": "code",
      "source": [
        "# Question 48: Create a tuple of the first n triangular numbers.\n",
        "def triangular_numbers(n):\n",
        "    return tuple(sum(range(1, i + 1)) for i in range(1, n + 1))\n",
        "\n",
        "# Output:\n",
        "print(triangular_numbers(5))  # Output: (1, 3, 6, 10, 15)\n"
      ],
      "metadata": {
        "colab": {
          "base_uri": "https://localhost:8080/"
        },
        "id": "cDXXjtceSevG",
        "outputId": "caed19d1-37c1-4630-c787-7020dc39d912"
      },
      "execution_count": 165,
      "outputs": [
        {
          "output_type": "stream",
          "name": "stdout",
          "text": [
            "(1, 3, 6, 10, 15)\n"
          ]
        }
      ]
    },
    {
      "cell_type": "code",
      "source": [
        "# Question 49: Check if a tuple contains another tuple as a subsequence.\n",
        "def contains_subsequence(t, sub):\n",
        "    sub_len = len(sub)\n",
        "    for i in range(len(t) - sub_len + 1):\n",
        "        if t[i:i + sub_len] == sub:\n",
        "            return True\n",
        "    return False\n",
        "\n",
        "# Output:\n",
        "print(contains_subsequence((1, 2, 3, 4, 5), (2, 3)))  # Output: True\n",
        "print(contains_subsequence((1, 2, 3, 4, 5), (2, 4)))  # Output: False\n"
      ],
      "metadata": {
        "colab": {
          "base_uri": "https://localhost:8080/"
        },
        "id": "-4XiHygTSgfZ",
        "outputId": "8e24d02c-e2cd-4a42-d8b4-03e0de7e8174"
      },
      "execution_count": 166,
      "outputs": [
        {
          "output_type": "stream",
          "name": "stdout",
          "text": [
            "True\n",
            "False\n"
          ]
        }
      ]
    },
    {
      "cell_type": "code",
      "source": [
        "# Question 50: Create a tuple of alternating 1s and 0s of length n.\n",
        "def alternating_tuple(n):\n",
        "    return tuple(i % 2 for i in range(n))\n",
        "\n",
        "# Output:\n",
        "print(alternating_tuple(6))  # Output: (0, 1, 0, 1, 0, 1)\n"
      ],
      "metadata": {
        "colab": {
          "base_uri": "https://localhost:8080/"
        },
        "id": "m-8ejGBSSiLz",
        "outputId": "ccd6fe54-e891-4e22-9db0-7fe2b9ba218e"
      },
      "execution_count": 167,
      "outputs": [
        {
          "output_type": "stream",
          "name": "stdout",
          "text": [
            "(0, 1, 0, 1, 0, 1)\n"
          ]
        }
      ]
    },
    {
      "cell_type": "markdown",
      "source": [
        "# **Set Based Practice Problem :**"
      ],
      "metadata": {
        "id": "cbWdWp_BSuBo"
      }
    },
    {
      "cell_type": "code",
      "source": [
        "# Question 1: Create a set with integers from 1 to 5.\n",
        "my_set = {1, 2, 3, 4, 5}\n",
        "\n",
        "# Output:\n",
        "print(my_set)  # Output: {1, 2, 3, 4, 5}\n"
      ],
      "metadata": {
        "colab": {
          "base_uri": "https://localhost:8080/"
        },
        "id": "MpmupeS8SkUG",
        "outputId": "43b4147f-a90c-4e71-e6e5-17a810d22726"
      },
      "execution_count": 168,
      "outputs": [
        {
          "output_type": "stream",
          "name": "stdout",
          "text": [
            "{1, 2, 3, 4, 5}\n"
          ]
        }
      ]
    },
    {
      "cell_type": "code",
      "source": [
        "# Question 2: Add an element to a set.\n",
        "my_set = {1, 2, 3}\n",
        "my_set.add(4)\n",
        "\n",
        "# Output:\n",
        "print(my_set)  # Output: {1, 2, 3, 4}\n"
      ],
      "metadata": {
        "colab": {
          "base_uri": "https://localhost:8080/"
        },
        "id": "GAzJb6lETTqK",
        "outputId": "96a2e50c-d4f4-45d7-f01b-6f489aa57172"
      },
      "execution_count": 169,
      "outputs": [
        {
          "output_type": "stream",
          "name": "stdout",
          "text": [
            "{1, 2, 3, 4}\n"
          ]
        }
      ]
    },
    {
      "cell_type": "code",
      "source": [
        "# Question 3: Remove an element from a set.\n",
        "my_set = {1, 2, 3, 4}\n",
        "my_set.remove(2)\n",
        "\n",
        "# Output:\n",
        "print(my_set)  # Output: {1, 3, 4}\n"
      ],
      "metadata": {
        "colab": {
          "base_uri": "https://localhost:8080/"
        },
        "id": "GZjYgrdzTVs6",
        "outputId": "6ef08a69-9d01-45c7-86ab-f132891eb9c8"
      },
      "execution_count": 170,
      "outputs": [
        {
          "output_type": "stream",
          "name": "stdout",
          "text": [
            "{1, 3, 4}\n"
          ]
        }
      ]
    },
    {
      "cell_type": "code",
      "source": [
        "# Question 4: Check if an element exists in a set.\n",
        "my_set = {1, 2, 3, 4}\n",
        "exists = 3 in my_set\n",
        "\n",
        "# Output:\n",
        "print(exists)  # Output: True\n"
      ],
      "metadata": {
        "colab": {
          "base_uri": "https://localhost:8080/"
        },
        "id": "TP7XtJG5Ua_U",
        "outputId": "7eedc736-431e-4976-eb04-9e39c3556775"
      },
      "execution_count": 171,
      "outputs": [
        {
          "output_type": "stream",
          "name": "stdout",
          "text": [
            "True\n"
          ]
        }
      ]
    },
    {
      "cell_type": "code",
      "source": [
        "# Question 5: Find the length of a set without using the len() function.\n",
        "def set_length(s):\n",
        "    count = 0\n",
        "    for _ in s:\n",
        "        count += 1\n",
        "    return count\n",
        "\n",
        "my_set = {1, 2, 3, 4}\n",
        "length = set_length(my_set)\n",
        "\n",
        "# Output:\n",
        "print(length)  # Output: 4\n"
      ],
      "metadata": {
        "colab": {
          "base_uri": "https://localhost:8080/"
        },
        "id": "g9h2VQwsUdeG",
        "outputId": "11e7f4c3-e7c2-4136-90d2-944d1bcfab03"
      },
      "execution_count": 172,
      "outputs": [
        {
          "output_type": "stream",
          "name": "stdout",
          "text": [
            "4\n"
          ]
        }
      ]
    },
    {
      "cell_type": "code",
      "source": [
        "# Question 6: Clear all elements from a set.\n",
        "my_set = {1, 2, 3, 4}\n",
        "my_set.clear()\n",
        "\n",
        "# Output:\n",
        "print(my_set)  # Output: set()\n"
      ],
      "metadata": {
        "colab": {
          "base_uri": "https://localhost:8080/"
        },
        "id": "Dtpudxl2UprJ",
        "outputId": "21f5d869-5384-48d7-e103-2c5da90d8e28"
      },
      "execution_count": 173,
      "outputs": [
        {
          "output_type": "stream",
          "name": "stdout",
          "text": [
            "set()\n"
          ]
        }
      ]
    },
    {
      "cell_type": "code",
      "source": [
        "# Question 7: Create a set of even numbers from 1 to 10.\n",
        "even_set = {x for x in range(1, 11) if x % 2 == 0}\n",
        "\n",
        "# Output:\n",
        "print(even_set)  # Output: {2, 4, 6, 8, 10}\n"
      ],
      "metadata": {
        "colab": {
          "base_uri": "https://localhost:8080/"
        },
        "id": "EYv2bVXiUvQO",
        "outputId": "c41637f0-e70d-4380-ebea-fa3e8fee8ab0"
      },
      "execution_count": 174,
      "outputs": [
        {
          "output_type": "stream",
          "name": "stdout",
          "text": [
            "{2, 4, 6, 8, 10}\n"
          ]
        }
      ]
    },
    {
      "cell_type": "code",
      "source": [
        "# Question 8: Create a set of odd numbers from 1 to 10.\n",
        "odd_set = {x for x in range(1, 11) if x % 2 != 0}\n",
        "\n",
        "# Output:\n",
        "print(odd_set)  # Output: {1, 3, 5, 7, 9}\n"
      ],
      "metadata": {
        "colab": {
          "base_uri": "https://localhost:8080/"
        },
        "id": "CRPvbpI2UzsY",
        "outputId": "21081919-6dd1-43bd-e960-0f3ad1594738"
      },
      "execution_count": 175,
      "outputs": [
        {
          "output_type": "stream",
          "name": "stdout",
          "text": [
            "{1, 3, 5, 7, 9}\n"
          ]
        }
      ]
    },
    {
      "cell_type": "code",
      "source": [
        "# Question 9: Find the union of two sets.\n",
        "set1 = {1, 2, 3}\n",
        "set2 = {3, 4, 5}\n",
        "union_set = set1.union(set2)\n",
        "\n",
        "# Output:\n",
        "print(union_set)  # Output: {1, 2, 3, 4, 5}\n"
      ],
      "metadata": {
        "colab": {
          "base_uri": "https://localhost:8080/"
        },
        "id": "tfi7lzUxU3PI",
        "outputId": "d5680e52-9c0b-4c3d-bcc4-10406864c7e9"
      },
      "execution_count": 176,
      "outputs": [
        {
          "output_type": "stream",
          "name": "stdout",
          "text": [
            "{1, 2, 3, 4, 5}\n"
          ]
        }
      ]
    },
    {
      "cell_type": "code",
      "source": [
        "# Question 10: Find the intersection of two sets.\n",
        "set1 = {1, 2, 3}\n",
        "set2 = {3, 4, 5}\n",
        "intersection_set = set1.intersection(set2)\n",
        "\n",
        "# Output:\n",
        "print(intersection_set)  # Output: {3}\n"
      ],
      "metadata": {
        "colab": {
          "base_uri": "https://localhost:8080/"
        },
        "id": "O6P2M0X7U5Xz",
        "outputId": "dcec5124-b6a4-4b98-d3d2-8210d85f41f3"
      },
      "execution_count": 177,
      "outputs": [
        {
          "output_type": "stream",
          "name": "stdout",
          "text": [
            "{3}\n"
          ]
        }
      ]
    },
    {
      "cell_type": "code",
      "source": [
        "# Question 11: Find the difference between two sets.\n",
        "set1 = {1, 2, 3}\n",
        "set2 = {3, 4, 5}\n",
        "difference_set = set1.difference(set2)\n",
        "\n",
        "# Output:\n",
        "print(difference_set)  # Output: {1, 2}\n"
      ],
      "metadata": {
        "colab": {
          "base_uri": "https://localhost:8080/"
        },
        "id": "0MAYx2taU7a8",
        "outputId": "2d1c7c9a-91b9-4095-9d41-9c16e5f8d812"
      },
      "execution_count": 178,
      "outputs": [
        {
          "output_type": "stream",
          "name": "stdout",
          "text": [
            "{1, 2}\n"
          ]
        }
      ]
    },
    {
      "cell_type": "code",
      "source": [
        "# Question 12: Check if a set is a subset of another set.\n",
        "set1 = {1, 2}\n",
        "set2 = {1, 2, 3}\n",
        "is_subset = set1.issubset(set2)\n",
        "\n",
        "# Output:\n",
        "print(is_subset)  # Output: True\n"
      ],
      "metadata": {
        "colab": {
          "base_uri": "https://localhost:8080/"
        },
        "id": "0YRY36EwU_7i",
        "outputId": "c97fab91-10b0-4c28-8ac5-94008274b8bd"
      },
      "execution_count": 179,
      "outputs": [
        {
          "output_type": "stream",
          "name": "stdout",
          "text": [
            "True\n"
          ]
        }
      ]
    },
    {
      "cell_type": "code",
      "source": [
        "# Question 13: Check if a set is a superset of another set.\n",
        "set1 = {1, 2, 3}\n",
        "set2 = {1, 2}\n",
        "is_superset = set1.issuperset(set2)\n",
        "\n",
        "# Output:\n",
        "print(is_superset)  # Output: True\n"
      ],
      "metadata": {
        "colab": {
          "base_uri": "https://localhost:8080/"
        },
        "id": "7UwjPx97VDEA",
        "outputId": "8f0687f4-ddfe-48a8-efca-e1fb4cd0990f"
      },
      "execution_count": 180,
      "outputs": [
        {
          "output_type": "stream",
          "name": "stdout",
          "text": [
            "True\n"
          ]
        }
      ]
    },
    {
      "cell_type": "code",
      "source": [
        "# Question 14: Create a set from a list.\n",
        "my_list = [1, 2, 2, 3, 4, 4]\n",
        "my_set = set(my_list)\n",
        "\n",
        "# Output:\n",
        "print(my_set)  # Output: {1, 2, 3, 4}\n"
      ],
      "metadata": {
        "colab": {
          "base_uri": "https://localhost:8080/"
        },
        "id": "hVUBunRQVFH8",
        "outputId": "ee2600ca-140d-4687-80bc-3eb0e5cc9260"
      },
      "execution_count": 181,
      "outputs": [
        {
          "output_type": "stream",
          "name": "stdout",
          "text": [
            "{1, 2, 3, 4}\n"
          ]
        }
      ]
    },
    {
      "cell_type": "code",
      "source": [
        "# Question 15: Convert a set to a list.\n",
        "my_set = {1, 2, 3, 4}\n",
        "my_list = list(my_set)\n",
        "\n",
        "# Output:\n",
        "print(my_list)  # Output: [1, 2, 3, 4]\n"
      ],
      "metadata": {
        "colab": {
          "base_uri": "https://localhost:8080/"
        },
        "id": "vWjtrZ_KVMjQ",
        "outputId": "78c6b0a1-e49d-4a8d-e34d-940ea48e7d92"
      },
      "execution_count": 182,
      "outputs": [
        {
          "output_type": "stream",
          "name": "stdout",
          "text": [
            "[1, 2, 3, 4]\n"
          ]
        }
      ]
    },
    {
      "cell_type": "code",
      "source": [
        "# Question 16: Remove a random element from a set.\n",
        "import random\n",
        "\n",
        "my_set = {1, 2, 3, 4, 5}\n",
        "if my_set:\n",
        "    random_element = random.choice(tuple(my_set))\n",
        "    my_set.remove(random_element)\n",
        "\n",
        "# Output:\n",
        "print(my_set)  # Output: e.g., {1, 2, 3, 5}\n"
      ],
      "metadata": {
        "colab": {
          "base_uri": "https://localhost:8080/"
        },
        "id": "_DSaKxwaVOJZ",
        "outputId": "99574560-fbc6-42ca-c12d-ca79f10961cb"
      },
      "execution_count": 183,
      "outputs": [
        {
          "output_type": "stream",
          "name": "stdout",
          "text": [
            "{1, 3, 4, 5}\n"
          ]
        }
      ]
    },
    {
      "cell_type": "code",
      "source": [
        "# Question 17: Pop an element from a set.\n",
        "my_set = {1, 2, 3, 4}\n",
        "popped_element = my_set.pop()\n",
        "\n",
        "# Output:\n",
        "print(popped_element)  # Output: e.g., 1 (randomly popped element)\n",
        "print(my_set)  # Output: e.g., {2, 3, 4}\n"
      ],
      "metadata": {
        "colab": {
          "base_uri": "https://localhost:8080/"
        },
        "id": "rntnnumIWoNB",
        "outputId": "3a34f0b1-169e-4037-8069-af84e2cad9e7"
      },
      "execution_count": 185,
      "outputs": [
        {
          "output_type": "stream",
          "name": "stdout",
          "text": [
            "1\n",
            "{2, 3, 4}\n"
          ]
        }
      ]
    },
    {
      "cell_type": "code",
      "source": [
        "# Question 18: Check if two sets have no elements in common.\n",
        "set1 = {1, 2, 3}\n",
        "set2 = {4, 5, 6}\n",
        "no_common_elements = set1.isdisjoint(set2)\n",
        "\n",
        "# Output:\n",
        "print(no_common_elements)  # Output: True\n"
      ],
      "metadata": {
        "colab": {
          "base_uri": "https://localhost:8080/"
        },
        "id": "HxkwOJAFWslP",
        "outputId": "d3ef5d0d-3dfa-4c60-adbf-7b7c4b413c54"
      },
      "execution_count": 186,
      "outputs": [
        {
          "output_type": "stream",
          "name": "stdout",
          "text": [
            "True\n"
          ]
        }
      ]
    },
    {
      "cell_type": "code",
      "source": [
        "# Question 19: Find the symmetric difference between two sets.\n",
        "set1 = {1, 2, 3}\n",
        "set2 = {3, 4, 5}\n",
        "symmetric_difference = set1.symmetric_difference(set2)\n",
        "\n",
        "# Output:\n",
        "print(symmetric_difference)  # Output: {1, 2, 4, 5}\n"
      ],
      "metadata": {
        "colab": {
          "base_uri": "https://localhost:8080/"
        },
        "id": "TnnTI5PIW56D",
        "outputId": "80e83f54-1560-43d2-8d43-c2c36f9c9c8f"
      },
      "execution_count": 187,
      "outputs": [
        {
          "output_type": "stream",
          "name": "stdout",
          "text": [
            "{1, 2, 4, 5}\n"
          ]
        }
      ]
    },
    {
      "cell_type": "code",
      "source": [
        "# Question 20: Update a set with elements from another set.\n",
        "set1 = {1, 2, 3}\n",
        "set2 = {3, 4, 5}\n",
        "set1.update(set2)\n",
        "\n",
        "# Output:\n",
        "print(set1)  # Output: {1, 2, 3, 4, 5}\n"
      ],
      "metadata": {
        "colab": {
          "base_uri": "https://localhost:8080/"
        },
        "id": "-V1-6oJ3W7UB",
        "outputId": "cb74afee-7b51-4f7f-d6a5-e1fe91136451"
      },
      "execution_count": 188,
      "outputs": [
        {
          "output_type": "stream",
          "name": "stdout",
          "text": [
            "{1, 2, 3, 4, 5}\n"
          ]
        }
      ]
    },
    {
      "cell_type": "code",
      "source": [
        "# Question 21: Create a set of the first 5 prime numbers.\n",
        "primes = {2, 3, 5, 7, 11}\n",
        "\n",
        "# Output:\n",
        "print(primes)  # Output: {2, 3, 5, 7, 11}\n"
      ],
      "metadata": {
        "colab": {
          "base_uri": "https://localhost:8080/"
        },
        "id": "RLZ4Wr61W8vW",
        "outputId": "6185c5b1-6c1b-44b3-9018-7cebdf2e52bb"
      },
      "execution_count": 189,
      "outputs": [
        {
          "output_type": "stream",
          "name": "stdout",
          "text": [
            "{2, 3, 5, 7, 11}\n"
          ]
        }
      ]
    },
    {
      "cell_type": "code",
      "source": [
        "# Question 22: Check if two sets are identical.\n",
        "set1 = {1, 2, 3}\n",
        "set2 = {3, 2, 1}\n",
        "identical = set1 == set2\n",
        "\n",
        "# Output:\n",
        "print(identical)  # Output: True\n"
      ],
      "metadata": {
        "colab": {
          "base_uri": "https://localhost:8080/"
        },
        "id": "ajZ28jIfW_hS",
        "outputId": "cb24cd61-ddc3-4439-ae4d-5017f1994ad6"
      },
      "execution_count": 190,
      "outputs": [
        {
          "output_type": "stream",
          "name": "stdout",
          "text": [
            "True\n"
          ]
        }
      ]
    },
    {
      "cell_type": "code",
      "source": [
        "# Question 23: Create a frozen set.\n",
        "frozen_set = frozenset([1, 2, 3, 4])\n",
        "\n",
        "# Output:\n",
        "print(frozen_set)  # Output: frozenset({1, 2, 3, 4})\n"
      ],
      "metadata": {
        "colab": {
          "base_uri": "https://localhost:8080/"
        },
        "id": "isdDUigsXBAT",
        "outputId": "731b7089-690b-44de-853b-844847267ea1"
      },
      "execution_count": 191,
      "outputs": [
        {
          "output_type": "stream",
          "name": "stdout",
          "text": [
            "frozenset({1, 2, 3, 4})\n"
          ]
        }
      ]
    },
    {
      "cell_type": "code",
      "source": [
        "# Question 24: Check if a set is disjoint with another set.\n",
        "set1 = {1, 2, 3}\n",
        "set2 = {4, 5, 6}\n",
        "is_disjoint = set1.isdisjoint(set2)\n",
        "\n",
        "# Output:\n",
        "print(is_disjoint)  # Output: True\n"
      ],
      "metadata": {
        "colab": {
          "base_uri": "https://localhost:8080/"
        },
        "id": "b69RuKSpXChP",
        "outputId": "6ee48be2-4657-41b9-fe85-4adcf49a23fb"
      },
      "execution_count": 192,
      "outputs": [
        {
          "output_type": "stream",
          "name": "stdout",
          "text": [
            "True\n"
          ]
        }
      ]
    },
    {
      "cell_type": "code",
      "source": [
        "# Question 25: Create a set of squares of numbers from 1 to 5.\n",
        "squares = {x**2 for x in range(1, 6)}\n",
        "\n",
        "# Output:\n",
        "print(squares)  # Output: {1, 4, 9, 16, 25}\n"
      ],
      "metadata": {
        "colab": {
          "base_uri": "https://localhost:8080/"
        },
        "id": "YedX9kPcXFlg",
        "outputId": "087944a8-24db-4946-fb38-8fb64ecef1a2"
      },
      "execution_count": 193,
      "outputs": [
        {
          "output_type": "stream",
          "name": "stdout",
          "text": [
            "{1, 4, 9, 16, 25}\n"
          ]
        }
      ]
    },
    {
      "cell_type": "code",
      "source": [
        "# Question 26: Filter out all even numbers from a set.\n",
        "my_set = {1, 2, 3, 4, 5}\n",
        "odd_numbers = {x for x in my_set if x % 2 != 0}\n",
        "\n",
        "# Output:\n",
        "print(odd_numbers)  # Output: {1, 3, 5}\n"
      ],
      "metadata": {
        "colab": {
          "base_uri": "https://localhost:8080/"
        },
        "id": "NF1LvC3QXHFZ",
        "outputId": "05a809e3-fad8-4054-dd9c-fc404a43e19b"
      },
      "execution_count": 194,
      "outputs": [
        {
          "output_type": "stream",
          "name": "stdout",
          "text": [
            "{1, 3, 5}\n"
          ]
        }
      ]
    },
    {
      "cell_type": "code",
      "source": [
        "# Question 27: Multiply all elements in a set by 2.\n",
        "my_set = {1, 2, 3}\n",
        "multiplied_set = {x * 2 for x in my_set}\n",
        "\n",
        "# Output:\n",
        "print(multiplied_set)  # Output: {2, 4, 6}\n"
      ],
      "metadata": {
        "colab": {
          "base_uri": "https://localhost:8080/"
        },
        "id": "MSRK2SHYXJBV",
        "outputId": "6b676944-9d6a-440f-cb6b-48634ef99c84"
      },
      "execution_count": 195,
      "outputs": [
        {
          "output_type": "stream",
          "name": "stdout",
          "text": [
            "{2, 4, 6}\n"
          ]
        }
      ]
    },
    {
      "cell_type": "code",
      "source": [
        "# Question 28: Create a set of random numbers.\n",
        "import random\n",
        "\n",
        "random_set = {random.randint(1, 100) for _ in range(5)}\n",
        "\n",
        "# Output:\n",
        "print(random_set)  # Output: e.g., {12, 45, 78, 56, 89}\n"
      ],
      "metadata": {
        "colab": {
          "base_uri": "https://localhost:8080/"
        },
        "id": "4ilT-TvrXLzY",
        "outputId": "d2568f8a-11ee-448b-a393-f4262005a678"
      },
      "execution_count": 196,
      "outputs": [
        {
          "output_type": "stream",
          "name": "stdout",
          "text": [
            "{43, 66, 83, 90}\n"
          ]
        }
      ]
    },
    {
      "cell_type": "code",
      "source": [
        "# Question 29: Check if a set is empty.\n",
        "my_set = set()\n",
        "is_empty = not bool(my_set)\n",
        "\n",
        "# Output:\n",
        "print(is_empty)  # Output: True\n"
      ],
      "metadata": {
        "colab": {
          "base_uri": "https://localhost:8080/"
        },
        "id": "85PbWstgXN0K",
        "outputId": "2fbc25c5-8d21-472a-ccc4-f40f41047e68"
      },
      "execution_count": 197,
      "outputs": [
        {
          "output_type": "stream",
          "name": "stdout",
          "text": [
            "True\n"
          ]
        }
      ]
    },
    {
      "cell_type": "code",
      "source": [
        "# Question 30: Create a nested set (hint: use frozenset).\n",
        "nested_set = frozenset({1, 2, frozenset({3, 4})})\n",
        "\n",
        "# Output:\n",
        "print(nested_set)  # Output: frozenset({1, 2, frozenset({3, 4})})\n"
      ],
      "metadata": {
        "colab": {
          "base_uri": "https://localhost:8080/"
        },
        "id": "zZ0wUdQaXQEo",
        "outputId": "a67c0975-5007-435a-b57b-01fb0814d6e2"
      },
      "execution_count": 198,
      "outputs": [
        {
          "output_type": "stream",
          "name": "stdout",
          "text": [
            "frozenset({frozenset({3, 4}), 1, 2})\n"
          ]
        }
      ]
    },
    {
      "cell_type": "code",
      "source": [
        "# Question 31: Remove an element from a set using the discard method.\n",
        "my_set = {1, 2, 3, 4}\n",
        "my_set.discard(3)\n",
        "\n",
        "# Output:\n",
        "print(my_set)  # Output: {1, 2, 4}\n"
      ],
      "metadata": {
        "colab": {
          "base_uri": "https://localhost:8080/"
        },
        "id": "-i-CToJuXTnR",
        "outputId": "febb508b-d64d-4297-e385-63ac8f28661c"
      },
      "execution_count": 199,
      "outputs": [
        {
          "output_type": "stream",
          "name": "stdout",
          "text": [
            "{1, 2, 4}\n"
          ]
        }
      ]
    },
    {
      "cell_type": "code",
      "source": [
        "# Question 32: Compare two sets.\n",
        "set1 = {1, 2, 3}\n",
        "set2 = {1, 2, 3}\n",
        "are_equal = set1 == set2\n",
        "\n",
        "# Output:\n",
        "print(are_equal)  # Output: True\n"
      ],
      "metadata": {
        "colab": {
          "base_uri": "https://localhost:8080/"
        },
        "id": "mlnMjVMSXVfX",
        "outputId": "fa1d4a57-c8d1-4195-9269-16ab0edf3ee2"
      },
      "execution_count": 200,
      "outputs": [
        {
          "output_type": "stream",
          "name": "stdout",
          "text": [
            "True\n"
          ]
        }
      ]
    },
    {
      "cell_type": "code",
      "source": [
        "# Question 33: Create a set from a string.\n",
        "my_string = \"hello\"\n",
        "my_set = set(my_string)\n",
        "\n",
        "# Output:\n",
        "print(my_set)  # Output: {'h', 'e', 'l', 'o'}\n"
      ],
      "metadata": {
        "colab": {
          "base_uri": "https://localhost:8080/"
        },
        "id": "BaRS8tE7X64r",
        "outputId": "3e1bff8a-5d2c-459e-9166-b87daa4068b5"
      },
      "execution_count": 201,
      "outputs": [
        {
          "output_type": "stream",
          "name": "stdout",
          "text": [
            "{'l', 'e', 'h', 'o'}\n"
          ]
        }
      ]
    },
    {
      "cell_type": "code",
      "source": [
        "# Question 34: Convert a set of strings to a set of integers.\n",
        "string_set = {'1', '2', '3'}\n",
        "int_set = {int(x) for x in string_set}\n",
        "\n",
        "# Output:\n",
        "print(int_set)  # Output: {1, 2, 3}\n"
      ],
      "metadata": {
        "colab": {
          "base_uri": "https://localhost:8080/"
        },
        "id": "pcCxFSxNX83-",
        "outputId": "44a6b786-2909-40e3-b84a-25d6409d3fe0"
      },
      "execution_count": 202,
      "outputs": [
        {
          "output_type": "stream",
          "name": "stdout",
          "text": [
            "{1, 2, 3}\n"
          ]
        }
      ]
    },
    {
      "cell_type": "code",
      "source": [
        "# Question 35: Convert a set of integers to a set of strings.\n",
        "int_set = {1, 2, 3}\n",
        "string_set = {str(x) for x in int_set}\n",
        "\n",
        "# Output:\n",
        "print(string_set)  # Output: {'1', '2', '3'}\n"
      ],
      "metadata": {
        "colab": {
          "base_uri": "https://localhost:8080/"
        },
        "id": "kBMrsPq6X-jf",
        "outputId": "899fe879-2f6c-445f-8535-a6b870189d71"
      },
      "execution_count": 203,
      "outputs": [
        {
          "output_type": "stream",
          "name": "stdout",
          "text": [
            "{'1', '2', '3'}\n"
          ]
        }
      ]
    },
    {
      "cell_type": "code",
      "source": [
        "# Question 36: Create a set from a tuple.\n",
        "my_tuple = (1, 2, 3, 4)\n",
        "my_set = set(my_tuple)\n",
        "\n",
        "# Output:\n",
        "print(my_set)  # Output: {1, 2, 3, 4}\n"
      ],
      "metadata": {
        "colab": {
          "base_uri": "https://localhost:8080/"
        },
        "id": "vnZ74-WqYAA1",
        "outputId": "6a85adcb-3dbe-46c1-e7e7-7983069a1873"
      },
      "execution_count": 204,
      "outputs": [
        {
          "output_type": "stream",
          "name": "stdout",
          "text": [
            "{1, 2, 3, 4}\n"
          ]
        }
      ]
    },
    {
      "cell_type": "code",
      "source": [
        "# Question 37: Convert a set to a tuple.\n",
        "my_set = {1, 2, 3, 4}\n",
        "my_tuple = tuple(my_set)\n",
        "\n",
        "# Output:\n",
        "print(my_tuple)  # Output: (1, 2, 3, 4)\n"
      ],
      "metadata": {
        "colab": {
          "base_uri": "https://localhost:8080/"
        },
        "id": "hL-R129yYBwp",
        "outputId": "f57a4400-ffd0-408d-f078-6cd14ec51e37"
      },
      "execution_count": 205,
      "outputs": [
        {
          "output_type": "stream",
          "name": "stdout",
          "text": [
            "(1, 2, 3, 4)\n"
          ]
        }
      ]
    },
    {
      "cell_type": "code",
      "source": [
        "# Question 38: Find the maximum value in a set.\n",
        "my_set = {1, 2, 3, 4}\n",
        "max_value = max(my_set)\n",
        "\n",
        "# Output:\n",
        "print(max_value)  # Output: 4\n"
      ],
      "metadata": {
        "colab": {
          "base_uri": "https://localhost:8080/"
        },
        "id": "9oavgpDGYDk8",
        "outputId": "f876669a-3342-4c57-8509-fb1cb096ceca"
      },
      "execution_count": 206,
      "outputs": [
        {
          "output_type": "stream",
          "name": "stdout",
          "text": [
            "4\n"
          ]
        }
      ]
    },
    {
      "cell_type": "code",
      "source": [
        "# Question 39: Find the minimum value in a set.\n",
        "my_set = {1, 2, 3, 4}\n",
        "min_value = min(my_set)\n",
        "\n",
        "# Output:\n",
        "print(min_value)  # Output: 1\n"
      ],
      "metadata": {
        "colab": {
          "base_uri": "https://localhost:8080/"
        },
        "id": "ivrVnO8oYFtw",
        "outputId": "946e517e-cb40-4d6f-d446-7eff877eb921"
      },
      "execution_count": 207,
      "outputs": [
        {
          "output_type": "stream",
          "name": "stdout",
          "text": [
            "1\n"
          ]
        }
      ]
    },
    {
      "cell_type": "code",
      "source": [
        "# Question 40: Create a set from user input.\n",
        "user_input = input(\"Enter numbers separated by spaces: \")\n",
        "my_set = set(map(int, user_input.split()))\n",
        "\n",
        "# Output:\n",
        "print(my_set)  # Output: e.g., {1, 2, 3, 4}\n"
      ],
      "metadata": {
        "colab": {
          "base_uri": "https://localhost:8080/"
        },
        "id": "2hhVsAteYHh6",
        "outputId": "1c9c24d3-50bd-42b0-dda9-10b11357ca99"
      },
      "execution_count": 210,
      "outputs": [
        {
          "output_type": "stream",
          "name": "stdout",
          "text": [
            "Enter numbers separated by spaces: 12\n",
            "{12}\n"
          ]
        }
      ]
    },
    {
      "cell_type": "code",
      "source": [
        "# Question 41: Check if the intersection of two sets is empty.\n",
        "set1 = {1, 2, 3}\n",
        "set2 = {4, 5, 6}\n",
        "is_intersection_empty = set1.isdisjoint(set2)\n",
        "\n",
        "# Output:\n",
        "print(is_intersection_empty)  # Output: True\n"
      ],
      "metadata": {
        "colab": {
          "base_uri": "https://localhost:8080/"
        },
        "id": "5luL3dIbYJX1",
        "outputId": "db88930b-7f46-4a66-e51f-e0fd81aefab5"
      },
      "execution_count": 211,
      "outputs": [
        {
          "output_type": "stream",
          "name": "stdout",
          "text": [
            "True\n"
          ]
        }
      ]
    },
    {
      "cell_type": "code",
      "source": [
        "# Question 42: Create a set of the first 5 Fibonacci numbers.\n",
        "def fibonacci(n):\n",
        "    a, b = 0, 1\n",
        "    fib_set = set()\n",
        "    while len(fib_set) < n:\n",
        "        fib_set.add(a)\n",
        "        a, b = b, a + b\n",
        "    return fib_set\n",
        "\n",
        "fib_set = fibonacci(5)\n",
        "\n",
        "# Output:\n",
        "print(fib_set)  # Output: {0, 1, 2, 3, 5}\n"
      ],
      "metadata": {
        "colab": {
          "base_uri": "https://localhost:8080/"
        },
        "id": "L0vjZYhcYVb4",
        "outputId": "585efe2a-132a-4faa-f958-8f95415a9762"
      },
      "execution_count": 212,
      "outputs": [
        {
          "output_type": "stream",
          "name": "stdout",
          "text": [
            "{0, 1, 2, 3, 5}\n"
          ]
        }
      ]
    },
    {
      "cell_type": "code",
      "source": [
        "# Question 43: Remove duplicates from a list using sets.\n",
        "my_list = [1, 2, 2, 3, 4, 4]\n",
        "unique_set = set(my_list)\n",
        "\n",
        "# Output:\n",
        "print(unique_set)  # Output: {1, 2, 3, 4}\n"
      ],
      "metadata": {
        "colab": {
          "base_uri": "https://localhost:8080/"
        },
        "id": "Vcul5-nsYXGY",
        "outputId": "d52ba086-c5d3-4a5b-c6ec-355a798bd036"
      },
      "execution_count": 213,
      "outputs": [
        {
          "output_type": "stream",
          "name": "stdout",
          "text": [
            "{1, 2, 3, 4}\n"
          ]
        }
      ]
    },
    {
      "cell_type": "code",
      "source": [
        "# Question 44: Check if two sets have the same elements, regardless of their count.\n",
        "set1 = {1, 2, 3, 3}\n",
        "set2 = {1, 2, 3}\n",
        "have_same_elements = set1 == set2\n",
        "\n",
        "# Output:\n",
        "print(have_same_elements)  # Output: True\n"
      ],
      "metadata": {
        "colab": {
          "base_uri": "https://localhost:8080/"
        },
        "id": "u_vUmGQYYZDs",
        "outputId": "2df920d3-1ee1-4be3-8afe-a1a5725ec46c"
      },
      "execution_count": 214,
      "outputs": [
        {
          "output_type": "stream",
          "name": "stdout",
          "text": [
            "True\n"
          ]
        }
      ]
    },
    {
      "cell_type": "code",
      "source": [
        "# Question 45: Create a set of the first n powers of 2.\n",
        "n = 5\n",
        "powers_of_two = {2**i for i in range(n)}\n",
        "\n",
        "# Output:\n",
        "print(powers_of_two)  # Output: {1, 2, 4, 8, 16}\n"
      ],
      "metadata": {
        "colab": {
          "base_uri": "https://localhost:8080/"
        },
        "id": "-91WCQyBYbMk",
        "outputId": "69c082c4-d290-405e-998e-5a686a723f62"
      },
      "execution_count": 215,
      "outputs": [
        {
          "output_type": "stream",
          "name": "stdout",
          "text": [
            "{1, 2, 4, 8, 16}\n"
          ]
        }
      ]
    },
    {
      "cell_type": "code",
      "source": [
        "# Question 46: Find the common elements between a set and a list.\n",
        "my_set = {1, 2, 3, 4}\n",
        "my_list = [3, 4, 5, 6]\n",
        "common_elements = my_set.intersection(my_list)\n",
        "\n",
        "# Output:\n",
        "print(common_elements)  # Output: {3, 4}\n"
      ],
      "metadata": {
        "colab": {
          "base_uri": "https://localhost:8080/"
        },
        "id": "rNzVfl__Ye-Z",
        "outputId": "95230a05-9654-41df-d4c8-a3d070c7842a"
      },
      "execution_count": 216,
      "outputs": [
        {
          "output_type": "stream",
          "name": "stdout",
          "text": [
            "{3, 4}\n"
          ]
        }
      ]
    },
    {
      "cell_type": "code",
      "source": [
        "# Question 47: Create a set of the first n triangular numbers.\n",
        "def triangular_numbers(n):\n",
        "    return {i * (i + 1) // 2 for i in range(1, n + 1)}\n",
        "\n",
        "triangular_set = triangular_numbers(5)\n",
        "\n",
        "# Output:\n",
        "print(triangular_set)  # Output: {1, 3, 6, 10, 15}\n"
      ],
      "metadata": {
        "colab": {
          "base_uri": "https://localhost:8080/"
        },
        "id": "U0ntdxQuYgx3",
        "outputId": "e4761796-3843-4fb7-c516-90fae094b6cf"
      },
      "execution_count": 217,
      "outputs": [
        {
          "output_type": "stream",
          "name": "stdout",
          "text": [
            "{1, 3, 6, 10, 15}\n"
          ]
        }
      ]
    },
    {
      "cell_type": "code",
      "source": [
        "# Question 48: Check if a set contains another set as a subset.\n",
        "set1 = {1, 2, 3, 4}\n",
        "set2 = {2, 3}\n",
        "is_subset = set2.issubset(set1)\n",
        "\n",
        "# Output:\n",
        "print(is_subset)  # Output: True\n"
      ],
      "metadata": {
        "colab": {
          "base_uri": "https://localhost:8080/"
        },
        "id": "sMBtl7NBYiv4",
        "outputId": "d8540a9c-f21a-4354-ddc3-00127dd2dbc1"
      },
      "execution_count": 218,
      "outputs": [
        {
          "output_type": "stream",
          "name": "stdout",
          "text": [
            "True\n"
          ]
        }
      ]
    },
    {
      "cell_type": "code",
      "source": [
        "# Question 49: Create a set of alternating 1s and 0s of length n.\n",
        "n = 10\n",
        "alternating_set = {i % 2 for i in range(n)}\n",
        "\n",
        "# Output:\n",
        "print(alternating_set)  # Output: {0, 1}\n"
      ],
      "metadata": {
        "colab": {
          "base_uri": "https://localhost:8080/"
        },
        "id": "vT51pn6AYklk",
        "outputId": "357c1be0-1859-4bc1-9137-dff362502c60"
      },
      "execution_count": 219,
      "outputs": [
        {
          "output_type": "stream",
          "name": "stdout",
          "text": [
            "{0, 1}\n"
          ]
        }
      ]
    },
    {
      "cell_type": "code",
      "source": [
        "# Question 50: Merge multiple sets into one.\n",
        "set1 = {1, 2}\n",
        "set2 = {3, 4}\n",
        "set3 = {5, 6}\n",
        "merged_set = set1.union(set2, set3)\n",
        "\n",
        "# Output:\n",
        "print(merged_set)  # Output: {1, 2, 3, 4, 5, 6}\n"
      ],
      "metadata": {
        "colab": {
          "base_uri": "https://localhost:8080/"
        },
        "id": "6LzgzCS_YmXZ",
        "outputId": "99707704-a208-4e51-9650-be320287b386"
      },
      "execution_count": 220,
      "outputs": [
        {
          "output_type": "stream",
          "name": "stdout",
          "text": [
            "{1, 2, 3, 4, 5, 6}\n"
          ]
        }
      ]
    },
    {
      "cell_type": "code",
      "source": [],
      "metadata": {
        "id": "d-fL00sLYoOE"
      },
      "execution_count": null,
      "outputs": []
    }
  ]
}