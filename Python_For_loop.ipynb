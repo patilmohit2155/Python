{
  "nbformat": 4,
  "nbformat_minor": 0,
  "metadata": {
    "colab": {
      "provenance": []
    },
    "kernelspec": {
      "name": "python3",
      "display_name": "Python 3"
    },
    "language_info": {
      "name": "python"
    }
  },
  "cells": [
    {
      "cell_type": "code",
      "execution_count": 2,
      "metadata": {
        "colab": {
          "base_uri": "https://localhost:8080/"
        },
        "id": "V430UyruOPY1",
        "outputId": "34060ae8-4574-4792-e489-791fff0a6978"
      },
      "outputs": [
        {
          "output_type": "stream",
          "name": "stdout",
          "text": [
            "1\n",
            "2\n",
            "3\n",
            "4\n",
            "5\n",
            "6\n",
            "7\n",
            "8\n",
            "9\n",
            "10\n"
          ]
        }
      ],
      "source": [
        "# 1. Write a Python program to print the numbers from 1 to 10 using a `for` loop.\n",
        "\n",
        "# Loop through a range of numbers from 1 to 10\n",
        "for number in range(1, 11):\n",
        "    # Print the current number in the loop\n",
        "    print(number)\n"
      ]
    },
    {
      "cell_type": "code",
      "source": [
        "# 2. Create a program that calculates the sum of all numbers in a list using a `for` loop.\n",
        "\n",
        "# Define a list of numbers\n",
        "numbers = [1, 2, 3, 4, 5]\n",
        "\n",
        "# Initialize a variable to store the sum\n",
        "total_sum = 0\n",
        "\n",
        "# Loop through each number in the list\n",
        "for number in numbers:\n",
        "    # Add the current number to the total sum\n",
        "    total_sum += number\n",
        "\n",
        "# Print the total sum\n",
        "print(\"Sum:\", total_sum)\n"
      ],
      "metadata": {
        "colab": {
          "base_uri": "https://localhost:8080/"
        },
        "id": "I2HcWOIZPN77",
        "outputId": "265ceec3-a479-4f62-8906-4e6dece6ee60"
      },
      "execution_count": 3,
      "outputs": [
        {
          "output_type": "stream",
          "name": "stdout",
          "text": [
            "Sum: 15\n"
          ]
        }
      ]
    },
    {
      "cell_type": "code",
      "source": [
        "# 3. Write a program to print the characters of a string in reverse order using a `for` loop.\n",
        "\n",
        "# Define the string to be reversed\n",
        "text = \"Hello\"\n",
        "\n",
        "# Loop through the string in reverse order using the reversed() function\n",
        "for char in reversed(text):\n",
        "    # Print each character on the same line\n",
        "    print(char, end='')\n"
      ],
      "metadata": {
        "colab": {
          "base_uri": "https://localhost:8080/"
        },
        "id": "KKJ1DkxdPeQ1",
        "outputId": "88edfcc0-4710-4da1-ad5d-6e0e426f2124"
      },
      "execution_count": 4,
      "outputs": [
        {
          "output_type": "stream",
          "name": "stdout",
          "text": [
            "olleH"
          ]
        }
      ]
    },
    {
      "cell_type": "code",
      "source": [
        "# 4. Develop a program that finds the factorial of a given number using a `for` loop.\n",
        "\n",
        "# Define the number to calculate the factorial for\n",
        "num = 5\n",
        "\n",
        "# Initialize a variable to store the factorial\n",
        "factorial = 1\n",
        "\n",
        "# Loop through numbers from 1 to the specified number\n",
        "for i in range(1, num + 1):\n",
        "    # Multiply the current factorial value by the current number\n",
        "    factorial *= i\n",
        "\n",
        "# Print the factorial of the number\n",
        "print(\"Factorial:\", factorial)\n"
      ],
      "metadata": {
        "colab": {
          "base_uri": "https://localhost:8080/"
        },
        "id": "1jGFm8REPf_R",
        "outputId": "af8a2721-becf-421f-f00b-470ff1030323"
      },
      "execution_count": 5,
      "outputs": [
        {
          "output_type": "stream",
          "name": "stdout",
          "text": [
            "Factorial: 120\n"
          ]
        }
      ]
    },
    {
      "cell_type": "code",
      "source": [
        "# 5. Create a program to print the multiplication table of a given number using a `for` loop.\n",
        "\n",
        "# Define the number for which to print the multiplication table\n",
        "n = 7\n",
        "\n",
        "# Loop through numbers 1 to 10\n",
        "for i in range(1, 11):\n",
        "    # Print the multiplication of the current number with n\n",
        "    print(f\"{n} x {i} = {n * i}\")\n"
      ],
      "metadata": {
        "colab": {
          "base_uri": "https://localhost:8080/"
        },
        "id": "z_wwiyfVPhwC",
        "outputId": "10dcc11a-094b-4957-bafe-80255ba7f49b"
      },
      "execution_count": 6,
      "outputs": [
        {
          "output_type": "stream",
          "name": "stdout",
          "text": [
            "7 x 1 = 7\n",
            "7 x 2 = 14\n",
            "7 x 3 = 21\n",
            "7 x 4 = 28\n",
            "7 x 5 = 35\n",
            "7 x 6 = 42\n",
            "7 x 7 = 49\n",
            "7 x 8 = 56\n",
            "7 x 9 = 63\n",
            "7 x 10 = 70\n"
          ]
        }
      ]
    },
    {
      "cell_type": "code",
      "source": [
        "# 6. Write a program that counts the number of even and odd numbers in a list using a `for` loop.\n",
        "\n",
        "# Define a list of numbers\n",
        "numbers = [1, 2, 3, 4, 5, 6, 7, 8, 9, 10]\n",
        "\n",
        "# Initialize counters for even and odd numbers\n",
        "even_count = 0\n",
        "odd_count = 0\n",
        "\n",
        "# Loop through each number in the list\n",
        "for number in numbers:\n",
        "    # Check if the number is even\n",
        "    if number % 2 == 0:\n",
        "        even_count += 1  # Increment the even counter\n",
        "    else:\n",
        "        odd_count += 1   # Increment the odd counter\n",
        "\n",
        "# Print the counts of even and odd numbers\n",
        "print(\"Even numbers:\", even_count)\n",
        "print(\"Odd numbers:\", odd_count)\n"
      ],
      "metadata": {
        "colab": {
          "base_uri": "https://localhost:8080/"
        },
        "id": "yE3wb6jvPjwg",
        "outputId": "fc2d4697-cee4-4b87-b943-da15c3b26230"
      },
      "execution_count": 7,
      "outputs": [
        {
          "output_type": "stream",
          "name": "stdout",
          "text": [
            "Even numbers: 5\n",
            "Odd numbers: 5\n"
          ]
        }
      ]
    },
    {
      "cell_type": "code",
      "source": [
        "# 7. Develop a program that prints the squares of numbers from 1 to 5 using a `for` loop.\n",
        "\n",
        "# Loop through numbers 1 to 5\n",
        "for number in range(1, 6):\n",
        "    # Print the square of the current number\n",
        "    print(f\"Square of {number} is {number ** 2}\")\n"
      ],
      "metadata": {
        "colab": {
          "base_uri": "https://localhost:8080/"
        },
        "id": "vw5E6q9-Plkp",
        "outputId": "2edff931-a6ab-464a-c403-3a5dad51f757"
      },
      "execution_count": 8,
      "outputs": [
        {
          "output_type": "stream",
          "name": "stdout",
          "text": [
            "Square of 1 is 1\n",
            "Square of 2 is 4\n",
            "Square of 3 is 9\n",
            "Square of 4 is 16\n",
            "Square of 5 is 25\n"
          ]
        }
      ]
    },
    {
      "cell_type": "code",
      "source": [
        "# 8. Create a program to find the length of a string without using the `len()` function.\n",
        "\n",
        "# Define the string to find the length of\n",
        "text = \"Hello\"\n",
        "\n",
        "# Initialize a counter variable\n",
        "length = 0\n",
        "\n",
        "# Loop through each character in the string\n",
        "for _ in text:\n",
        "    # Increment the counter for each character\n",
        "    length += 1\n",
        "\n",
        "# Print the length of the string\n",
        "print(\"Length:\", length)\n"
      ],
      "metadata": {
        "colab": {
          "base_uri": "https://localhost:8080/"
        },
        "id": "6JGj82FDPnhZ",
        "outputId": "b250ba95-6b33-4bdc-bcf8-fae840296640"
      },
      "execution_count": 9,
      "outputs": [
        {
          "output_type": "stream",
          "name": "stdout",
          "text": [
            "Length: 5\n"
          ]
        }
      ]
    },
    {
      "cell_type": "code",
      "source": [
        "# 9. Write a program that calculates the average of a list of numbers using a `for` loop.\n",
        "\n",
        "# Define a list of numbers\n",
        "numbers = [10, 20, 30, 40, 50]\n",
        "\n",
        "# Initialize a variable to store the sum\n",
        "total_sum = 0\n",
        "\n",
        "# Loop through each number in the list\n",
        "for number in numbers:\n",
        "    # Add the current number to the total sum\n",
        "    total_sum += number\n",
        "\n",
        "# Calculate the average by dividing the sum by the number of elements\n",
        "average = total_sum / len(numbers)\n",
        "\n",
        "# Print the average\n",
        "print(\"Average:\", average)\n"
      ],
      "metadata": {
        "colab": {
          "base_uri": "https://localhost:8080/"
        },
        "id": "q2qseP0APpi9",
        "outputId": "24525403-0f93-48c3-a02d-d729fb7e8025"
      },
      "execution_count": 10,
      "outputs": [
        {
          "output_type": "stream",
          "name": "stdout",
          "text": [
            "Average: 30.0\n"
          ]
        }
      ]
    },
    {
      "cell_type": "code",
      "source": [
        "# 10. Develop a program that prints the first `n` Fibonacci numbers using a `for` loop.\n",
        "\n",
        "# Define the number of Fibonacci numbers to print\n",
        "n = 10\n",
        "\n",
        "# Initialize the first two Fibonacci numbers\n",
        "a, b = 0, 1\n",
        "\n",
        "# Loop n times to generate Fibonacci numbers\n",
        "for _ in range(n):\n",
        "    # Print the current Fibonacci number\n",
        "    print(a, end=' ')\n",
        "    # Update the Fibonacci sequence\n",
        "    a, b = b, a + b\n"
      ],
      "metadata": {
        "colab": {
          "base_uri": "https://localhost:8080/"
        },
        "id": "aMBTXMPcPrKi",
        "outputId": "97b2cf4b-221a-4863-a01e-169803d76e5d"
      },
      "execution_count": 11,
      "outputs": [
        {
          "output_type": "stream",
          "name": "stdout",
          "text": [
            "0 1 1 2 3 5 8 13 21 34 "
          ]
        }
      ]
    },
    {
      "cell_type": "code",
      "source": [
        "# 11. Write a program to check if a given list contains any duplicates using a `for` loop.\n",
        "\n",
        "# Define a list with potential duplicates\n",
        "numbers = [1, 2, 3, 4, 2, 5]\n",
        "\n",
        "# Initialize a set to track unique elements\n",
        "seen = set()\n",
        "\n",
        "# Initialize a flag for duplicates\n",
        "has_duplicates = False\n",
        "\n",
        "# Loop through each number in the list\n",
        "for number in numbers:\n",
        "    # Check if the number is already in the set\n",
        "    if number in seen:\n",
        "        has_duplicates = True\n",
        "        break\n",
        "    # Add the number to the set if it's not a duplicate\n",
        "    seen.add(number)\n",
        "\n",
        "# Print if duplicates are found\n",
        "print(\"Contains duplicates:\", has_duplicates)\n"
      ],
      "metadata": {
        "colab": {
          "base_uri": "https://localhost:8080/"
        },
        "id": "3eup63aLPto-",
        "outputId": "d34afd06-3263-472d-e384-aec1c342512d"
      },
      "execution_count": 12,
      "outputs": [
        {
          "output_type": "stream",
          "name": "stdout",
          "text": [
            "Contains duplicates: True\n"
          ]
        }
      ]
    },
    {
      "cell_type": "code",
      "source": [
        "# 12. Create a program that prints the prime numbers in a given range using a `for` loop.\n",
        "\n",
        "# Define the range of numbers\n",
        "start = 10\n",
        "end = 50\n",
        "\n",
        "# Loop through each number in the specified range\n",
        "for num in range(start, end + 1):\n",
        "    # Prime numbers are greater than 1\n",
        "    if num > 1:\n",
        "        # Check if num is divisible by any number between 2 and sqrt(num)\n",
        "        for i in range(2, int(num ** 0.5) + 1):\n",
        "            if num % i == 0:\n",
        "                break\n",
        "        else:\n",
        "            print(num, end=' ')\n"
      ],
      "metadata": {
        "colab": {
          "base_uri": "https://localhost:8080/"
        },
        "id": "LfBD4Uj6QHHz",
        "outputId": "a46cd6d5-2b65-4f53-b624-a3ccb2787b85"
      },
      "execution_count": 13,
      "outputs": [
        {
          "output_type": "stream",
          "name": "stdout",
          "text": [
            "11 13 17 19 23 29 31 37 41 43 47 "
          ]
        }
      ]
    },
    {
      "cell_type": "code",
      "source": [
        "# 13. Develop a program that counts the number of vowels in a string using a `for` loop.\n",
        "\n",
        "# Define a string to count vowels in\n",
        "text = \"Hello World\"\n",
        "\n",
        "# Define a set of vowels\n",
        "vowels = \"aeiouAEIOU\"\n",
        "\n",
        "# Initialize a counter for vowels\n",
        "vowel_count = 0\n",
        "\n",
        "# Loop through each character in the string\n",
        "for char in text:\n",
        "    # Check if the character is a vowel\n",
        "    if char in vowels:\n",
        "        vowel_count += 1\n",
        "\n",
        "# Print the total number of vowels\n",
        "print(\"Number of vowels:\", vowel_count)\n"
      ],
      "metadata": {
        "colab": {
          "base_uri": "https://localhost:8080/"
        },
        "id": "_M2WzT20QJJi",
        "outputId": "23b05ccd-ff11-49b0-9591-521bd6889158"
      },
      "execution_count": 14,
      "outputs": [
        {
          "output_type": "stream",
          "name": "stdout",
          "text": [
            "Number of vowels: 3\n"
          ]
        }
      ]
    },
    {
      "cell_type": "code",
      "source": [
        "# 14. Write a program to find the maximum element in a 2D list using a nested `for` loop.\n",
        "\n",
        "# Define a 2D list\n",
        "matrix = [\n",
        "    [1, 5, 3],\n",
        "    [4, 8, 6],\n",
        "    [7, 2, 9]\n",
        "]\n",
        "\n",
        "# Initialize a variable to store the maximum element\n",
        "max_element = matrix[0][0]\n",
        "\n",
        "# Loop through each row in the matrix\n",
        "for row in matrix:\n",
        "    # Loop through each element in the row\n",
        "    for element in row:\n",
        "        # Update the max_element if the current element is greater\n",
        "        if element > max_element:\n",
        "            max_element = element\n",
        "\n",
        "# Print the maximum element\n",
        "print(\"Maximum element:\", max_element)\n"
      ],
      "metadata": {
        "colab": {
          "base_uri": "https://localhost:8080/"
        },
        "id": "ZrB2KKoQQMIo",
        "outputId": "7809f99a-0ade-465c-82ba-8120ab02b19b"
      },
      "execution_count": 15,
      "outputs": [
        {
          "output_type": "stream",
          "name": "stdout",
          "text": [
            "Maximum element: 9\n"
          ]
        }
      ]
    },
    {
      "cell_type": "code",
      "source": [
        "# 15. Create a program that removes all occurrences of a specific element from a list using a `for` loop.\n",
        "\n",
        "# Define a list with repeated elements\n",
        "numbers = [1, 2, 3, 2, 4, 2, 5]\n",
        "\n",
        "# Define the element to remove\n",
        "remove_element = 2\n",
        "\n",
        "# Initialize a new list to store elements that are not removed\n",
        "filtered_list = []\n",
        "\n",
        "# Loop through each number in the original list\n",
        "for number in numbers:\n",
        "    # Add the number to the filtered list if it is not the element to remove\n",
        "    if number != remove_element:\n",
        "        filtered_list.append(number)\n",
        "\n",
        "# Print the list after removal\n",
        "print(\"List after removal:\", filtered_list)\n"
      ],
      "metadata": {
        "colab": {
          "base_uri": "https://localhost:8080/"
        },
        "id": "MFcJPUwTQQDo",
        "outputId": "77fb7d48-9d82-43d9-feee-ed4fd39ec9a9"
      },
      "execution_count": 16,
      "outputs": [
        {
          "output_type": "stream",
          "name": "stdout",
          "text": [
            "List after removal: [1, 3, 4, 5]\n"
          ]
        }
      ]
    },
    {
      "cell_type": "code",
      "source": [
        "# 16. Develop a program that generates a multiplication table for numbers from 1 to 5 using a nested `for` loop.\n",
        "\n",
        "# Loop through numbers 1 to 5\n",
        "for i in range(1, 6):\n",
        "    # Loop through numbers 1 to 10\n",
        "    for j in range(1, 11):\n",
        "        # Print the multiplication result\n",
        "        print(f\"{i} x {j} = {i * j}\")\n",
        "    # Print a blank line after each table\n",
        "    print()\n"
      ],
      "metadata": {
        "colab": {
          "base_uri": "https://localhost:8080/"
        },
        "id": "GBzseuPnQSGp",
        "outputId": "7ef26978-8261-41ba-fc94-cda74c8f2b3b"
      },
      "execution_count": 17,
      "outputs": [
        {
          "output_type": "stream",
          "name": "stdout",
          "text": [
            "1 x 1 = 1\n",
            "1 x 2 = 2\n",
            "1 x 3 = 3\n",
            "1 x 4 = 4\n",
            "1 x 5 = 5\n",
            "1 x 6 = 6\n",
            "1 x 7 = 7\n",
            "1 x 8 = 8\n",
            "1 x 9 = 9\n",
            "1 x 10 = 10\n",
            "\n",
            "2 x 1 = 2\n",
            "2 x 2 = 4\n",
            "2 x 3 = 6\n",
            "2 x 4 = 8\n",
            "2 x 5 = 10\n",
            "2 x 6 = 12\n",
            "2 x 7 = 14\n",
            "2 x 8 = 16\n",
            "2 x 9 = 18\n",
            "2 x 10 = 20\n",
            "\n",
            "3 x 1 = 3\n",
            "3 x 2 = 6\n",
            "3 x 3 = 9\n",
            "3 x 4 = 12\n",
            "3 x 5 = 15\n",
            "3 x 6 = 18\n",
            "3 x 7 = 21\n",
            "3 x 8 = 24\n",
            "3 x 9 = 27\n",
            "3 x 10 = 30\n",
            "\n",
            "4 x 1 = 4\n",
            "4 x 2 = 8\n",
            "4 x 3 = 12\n",
            "4 x 4 = 16\n",
            "4 x 5 = 20\n",
            "4 x 6 = 24\n",
            "4 x 7 = 28\n",
            "4 x 8 = 32\n",
            "4 x 9 = 36\n",
            "4 x 10 = 40\n",
            "\n",
            "5 x 1 = 5\n",
            "5 x 2 = 10\n",
            "5 x 3 = 15\n",
            "5 x 4 = 20\n",
            "5 x 5 = 25\n",
            "5 x 6 = 30\n",
            "5 x 7 = 35\n",
            "5 x 8 = 40\n",
            "5 x 9 = 45\n",
            "5 x 10 = 50\n",
            "\n"
          ]
        }
      ]
    },
    {
      "cell_type": "code",
      "source": [
        "# 17. Write a program that converts a list of Fahrenheit temperatures to Celsius using a `for` loop.\n",
        "\n",
        "# Define a list of temperatures in Fahrenheit\n",
        "fahrenheit_temperatures = [32, 50, 77, 104]\n",
        "\n",
        "# Initialize a list to store Celsius temperatures\n",
        "celsius_temperatures = []\n",
        "\n",
        "# Loop through each Fahrenheit temperature\n",
        "for temp in fahrenheit_temperatures:\n",
        "    # Convert the temperature to Celsius\n",
        "    celsius = (temp - 32) * 5/9\n",
        "    # Add the converted temperature to the list\n",
        "    celsius_temperatures.append(celsius)\n",
        "\n",
        "# Print the list of Celsius temperatures\n",
        "print(\"Celsius temperatures:\", celsius_temperatures)\n"
      ],
      "metadata": {
        "colab": {
          "base_uri": "https://localhost:8080/"
        },
        "id": "0cMRPR0yQUqu",
        "outputId": "e154f303-296e-42ee-d753-603398168ec9"
      },
      "execution_count": 18,
      "outputs": [
        {
          "output_type": "stream",
          "name": "stdout",
          "text": [
            "Celsius temperatures: [0.0, 10.0, 25.0, 40.0]\n"
          ]
        }
      ]
    },
    {
      "cell_type": "code",
      "source": [
        "# 18. Create a program to print the common elements from two lists using a `for` loop.\n",
        "\n",
        "# Define two lists\n",
        "list1 = [1, 2, 3, 4, 5]\n",
        "list2 = [4, 5, 6, 7, 8]\n",
        "\n",
        "# Initialize a list to store common elements\n",
        "common_elements = []\n",
        "\n",
        "# Loop through each element in the first list\n",
        "for element in list1:\n",
        "    # Check if the element is also in the second list\n",
        "    if element in list2:\n",
        "        common_elements.append(element)\n",
        "\n",
        "# Print the common elements\n",
        "print(\"Common elements:\", common_elements)\n"
      ],
      "metadata": {
        "colab": {
          "base_uri": "https://localhost:8080/"
        },
        "id": "REJOJi2rQXnO",
        "outputId": "da3e57d2-67ab-4b33-a499-5f0b16682dc8"
      },
      "execution_count": 19,
      "outputs": [
        {
          "output_type": "stream",
          "name": "stdout",
          "text": [
            "Common elements: [4, 5]\n"
          ]
        }
      ]
    },
    {
      "cell_type": "code",
      "source": [
        "# 19. Develop a program that prints the pattern of right-angled triangles using a `for` loop. Use ‘*’ to draw the pattern.\n",
        "\n",
        "# Define the number of rows for the triangle\n",
        "rows = 5\n",
        "\n",
        "# Loop through each row\n",
        "for i in range(1, rows + 1):\n",
        "    # Print i asterisks on the current row\n",
        "    print('*' * i)\n"
      ],
      "metadata": {
        "colab": {
          "base_uri": "https://localhost:8080/"
        },
        "id": "g4uG4NfKQZrs",
        "outputId": "2e00dcf5-de64-4e04-e4a5-9b8fac2d75d1"
      },
      "execution_count": 20,
      "outputs": [
        {
          "output_type": "stream",
          "name": "stdout",
          "text": [
            "*\n",
            "**\n",
            "***\n",
            "****\n",
            "*****\n"
          ]
        }
      ]
    },
    {
      "cell_type": "code",
      "source": [
        "# 20. Write a program to find the greatest common divisor (GCD) of two numbers using a `for` loop.\n",
        "\n",
        "# Define two numbers\n",
        "a = 48\n",
        "b = 18\n",
        "\n",
        "# Initialize a variable to store the GCD\n",
        "gcd = 1\n",
        "\n",
        "# Loop through all numbers from 1 to the minimum of a and b\n",
        "for i in range(1, min(a, b) + 1):\n",
        "    # Check if i is a divisor of both a and b\n",
        "    if a % i == 0 and b % i == 0:\n",
        "        gcd = i\n",
        "\n",
        "# Print the GCD of the two numbers\n",
        "print(\"GCD:\", gcd)\n"
      ],
      "metadata": {
        "colab": {
          "base_uri": "https://localhost:8080/"
        },
        "id": "d30oENeLQbYo",
        "outputId": "21f40bf7-079f-43cf-e0f0-45e83b73fc6d"
      },
      "execution_count": 21,
      "outputs": [
        {
          "output_type": "stream",
          "name": "stdout",
          "text": [
            "GCD: 6\n"
          ]
        }
      ]
    },
    {
      "cell_type": "code",
      "source": [
        "# 21. Create a program that calculates the sum of the digits of numbers in a list using a list comprehension.\n",
        "\n",
        "# Define a list of numbers\n",
        "numbers = [123, 456, 789]\n",
        "\n",
        "# Calculate the sum of digits for each number using list comprehension\n",
        "sum_of_digits = [sum(int(digit) for digit in str(number)) for number in numbers]\n",
        "\n",
        "# Print the list of sums of digits\n",
        "print(\"Sum of digits:\", sum_of_digits)\n"
      ],
      "metadata": {
        "colab": {
          "base_uri": "https://localhost:8080/"
        },
        "id": "7jaKNjXAQdyM",
        "outputId": "397beead-a0c4-4d89-8832-6b7412325c7c"
      },
      "execution_count": 22,
      "outputs": [
        {
          "output_type": "stream",
          "name": "stdout",
          "text": [
            "Sum of digits: [6, 15, 24]\n"
          ]
        }
      ]
    },
    {
      "cell_type": "code",
      "source": [
        "# 22. Write a program to find the prime factors of a given number using a `for` loop and list comprehension.\n",
        "\n",
        "# Define the number to find prime factors for\n",
        "num = 56\n",
        "\n",
        "# Find prime factors using list comprehension and a `for` loop\n",
        "prime_factors = [i for i in range(2, num + 1) if num % i == 0 and all(i % j != 0 for j in range(2, int(i ** 0.5) + 1))]\n",
        "\n",
        "# Print the list of prime factors\n",
        "print(\"Prime factors:\", prime_factors)\n"
      ],
      "metadata": {
        "colab": {
          "base_uri": "https://localhost:8080/"
        },
        "id": "xZuOU9_NQx8N",
        "outputId": "8ca58da7-587c-44de-ca51-06fe4e6b63f3"
      },
      "execution_count": 23,
      "outputs": [
        {
          "output_type": "stream",
          "name": "stdout",
          "text": [
            "Prime factors: [2, 7]\n"
          ]
        }
      ]
    },
    {
      "cell_type": "code",
      "source": [
        "# 23. Develop a program that extracts unique elements from a list and stores them in a new list using a list comprehension.\n",
        "\n",
        "# Define a list with duplicate elements\n",
        "numbers = [1, 2, 2, 3, 4, 4, 5]\n",
        "\n",
        "# Extract unique elements using list comprehension and set\n",
        "unique_numbers = [num for i, num in enumerate(numbers) if num not in numbers[:i]]\n",
        "\n",
        "# Print the list of unique elements\n",
        "print(\"Unique elements:\", unique_numbers)\n"
      ],
      "metadata": {
        "colab": {
          "base_uri": "https://localhost:8080/"
        },
        "id": "gzIVDm8wQzr0",
        "outputId": "4659759d-e81d-4538-c626-2d810f080e4b"
      },
      "execution_count": 24,
      "outputs": [
        {
          "output_type": "stream",
          "name": "stdout",
          "text": [
            "Unique elements: [1, 2, 3, 4, 5]\n"
          ]
        }
      ]
    },
    {
      "cell_type": "code",
      "source": [
        "# 24. Create a program that generates a list of all palindromic numbers up to a specified limit using a list comprehension.\n",
        "\n",
        "# Define the limit\n",
        "limit = 200\n",
        "\n",
        "# Generate palindromic numbers using list comprehension\n",
        "palindromic_numbers = [num for num in range(1, limit + 1) if str(num) == str(num)[::-1]]\n",
        "\n",
        "# Print the list of palindromic numbers\n",
        "print(\"Palindromic numbers:\", palindromic_numbers)\n"
      ],
      "metadata": {
        "colab": {
          "base_uri": "https://localhost:8080/"
        },
        "id": "jV8Iew72Q1bL",
        "outputId": "623e7d4c-c49b-4416-9a7e-64ff70fdfebc"
      },
      "execution_count": 25,
      "outputs": [
        {
          "output_type": "stream",
          "name": "stdout",
          "text": [
            "Palindromic numbers: [1, 2, 3, 4, 5, 6, 7, 8, 9, 11, 22, 33, 44, 55, 66, 77, 88, 99, 101, 111, 121, 131, 141, 151, 161, 171, 181, 191]\n"
          ]
        }
      ]
    },
    {
      "cell_type": "code",
      "source": [
        "# 25. Write a program to flatten a nested list using list comprehension.\n",
        "\n",
        "# Define a nested list\n",
        "nested_list = [[1, 2, 3], [4, 5], [6, 7, 8]]\n",
        "\n",
        "# Flatten the nested list using list comprehension\n",
        "flat_list = [item for sublist in nested_list for item in sublist]\n",
        "\n",
        "# Print the flattened list\n",
        "print(\"Flattened list:\", flat_list)\n"
      ],
      "metadata": {
        "colab": {
          "base_uri": "https://localhost:8080/"
        },
        "id": "w8eJx8qAQ3ti",
        "outputId": "cfa6b2ae-41a8-4e1f-f254-53f69761021e"
      },
      "execution_count": 26,
      "outputs": [
        {
          "output_type": "stream",
          "name": "stdout",
          "text": [
            "Flattened list: [1, 2, 3, 4, 5, 6, 7, 8]\n"
          ]
        }
      ]
    },
    {
      "cell_type": "code",
      "source": [
        "# 26. Develop a program that computes the sum of even and odd numbers in a list separately using list comprehension.\n",
        "\n",
        "# Define a list of numbers\n",
        "numbers = [1, 2, 3, 4, 5, 6, 7, 8, 9, 10]\n",
        "\n",
        "# Calculate the sum of even numbers using list comprehension\n",
        "sum_even = sum([num for num in numbers if num % 2 == 0])\n",
        "\n",
        "# Calculate the sum of odd numbers using list comprehension\n",
        "sum_odd = sum([num for num in numbers if num % 2 != 0])\n",
        "\n",
        "# Print the sums of even and odd numbers\n",
        "print(\"Sum of even numbers:\", sum_even)\n",
        "print(\"Sum of odd numbers:\", sum_odd)\n"
      ],
      "metadata": {
        "colab": {
          "base_uri": "https://localhost:8080/"
        },
        "id": "2q1CyNbBQ6XH",
        "outputId": "987c0c1e-17bb-49bd-d755-ab47ba1be9e7"
      },
      "execution_count": 27,
      "outputs": [
        {
          "output_type": "stream",
          "name": "stdout",
          "text": [
            "Sum of even numbers: 30\n",
            "Sum of odd numbers: 25\n"
          ]
        }
      ]
    },
    {
      "cell_type": "code",
      "source": [
        "# 27. Create a program that generates a list of squares of odd numbers between 1 and 10 using list comprehension.\n",
        "\n",
        "# Generate squares of odd numbers using list comprehension\n",
        "squares_of_odd_numbers = [num ** 2 for num in range(1, 11) if num % 2 != 0]\n",
        "\n",
        "# Print the list of squares of odd numbers\n",
        "print(\"Squares of odd numbers:\", squares_of_odd_numbers)\n"
      ],
      "metadata": {
        "colab": {
          "base_uri": "https://localhost:8080/"
        },
        "id": "tXwid9xCQ8IT",
        "outputId": "a36f3831-8354-4165-c40a-d31c5e79a712"
      },
      "execution_count": 28,
      "outputs": [
        {
          "output_type": "stream",
          "name": "stdout",
          "text": [
            "Squares of odd numbers: [1, 9, 25, 49, 81]\n"
          ]
        }
      ]
    },
    {
      "cell_type": "code",
      "source": [
        "# 28. Write a program that combines two lists into a dictionary using list comprehension.\n",
        "\n",
        "# Define two lists\n",
        "keys = ['a', 'b', 'c']\n",
        "values = [1, 2, 3]\n",
        "\n",
        "# Combine the two lists into a dictionary using list comprehension\n",
        "combined_dict = {keys[i]: values[i] for i in range(len(keys))}\n",
        "\n",
        "# Print the resulting dictionary\n",
        "print(\"Combined dictionary:\", combined_dict)\n"
      ],
      "metadata": {
        "colab": {
          "base_uri": "https://localhost:8080/"
        },
        "id": "hga7T_8eQ-rp",
        "outputId": "694945c8-9890-49cf-f49d-7f5d2042afd0"
      },
      "execution_count": 29,
      "outputs": [
        {
          "output_type": "stream",
          "name": "stdout",
          "text": [
            "Combined dictionary: {'a': 1, 'b': 2, 'c': 3}\n"
          ]
        }
      ]
    },
    {
      "cell_type": "code",
      "source": [
        "# 29. Develop a program that extracts the vowels from a string and stores them in a list using list comprehension.\n",
        "\n",
        "# Define a string\n",
        "text = \"Hello World\"\n",
        "\n",
        "# Extract vowels using list comprehension\n",
        "vowels_list = [char for char in text if char in 'aeiouAEIOU']\n",
        "\n",
        "# Print the list of vowels\n",
        "print(\"Vowels in the string:\", vowels_list)\n"
      ],
      "metadata": {
        "colab": {
          "base_uri": "https://localhost:8080/"
        },
        "id": "cCtkQRdZRAbC",
        "outputId": "e0f1cc03-160f-4b17-bd6b-312e9fcbeb67"
      },
      "execution_count": 30,
      "outputs": [
        {
          "output_type": "stream",
          "name": "stdout",
          "text": [
            "Vowels in the string: ['e', 'o', 'o']\n"
          ]
        }
      ]
    },
    {
      "cell_type": "code",
      "source": [
        "# 30. Create a program that removes all non-numeric characters from a list of strings using list comprehension.\n",
        "\n",
        "# Define a list of strings\n",
        "strings = ['abc123', 'def456', 'ghi789']\n",
        "\n",
        "# Remove non-numeric characters using list comprehension\n",
        "numeric_strings = [''.join([char for char in string if char.isdigit()]) for string in strings]\n",
        "\n",
        "# Print the list of numeric strings\n",
        "print(\"Numeric strings:\", numeric_strings)\n"
      ],
      "metadata": {
        "colab": {
          "base_uri": "https://localhost:8080/"
        },
        "id": "MsVvRA_JRCV3",
        "outputId": "f806cdc2-0de3-4e04-980b-242485c91191"
      },
      "execution_count": 31,
      "outputs": [
        {
          "output_type": "stream",
          "name": "stdout",
          "text": [
            "Numeric strings: ['123', '456', '789']\n"
          ]
        }
      ]
    },
    {
      "cell_type": "code",
      "source": [
        "# 31. Write a program to generate a list of prime numbers using the Sieve of Eratosthenes algorithm and list comprehension.\n",
        "\n",
        "# Define the limit for the sieve\n",
        "limit = 50\n",
        "\n",
        "# Create a boolean list for prime number marking\n",
        "sieve = [True] * (limit + 1)\n",
        "sieve[0] = sieve[1] = False  # 0 and 1 are not primes\n",
        "\n",
        "# Implement the Sieve of Eratosthenes algorithm\n",
        "for num in range(2, int(limit ** 0.5) + 1):\n",
        "    if sieve[num]:\n",
        "        for multiple in range(num * num, limit + 1, num):\n",
        "            sieve[multiple] = False\n",
        "\n",
        "# Generate the list of prime numbers using list comprehension\n",
        "prime_numbers = [num for num, is_prime in enumerate(sieve) if is_prime]\n",
        "\n",
        "# Print the list of prime numbers\n",
        "print(\"Prime numbers:\", prime_numbers)\n"
      ],
      "metadata": {
        "colab": {
          "base_uri": "https://localhost:8080/"
        },
        "id": "mLtjsJwzRERx",
        "outputId": "bb8c33cc-7af6-4a11-9af2-1890076cedd4"
      },
      "execution_count": 32,
      "outputs": [
        {
          "output_type": "stream",
          "name": "stdout",
          "text": [
            "Prime numbers: [2, 3, 5, 7, 11, 13, 17, 19, 23, 29, 31, 37, 41, 43, 47]\n"
          ]
        }
      ]
    },
    {
      "cell_type": "code",
      "source": [
        "# 32. Create a program that generates a list of all Pythagorean triplets up to a specified limit using list comprehension.\n",
        "\n",
        "# Define the limit for the triplets\n",
        "limit = 30\n",
        "\n",
        "# Generate the list of Pythagorean triplets using list comprehension\n",
        "pythagorean_triplets = [(a, b, c) for a in range(1, limit + 1)\n",
        "                        for b in range(a, limit + 1)\n",
        "                        for c in range(b, limit + 1)\n",
        "                        if a**2 + b**2 == c**2]\n",
        "\n",
        "# Print the list of Pythagorean triplets\n",
        "print(\"Pythagorean triplets:\", pythagorean_triplets)\n"
      ],
      "metadata": {
        "colab": {
          "base_uri": "https://localhost:8080/"
        },
        "id": "gMdYgVxZRPHb",
        "outputId": "6d02ce02-d95a-4a2f-c168-a1d360ca19ee"
      },
      "execution_count": 33,
      "outputs": [
        {
          "output_type": "stream",
          "name": "stdout",
          "text": [
            "Pythagorean triplets: [(3, 4, 5), (5, 12, 13), (6, 8, 10), (7, 24, 25), (8, 15, 17), (9, 12, 15), (10, 24, 26), (12, 16, 20), (15, 20, 25), (18, 24, 30), (20, 21, 29)]\n"
          ]
        }
      ]
    },
    {
      "cell_type": "code",
      "source": [
        "# 33. Develop a program that generates a list of all possible combinations of two lists using list comprehension.\n",
        "\n",
        "# Define two lists\n",
        "list1 = [1, 2, 3]\n",
        "list2 = ['a', 'b', 'c']\n",
        "\n",
        "# Generate all possible combinations using list comprehension\n",
        "combinations = [(x, y) for x in list1 for y in list2]\n",
        "\n",
        "# Print the list of combinations\n",
        "print(\"Combinations:\", combinations)\n"
      ],
      "metadata": {
        "colab": {
          "base_uri": "https://localhost:8080/"
        },
        "id": "hW_mN-wxRRec",
        "outputId": "67703cba-1828-4389-dc9f-1c54d77732ba"
      },
      "execution_count": 34,
      "outputs": [
        {
          "output_type": "stream",
          "name": "stdout",
          "text": [
            "Combinations: [(1, 'a'), (1, 'b'), (1, 'c'), (2, 'a'), (2, 'b'), (2, 'c'), (3, 'a'), (3, 'b'), (3, 'c')]\n"
          ]
        }
      ]
    },
    {
      "cell_type": "code",
      "source": [
        "# 34. Write a program that calculates the mean, median, and mode of a list of numbers using list comprehension.\n",
        "\n",
        "from statistics import mean, median, mode\n",
        "\n",
        "# Define a list of numbers\n",
        "numbers = [1, 2, 2, 3, 4, 4, 4, 5, 6]\n",
        "\n",
        "# Calculate mean using list comprehension\n",
        "mean_value = mean(numbers)\n",
        "\n",
        "# Calculate median using list comprehension\n",
        "median_value = median(numbers)\n",
        "\n",
        "# Calculate mode using list comprehension\n",
        "mode_value = mode(numbers)\n",
        "\n",
        "# Print mean, median, and mode\n",
        "print(\"Mean:\", mean_value)\n",
        "print(\"Median:\", median_value)\n",
        "print(\"Mode:\", mode_value)\n"
      ],
      "metadata": {
        "colab": {
          "base_uri": "https://localhost:8080/"
        },
        "id": "N1HP1v0uRTpk",
        "outputId": "7993917d-2467-48c3-b6dd-342ce6bbea9c"
      },
      "execution_count": 35,
      "outputs": [
        {
          "output_type": "stream",
          "name": "stdout",
          "text": [
            "Mean: 3.4444444444444446\n",
            "Median: 4\n",
            "Mode: 4\n"
          ]
        }
      ]
    },
    {
      "cell_type": "code",
      "source": [
        "# 35. Create a program that generates Pascal's triangle up to a specified number of rows using list comprehension.\n",
        "\n",
        "# Define the number of rows for Pascal's triangle\n",
        "n = 5\n",
        "\n",
        "# Generate Pascal's triangle using list comprehension\n",
        "pascal_triangle = [[1] * (i + 1) for i in range(n)]\n",
        "for i in range(2, n):\n",
        "    for j in range(1, i):\n",
        "        pascal_triangle[i][j] = pascal_triangle[i - 1][j - 1] + pascal_triangle[i - 1][j]\n",
        "\n",
        "# Print Pascal's triangle row by row\n",
        "for row in pascal_triangle:\n",
        "    print(row)\n"
      ],
      "metadata": {
        "colab": {
          "base_uri": "https://localhost:8080/"
        },
        "id": "GjU4jFh1RVn8",
        "outputId": "0074aebf-6356-4765-fd91-68f8d84f25f3"
      },
      "execution_count": 37,
      "outputs": [
        {
          "output_type": "stream",
          "name": "stdout",
          "text": [
            "[1]\n",
            "[1, 1]\n",
            "[1, 2, 1]\n",
            "[1, 3, 3, 1]\n",
            "[1, 4, 6, 4, 1]\n"
          ]
        }
      ]
    },
    {
      "cell_type": "code",
      "source": [
        "# 36. Develop a program that calculates the sum of the digits of a factorial of numbers from 1 to 5 using list comprehension.\n",
        "\n",
        "from math import factorial\n",
        "\n",
        "# Calculate the sum of digits of the factorial for each number from 1 to 5 using list comprehension\n",
        "sum_of_digits_factorials = [sum(int(digit) for digit in str(factorial(num))) for num in range(1, 6)]\n",
        "\n",
        "# Print the list of sums of digits of factorials\n",
        "print(\"Sum of digits of factorials:\", sum_of_digits_factorials)\n"
      ],
      "metadata": {
        "colab": {
          "base_uri": "https://localhost:8080/"
        },
        "id": "OqLjDJoeRX1D",
        "outputId": "cabb968d-4c4c-4a1b-d776-328672c7bd40"
      },
      "execution_count": 38,
      "outputs": [
        {
          "output_type": "stream",
          "name": "stdout",
          "text": [
            "Sum of digits of factorials: [1, 2, 6, 6, 3]\n"
          ]
        }
      ]
    },
    {
      "cell_type": "code",
      "source": [
        "# 37. Write a program that finds the longest word in a sentence using list comprehension.\n",
        "\n",
        "# Define a sentence\n",
        "sentence = \"The quick brown fox jumps over the lazy dog\"\n",
        "\n",
        "# Find the longest word using list comprehension\n",
        "longest_word = max(sentence.split(), key=len)\n",
        "\n",
        "# Print the longest word\n",
        "print(\"Longest word:\", longest_word)\n"
      ],
      "metadata": {
        "colab": {
          "base_uri": "https://localhost:8080/"
        },
        "id": "gLqnzo93RqKa",
        "outputId": "14b63fdc-e712-4484-aded-d3effeac6868"
      },
      "execution_count": 39,
      "outputs": [
        {
          "output_type": "stream",
          "name": "stdout",
          "text": [
            "Longest word: quick\n"
          ]
        }
      ]
    },
    {
      "cell_type": "code",
      "source": [
        "# 38. Create a program that filters a list of strings to include only those with more than three vowels using list comprehension.\n",
        "\n",
        "# Define a list of strings\n",
        "strings = [\"apple\", \"banana\", \"cherry\", \"date\", \"elderberry\"]\n",
        "\n",
        "# Define a function to count vowels in a string\n",
        "def count_vowels(word):\n",
        "    return sum(1 for char in word if char in 'aeiouAEIOU')\n",
        "\n",
        "# Filter strings with more than three vowels using list comprehension\n",
        "filtered_strings = [word for word in strings if count_vowels(word) > 3]\n",
        "\n",
        "# Print the filtered list of strings\n",
        "print(\"Strings with more than three vowels:\", filtered_strings)\n"
      ],
      "metadata": {
        "colab": {
          "base_uri": "https://localhost:8080/"
        },
        "id": "1vbdDFpaRr4c",
        "outputId": "b7550be7-ee91-4206-9fe5-1b896efad43a"
      },
      "execution_count": 40,
      "outputs": [
        {
          "output_type": "stream",
          "name": "stdout",
          "text": [
            "Strings with more than three vowels: []\n"
          ]
        }
      ]
    },
    {
      "cell_type": "code",
      "source": [
        "# 39. Develop a program that calculates the sum of the digits of numbers from 1 to 1000 using list comprehension.\n",
        "\n",
        "# Calculate the sum of digits for each number from 1 to 1000 using list comprehension\n",
        "sum_of_digits = sum([sum(int(digit) for digit in str(num)) for num in range(1, 1001)])\n",
        "\n",
        "# Print the total sum of digits\n",
        "print(\"Sum of digits from 1 to 1000:\", sum_of_digits)\n"
      ],
      "metadata": {
        "colab": {
          "base_uri": "https://localhost:8080/"
        },
        "id": "93qczVxoRtsc",
        "outputId": "a3d200b1-133d-45bd-fbf0-958e8bc3eb1c"
      },
      "execution_count": 41,
      "outputs": [
        {
          "output_type": "stream",
          "name": "stdout",
          "text": [
            "Sum of digits from 1 to 1000: 13501\n"
          ]
        }
      ]
    },
    {
      "cell_type": "code",
      "source": [
        "# 40. Write a program that generates a list of prime palindromic numbers using list comprehension.\n",
        "\n",
        "# Define the limit for prime palindromic numbers\n",
        "limit = 1000\n",
        "\n",
        "# Define a function to check if a number is prime\n",
        "def is_prime(n):\n",
        "    if n < 2:\n",
        "        return False\n",
        "    for i in range(2, int(n ** 0.5) + 1):\n",
        "        if n % i == 0:\n",
        "            return False\n",
        "    return True\n",
        "\n",
        "# Generate the list of prime palindromic numbers using list comprehension\n",
        "prime_palindromic_numbers = [num for num in range(2, limit + 1) if str(num) == str(num)[::-1] and is_prime(num)]\n",
        "\n",
        "# Print the list of prime palindromic numbers\n",
        "print(\"Prime palindromic numbers:\", prime_palindromic_numbers)\n"
      ],
      "metadata": {
        "colab": {
          "base_uri": "https://localhost:8080/"
        },
        "id": "R95a5LgURwTe",
        "outputId": "b7fd9c30-86f8-4677-f3c4-6b295341ff25"
      },
      "execution_count": 42,
      "outputs": [
        {
          "output_type": "stream",
          "name": "stdout",
          "text": [
            "Prime palindromic numbers: [2, 3, 5, 7, 11, 101, 131, 151, 181, 191, 313, 353, 373, 383, 727, 757, 787, 797, 919, 929]\n"
          ]
        }
      ]
    },
    {
      "cell_type": "code",
      "source": [],
      "metadata": {
        "id": "OzcFJa9LRyl-"
      },
      "execution_count": null,
      "outputs": []
    }
  ]
}